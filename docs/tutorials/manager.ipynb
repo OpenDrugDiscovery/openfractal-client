{
 "cells": [
  {
   "cell_type": "markdown",
   "id": "6fb65272-89e9-4f24-bde5-801a44e27419",
   "metadata": {},
   "source": [
    "In this tutorial, you'll learn how to execute a QM manager and monitor it."
   ]
  },
  {
   "cell_type": "code",
   "execution_count": 2,
   "id": "f3364324-9975-4ce5-964d-50b120342f0c",
   "metadata": {},
   "outputs": [
    {
     "name": "stdout",
     "output_type": "stream",
     "text": [
      "The autoreload extension is already loaded. To reload it, use:\n",
      "  %reload_ext autoreload\n"
     ]
    }
   ],
   "source": [
    "%load_ext autoreload\n",
    "%autoreload 2\n",
    "\n",
    "import os\n",
    "import dotenv\n",
    "\n",
    "import pandas as pd\n",
    "\n",
    "import qcelemental as qcel\n",
    "from qcportal import PortalClient\n",
    "\n",
    "_ = dotenv.load_dotenv(\"../../openfractal_test_secrets.env\")"
   ]
  },
  {
   "cell_type": "markdown",
   "id": "26b21668-89e4-4ddb-8721-635e246d2c58",
   "metadata": {},
   "source": [
    "## Launch a manager\n",
    "\n",
    "A manager is a QM worker that will perform any QM calculations provided by an Openfractal instance."
   ]
  },
  {
   "cell_type": "code",
   "execution_count": null,
   "id": "d1dccc98-c783-49f7-a6bd-25364dfca6b1",
   "metadata": {},
   "outputs": [],
   "source": []
  },
  {
   "cell_type": "code",
   "execution_count": 6,
   "id": "bcbad667-4dd8-4d33-adb1-906df6156a2e",
   "metadata": {},
   "outputs": [],
   "source": [
    "##"
   ]
  },
  {
   "cell_type": "code",
   "execution_count": 3,
   "id": "aadb9712-5c81-4e63-8541-3b5a0443ddab",
   "metadata": {},
   "outputs": [
    {
     "data": {
      "text/plain": [
       "{'name': 'openfractal-test',\n",
       " 'manager_heartbeat_frequency': 10,\n",
       " 'manager_heartbeat_max_missed': 5,\n",
       " 'version': '0.50b11.post13+gc0062725',\n",
       " 'api_limits': {'get_records': 1000,\n",
       "  'add_records': 500,\n",
       "  'get_dataset_entries': 2000,\n",
       "  'get_molecules': 1000,\n",
       "  'add_molecules': 1000,\n",
       "  'get_managers': 1000,\n",
       "  'manager_tasks_claim': 200,\n",
       "  'manager_tasks_return': 10,\n",
       "  'get_server_stats': 25,\n",
       "  'get_access_logs': 1000,\n",
       "  'get_error_logs': 100,\n",
       "  'get_internal_jobs': 1000},\n",
       " 'client_version_lower_limit': '0.50b11',\n",
       " 'client_version_upper_limit': '1',\n",
       " 'manager_version_lower_limit': '0.50b11',\n",
       " 'manager_version_upper_limit': '1',\n",
       " 'motd': ''}"
      ]
     },
     "execution_count": 3,
     "metadata": {},
     "output_type": "execute_result"
    }
   ],
   "source": [
    "client = PortalClient(\n",
    "    address=\"https://openfractal-test-pgzbs3yryq-uc.a.run.app\",\n",
    "    username=os.environ[\"OPENFRACTAL_USER_2_USERNAME\"],\n",
    "    password=os.environ[\"OPENFRACTAL_USER_2_PASSWORD\"],\n",
    ")\n",
    "\n",
    "client.server_info"
   ]
  },
  {
   "cell_type": "code",
   "execution_count": 3,
   "id": "cea4cf5e-a00c-4f40-8ec9-fe790f312e6f",
   "metadata": {},
   "outputs": [
    {
     "ename": "PortalRequestError",
     "evalue": "Request failed: Could not find singlepoint dataset with name 'dataset_1' (HTTP status 400)",
     "output_type": "error",
     "traceback": [
      "\u001b[0;31m---------------------------------------------------------------------------\u001b[0m",
      "\u001b[0;31mPortalRequestError\u001b[0m                        Traceback (most recent call last)",
      "Cell \u001b[0;32mIn[3], line 1\u001b[0m\n\u001b[0;32m----> 1\u001b[0m client\u001b[38;5;241m.\u001b[39mdelete_dataset(\u001b[43mclient\u001b[49m\u001b[38;5;241;43m.\u001b[39;49m\u001b[43mget_dataset\u001b[49m\u001b[43m(\u001b[49m\u001b[38;5;124;43m\"\u001b[39;49m\u001b[38;5;124;43msinglepoint\u001b[39;49m\u001b[38;5;124;43m\"\u001b[39;49m\u001b[43m,\u001b[49m\u001b[43m \u001b[49m\u001b[38;5;124;43m\"\u001b[39;49m\u001b[38;5;124;43mdataset_1\u001b[39;49m\u001b[38;5;124;43m\"\u001b[39;49m\u001b[43m)\u001b[49m\u001b[38;5;241m.\u001b[39mid, delete_records\u001b[38;5;241m=\u001b[39m\u001b[38;5;28;01mTrue\u001b[39;00m)\n",
      "File \u001b[0;32m~/local/micromamba/envs/openfractal/lib/python3.11/site-packages/qcportal/client.py:282\u001b[0m, in \u001b[0;36mPortalClient.get_dataset\u001b[0;34m(self, dataset_type, dataset_name)\u001b[0m\n\u001b[1;32m    279\u001b[0m \u001b[38;5;28;01mdef\u001b[39;00m \u001b[38;5;21mget_dataset\u001b[39m(\u001b[38;5;28mself\u001b[39m, dataset_type: \u001b[38;5;28mstr\u001b[39m, dataset_name: \u001b[38;5;28mstr\u001b[39m):\n\u001b[1;32m    281\u001b[0m     body \u001b[38;5;241m=\u001b[39m DatasetQueryModel(dataset_name\u001b[38;5;241m=\u001b[39mdataset_name, dataset_type\u001b[38;5;241m=\u001b[39mdataset_type)\n\u001b[0;32m--> 282\u001b[0m     ds \u001b[38;5;241m=\u001b[39m \u001b[38;5;28;43mself\u001b[39;49m\u001b[38;5;241;43m.\u001b[39;49m\u001b[43mmake_request\u001b[49m\u001b[43m(\u001b[49m\u001b[38;5;124;43m\"\u001b[39;49m\u001b[38;5;124;43mpost\u001b[39;49m\u001b[38;5;124;43m\"\u001b[39;49m\u001b[43m,\u001b[49m\u001b[43m \u001b[49m\u001b[38;5;124;43mf\u001b[39;49m\u001b[38;5;124;43m\"\u001b[39;49m\u001b[38;5;124;43mv1/datasets/query\u001b[39;49m\u001b[38;5;124;43m\"\u001b[39;49m\u001b[43m,\u001b[49m\u001b[43m \u001b[49m\u001b[43mDict\u001b[49m\u001b[43m[\u001b[49m\u001b[38;5;28;43mstr\u001b[39;49m\u001b[43m,\u001b[49m\u001b[43m \u001b[49m\u001b[43mAny\u001b[49m\u001b[43m]\u001b[49m\u001b[43m,\u001b[49m\u001b[43m \u001b[49m\u001b[43mbody\u001b[49m\u001b[38;5;241;43m=\u001b[39;49m\u001b[43mbody\u001b[49m\u001b[43m)\u001b[49m\n\u001b[1;32m    284\u001b[0m     \u001b[38;5;28;01mreturn\u001b[39;00m dataset_from_dict(ds, \u001b[38;5;28mself\u001b[39m)\n",
      "File \u001b[0;32m~/local/micromamba/envs/openfractal/lib/python3.11/site-packages/qcportal/client_base.py:322\u001b[0m, in \u001b[0;36mPortalClientBase.make_request\u001b[0;34m(self, method, endpoint, response_model, body_model, url_params_model, body, url_params)\u001b[0m\n\u001b[1;32m    319\u001b[0m \u001b[38;5;28;01mif\u001b[39;00m \u001b[38;5;28misinstance\u001b[39m(parsed_url_params, pydantic\u001b[38;5;241m.\u001b[39mBaseModel):\n\u001b[1;32m    320\u001b[0m     parsed_url_params \u001b[38;5;241m=\u001b[39m parsed_url_params\u001b[38;5;241m.\u001b[39mdict()\n\u001b[0;32m--> 322\u001b[0m r \u001b[38;5;241m=\u001b[39m \u001b[38;5;28;43mself\u001b[39;49m\u001b[38;5;241;43m.\u001b[39;49m\u001b[43m_request\u001b[49m\u001b[43m(\u001b[49m\u001b[43mmethod\u001b[49m\u001b[43m,\u001b[49m\u001b[43m \u001b[49m\u001b[43mendpoint\u001b[49m\u001b[43m,\u001b[49m\u001b[43m \u001b[49m\u001b[43mbody\u001b[49m\u001b[38;5;241;43m=\u001b[39;49m\u001b[43mserialized_body\u001b[49m\u001b[43m,\u001b[49m\u001b[43m \u001b[49m\u001b[43murl_params\u001b[49m\u001b[38;5;241;43m=\u001b[39;49m\u001b[43mparsed_url_params\u001b[49m\u001b[43m)\u001b[49m\n\u001b[1;32m    323\u001b[0m d \u001b[38;5;241m=\u001b[39m deserialize(r\u001b[38;5;241m.\u001b[39mcontent, r\u001b[38;5;241m.\u001b[39mheaders[\u001b[38;5;124m\"\u001b[39m\u001b[38;5;124mContent-Type\u001b[39m\u001b[38;5;124m\"\u001b[39m])\n\u001b[1;32m    325\u001b[0m \u001b[38;5;28;01mif\u001b[39;00m response_model \u001b[38;5;129;01mis\u001b[39;00m \u001b[38;5;28;01mNone\u001b[39;00m:\n",
      "File \u001b[0;32m~/local/micromamba/envs/openfractal/lib/python3.11/site-packages/qcportal/client_base.py:287\u001b[0m, in \u001b[0;36mPortalClientBase._request\u001b[0;34m(self, method, endpoint, body, url_params, retry)\u001b[0m\n\u001b[1;32m    282\u001b[0m     \u001b[38;5;28;01mexcept\u001b[39;00m:\n\u001b[1;32m    283\u001b[0m         \u001b[38;5;66;03m# If this error comes from, ie, the web server or something else, then\u001b[39;00m\n\u001b[1;32m    284\u001b[0m         \u001b[38;5;66;03m# we have to use 'reason'\u001b[39;00m\n\u001b[1;32m    285\u001b[0m         details \u001b[38;5;241m=\u001b[39m {\u001b[38;5;124m\"\u001b[39m\u001b[38;5;124mmsg\u001b[39m\u001b[38;5;124m\"\u001b[39m: r\u001b[38;5;241m.\u001b[39mreason}\n\u001b[0;32m--> 287\u001b[0m     \u001b[38;5;28;01mraise\u001b[39;00m PortalRequestError(\u001b[38;5;124mf\u001b[39m\u001b[38;5;124m\"\u001b[39m\u001b[38;5;124mRequest failed: \u001b[39m\u001b[38;5;132;01m{\u001b[39;00mdetails[\u001b[38;5;124m'\u001b[39m\u001b[38;5;124mmsg\u001b[39m\u001b[38;5;124m'\u001b[39m]\u001b[38;5;132;01m}\u001b[39;00m\u001b[38;5;124m\"\u001b[39m, r\u001b[38;5;241m.\u001b[39mstatus_code, details)\n\u001b[1;32m    289\u001b[0m \u001b[38;5;28;01mreturn\u001b[39;00m r\n",
      "\u001b[0;31mPortalRequestError\u001b[0m: Request failed: Could not find singlepoint dataset with name 'dataset_1' (HTTP status 400)"
     ]
    }
   ],
   "source": [
    "# client.delete_dataset(client.get_dataset(\"singlepoint\", \"dataset_1\").id, delete_records=True)"
   ]
  },
  {
   "cell_type": "code",
   "execution_count": 4,
   "id": "c61d43e0-baa4-4169-a0a4-1524f08da17e",
   "metadata": {},
   "outputs": [
    {
     "data": {
      "text/html": [
       "<div>\n",
       "<style scoped>\n",
       "    .dataframe tbody tr th:only-of-type {\n",
       "        vertical-align: middle;\n",
       "    }\n",
       "\n",
       "    .dataframe tbody tr th {\n",
       "        vertical-align: top;\n",
       "    }\n",
       "\n",
       "    .dataframe thead th {\n",
       "        text-align: right;\n",
       "    }\n",
       "</style>\n",
       "<table border=\"1\" class=\"dataframe\">\n",
       "  <thead>\n",
       "    <tr style=\"text-align: right;\">\n",
       "      <th></th>\n",
       "      <th>id</th>\n",
       "      <th>name</th>\n",
       "      <th>cluster</th>\n",
       "      <th>hostname</th>\n",
       "      <th>username</th>\n",
       "      <th>tags</th>\n",
       "      <th>claimed</th>\n",
       "      <th>successes</th>\n",
       "      <th>failures</th>\n",
       "      <th>rejected</th>\n",
       "      <th>total_cpu_hours</th>\n",
       "      <th>active_tasks</th>\n",
       "      <th>active_cores</th>\n",
       "      <th>active_memory</th>\n",
       "      <th>status</th>\n",
       "      <th>created_on</th>\n",
       "      <th>modified_on</th>\n",
       "      <th>manager_version</th>\n",
       "      <th>programs</th>\n",
       "      <th>log_</th>\n",
       "    </tr>\n",
       "  </thead>\n",
       "  <tbody>\n",
       "    <tr>\n",
       "      <th>0</th>\n",
       "      <td>4</td>\n",
       "      <td>manager_dev_local_hadrien-gollum-a3d65573-b92f...</td>\n",
       "      <td>manager_dev_local_hadrien</td>\n",
       "      <td>gollum</td>\n",
       "      <td>compute_default</td>\n",
       "      <td>[*]</td>\n",
       "      <td>35</td>\n",
       "      <td>34</td>\n",
       "      <td>1</td>\n",
       "      <td>0</td>\n",
       "      <td>1.405338</td>\n",
       "      <td>1</td>\n",
       "      <td>32</td>\n",
       "      <td>16.0</td>\n",
       "      <td>ManagerStatusEnum.inactive</td>\n",
       "      <td>2023-06-04 23:22:53.716347</td>\n",
       "      <td>2023-06-04 23:28:23.537207</td>\n",
       "      <td>0.50b11.post11+g27042bda</td>\n",
       "      <td>{'qcengine': ['v0.26.0'], 'rdkit': ['unknown']...</td>\n",
       "      <td>None</td>\n",
       "    </tr>\n",
       "    <tr>\n",
       "      <th>1</th>\n",
       "      <td>3</td>\n",
       "      <td>manager_dev_local_hadrien-gollum-67ab44c1-7036...</td>\n",
       "      <td>manager_dev_local_hadrien</td>\n",
       "      <td>gollum</td>\n",
       "      <td>compute_default</td>\n",
       "      <td>[*]</td>\n",
       "      <td>9</td>\n",
       "      <td>6</td>\n",
       "      <td>0</td>\n",
       "      <td>0</td>\n",
       "      <td>0.109344</td>\n",
       "      <td>1</td>\n",
       "      <td>16</td>\n",
       "      <td>16.0</td>\n",
       "      <td>ManagerStatusEnum.inactive</td>\n",
       "      <td>2023-06-04 23:21:50.713754</td>\n",
       "      <td>2023-06-04 23:22:21.191079</td>\n",
       "      <td>0.50b11.post11+g27042bda</td>\n",
       "      <td>{'qcengine': ['v0.26.0'], 'psi4': ['unknown'],...</td>\n",
       "      <td>None</td>\n",
       "    </tr>\n",
       "    <tr>\n",
       "      <th>2</th>\n",
       "      <td>2</td>\n",
       "      <td>manager_dev_local_hadrien-gollum-2d6e39c2-2f0b...</td>\n",
       "      <td>manager_dev_local_hadrien</td>\n",
       "      <td>gollum</td>\n",
       "      <td>compute_default</td>\n",
       "      <td>[*]</td>\n",
       "      <td>43</td>\n",
       "      <td>42</td>\n",
       "      <td>1</td>\n",
       "      <td>0</td>\n",
       "      <td>0.774262</td>\n",
       "      <td>1</td>\n",
       "      <td>16</td>\n",
       "      <td>16.0</td>\n",
       "      <td>ManagerStatusEnum.inactive</td>\n",
       "      <td>2023-06-04 23:17:07.118017</td>\n",
       "      <td>2023-06-04 23:22:25.935196</td>\n",
       "      <td>0.50b11.post11+g27042bda</td>\n",
       "      <td>{'qcengine': ['v0.26.0'], 'rdkit': ['unknown']...</td>\n",
       "      <td>None</td>\n",
       "    </tr>\n",
       "    <tr>\n",
       "      <th>3</th>\n",
       "      <td>1</td>\n",
       "      <td>manager_dev_local_hadrien-gollum-9330bccc-72f3...</td>\n",
       "      <td>manager_dev_local_hadrien</td>\n",
       "      <td>gollum</td>\n",
       "      <td>compute_default</td>\n",
       "      <td>[*]</td>\n",
       "      <td>20</td>\n",
       "      <td>16</td>\n",
       "      <td>0</td>\n",
       "      <td>0</td>\n",
       "      <td>0.219662</td>\n",
       "      <td>2</td>\n",
       "      <td>16</td>\n",
       "      <td>16.0</td>\n",
       "      <td>ManagerStatusEnum.inactive</td>\n",
       "      <td>2023-06-04 23:15:16.223028</td>\n",
       "      <td>2023-06-04 23:16:55.645437</td>\n",
       "      <td>0.50b11.post11+g27042bda</td>\n",
       "      <td>{'qcengine': ['v0.26.0'], 'rdkit': ['unknown']...</td>\n",
       "      <td>None</td>\n",
       "    </tr>\n",
       "  </tbody>\n",
       "</table>\n",
       "</div>"
      ],
      "text/plain": [
       "   id                                               name  \\\n",
       "0   4  manager_dev_local_hadrien-gollum-a3d65573-b92f...   \n",
       "1   3  manager_dev_local_hadrien-gollum-67ab44c1-7036...   \n",
       "2   2  manager_dev_local_hadrien-gollum-2d6e39c2-2f0b...   \n",
       "3   1  manager_dev_local_hadrien-gollum-9330bccc-72f3...   \n",
       "\n",
       "                     cluster hostname         username tags  claimed  \\\n",
       "0  manager_dev_local_hadrien   gollum  compute_default  [*]       35   \n",
       "1  manager_dev_local_hadrien   gollum  compute_default  [*]        9   \n",
       "2  manager_dev_local_hadrien   gollum  compute_default  [*]       43   \n",
       "3  manager_dev_local_hadrien   gollum  compute_default  [*]       20   \n",
       "\n",
       "   successes  failures  rejected  total_cpu_hours  active_tasks  active_cores  \\\n",
       "0         34         1         0         1.405338             1            32   \n",
       "1          6         0         0         0.109344             1            16   \n",
       "2         42         1         0         0.774262             1            16   \n",
       "3         16         0         0         0.219662             2            16   \n",
       "\n",
       "   active_memory                      status                 created_on  \\\n",
       "0           16.0  ManagerStatusEnum.inactive 2023-06-04 23:22:53.716347   \n",
       "1           16.0  ManagerStatusEnum.inactive 2023-06-04 23:21:50.713754   \n",
       "2           16.0  ManagerStatusEnum.inactive 2023-06-04 23:17:07.118017   \n",
       "3           16.0  ManagerStatusEnum.inactive 2023-06-04 23:15:16.223028   \n",
       "\n",
       "                 modified_on           manager_version  \\\n",
       "0 2023-06-04 23:28:23.537207  0.50b11.post11+g27042bda   \n",
       "1 2023-06-04 23:22:21.191079  0.50b11.post11+g27042bda   \n",
       "2 2023-06-04 23:22:25.935196  0.50b11.post11+g27042bda   \n",
       "3 2023-06-04 23:16:55.645437  0.50b11.post11+g27042bda   \n",
       "\n",
       "                                            programs  log_  \n",
       "0  {'qcengine': ['v0.26.0'], 'rdkit': ['unknown']...  None  \n",
       "1  {'qcengine': ['v0.26.0'], 'psi4': ['unknown'],...  None  \n",
       "2  {'qcengine': ['v0.26.0'], 'rdkit': ['unknown']...  None  \n",
       "3  {'qcengine': ['v0.26.0'], 'rdkit': ['unknown']...  None  "
      ]
     },
     "execution_count": 4,
     "metadata": {},
     "output_type": "execute_result"
    }
   ],
   "source": [
    "# Check connected compute managers (workers)\n",
    "managers = pd.DataFrame([m.dict() for m in client.query_managers()])\n",
    "managers"
   ]
  },
  {
   "cell_type": "code",
   "execution_count": null,
   "id": "156f13ea-6786-4df7-adb2-a72d73c50d2c",
   "metadata": {},
   "outputs": [],
   "source": []
  }
 ],
 "metadata": {
  "kernelspec": {
   "display_name": "Python [conda env:openfractal]",
   "language": "python",
   "name": "conda-env-openfractal-py"
  },
  "language_info": {
   "codemirror_mode": {
    "name": "ipython",
    "version": 3
   },
   "file_extension": ".py",
   "mimetype": "text/x-python",
   "name": "python",
   "nbconvert_exporter": "python",
   "pygments_lexer": "ipython3",
   "version": "3.10.11"
  },
  "widgets": {
   "application/vnd.jupyter.widget-state+json": {
    "state": {},
    "version_major": 2,
    "version_minor": 0
   }
  }
 },
 "nbformat": 4,
 "nbformat_minor": 5
}
