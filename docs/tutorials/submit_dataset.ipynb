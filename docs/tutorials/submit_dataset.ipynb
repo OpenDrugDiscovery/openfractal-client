{
 "cells": [
  {
   "cell_type": "markdown",
   "id": "da44cd8e-57cd-4f53-b49e-c308b1f91a81",
   "metadata": {},
   "source": [
    "In this tutorial you'll learn how to submit a dataset to a QCFractal instance (also called backend or server)."
   ]
  },
  {
   "cell_type": "code",
   "execution_count": 1,
   "id": "f3364324-9975-4ce5-964d-50b120342f0c",
   "metadata": {},
   "outputs": [],
   "source": [
    "import os\n",
    "import dotenv\n",
    "import random\n",
    "\n",
    "from tqdm.auto import tqdm\n",
    "\n",
    "import datamol as dm\n",
    "import pandas as pd\n",
    "\n",
    "from openff.toolkit import Molecule\n",
    "\n",
    "import qcelemental as qcel\n",
    "\n",
    "from qcportal import PortalClient\n",
    "from qcportal.record_models import PriorityEnum\n",
    "\n",
    "from qcportal.singlepoint.dataset_models import SinglepointDatasetNewEntry\n",
    "from qcportal.singlepoint.record_models import QCSpecification\n",
    "from qcportal.singlepoint.record_models import SinglepointDriver\n",
    "\n",
    "_ = dotenv.load_dotenv(\"../../openfractal_test_secrets.env\")"
   ]
  },
  {
   "cell_type": "markdown",
   "id": "a25a44de-8b4e-4d0d-bae0-83c9051cf95c",
   "metadata": {},
   "source": [
    "Login to the instance by initializing a `PortalClient` object."
   ]
  },
  {
   "cell_type": "markdown",
   "id": "e597d676-400e-4a0e-926f-84d74ca8c7f6",
   "metadata": {},
   "source": [
    "## Prepare the dataset"
   ]
  },
  {
   "cell_type": "markdown",
   "id": "4278baa8-ba31-4199-99be-406975157cdd",
   "metadata": {},
   "source": [
    "First we pull a random subset of `datamol.data.freesolv()`, create `openff.Molecule` objects from it and generate one conformer per molecule."
   ]
  },
  {
   "cell_type": "code",
   "execution_count": 2,
   "id": "aac18d1e-f370-4edb-9731-1d4bfc4fef60",
   "metadata": {},
   "outputs": [
    {
     "data": {
      "application/vnd.jupyter.widget-view+json": {
       "model_id": "",
       "version_major": 2,
       "version_minor": 0
      },
      "text/plain": [
       "  0%|          | 0/10 [00:00<?, ?it/s]"
      ]
     },
     "metadata": {},
     "output_type": "display_data"
    },
    {
     "data": {
      "text/html": [
       "<div>\n",
       "<style scoped>\n",
       "    .dataframe tbody tr th:only-of-type {\n",
       "        vertical-align: middle;\n",
       "    }\n",
       "\n",
       "    .dataframe tbody tr th {\n",
       "        vertical-align: top;\n",
       "    }\n",
       "\n",
       "    .dataframe thead th {\n",
       "        text-align: right;\n",
       "    }\n",
       "</style>\n",
       "<table border=\"1\" class=\"dataframe\">\n",
       "  <thead>\n",
       "    <tr style=\"text-align: right;\">\n",
       "      <th></th>\n",
       "      <th>iupac</th>\n",
       "      <th>smiles</th>\n",
       "      <th>expt</th>\n",
       "      <th>calc</th>\n",
       "      <th>mol</th>\n",
       "    </tr>\n",
       "  </thead>\n",
       "  <tbody>\n",
       "    <tr>\n",
       "      <th>0</th>\n",
       "      <td>methyl 2,2,2-trifluoroacetate</td>\n",
       "      <td>COC(=O)C(F)(F)F</td>\n",
       "      <td>-1.10</td>\n",
       "      <td>-1.353</td>\n",
       "      <td>Molecule with name '' and SMILES '[H][C]([H])(...</td>\n",
       "    </tr>\n",
       "    <tr>\n",
       "      <th>1</th>\n",
       "      <td>1,2-dinitroxypropane</td>\n",
       "      <td>C[C@@H](CO[N+](=O)[O-])O[N+](=O)[O-]</td>\n",
       "      <td>-4.95</td>\n",
       "      <td>-5.646</td>\n",
       "      <td>Molecule with name '' and SMILES '[H][C]([H])(...</td>\n",
       "    </tr>\n",
       "    <tr>\n",
       "      <th>2</th>\n",
       "      <td>butan-1-amine</td>\n",
       "      <td>CCCCN</td>\n",
       "      <td>-4.24</td>\n",
       "      <td>-2.961</td>\n",
       "      <td>Molecule with name '' and SMILES '[H][N]([H])[...</td>\n",
       "    </tr>\n",
       "    <tr>\n",
       "      <th>3</th>\n",
       "      <td>alachlor</td>\n",
       "      <td>CCc1cccc(c1N(COC)C(=O)CCl)CC</td>\n",
       "      <td>-8.21</td>\n",
       "      <td>-6.851</td>\n",
       "      <td>Molecule with name '' and SMILES '[H][c]1[c]([...</td>\n",
       "    </tr>\n",
       "    <tr>\n",
       "      <th>4</th>\n",
       "      <td>trimethoxymethylbenzene</td>\n",
       "      <td>COC(c1ccccc1)(OC)OC</td>\n",
       "      <td>-4.04</td>\n",
       "      <td>-5.559</td>\n",
       "      <td>Molecule with name '' and SMILES '[H][c]1[c]([...</td>\n",
       "    </tr>\n",
       "    <tr>\n",
       "      <th>5</th>\n",
       "      <td>chlorobenzene</td>\n",
       "      <td>c1ccc(cc1)Cl</td>\n",
       "      <td>-1.12</td>\n",
       "      <td>-0.475</td>\n",
       "      <td>Molecule with name '' and SMILES '[H][c]1[c]([...</td>\n",
       "    </tr>\n",
       "    <tr>\n",
       "      <th>6</th>\n",
       "      <td>cyclohexanol</td>\n",
       "      <td>C1CCC(CC1)O</td>\n",
       "      <td>-5.46</td>\n",
       "      <td>-4.178</td>\n",
       "      <td>Molecule with name '' and SMILES '[H][O][C]1([...</td>\n",
       "    </tr>\n",
       "    <tr>\n",
       "      <th>7</th>\n",
       "      <td>2-[(1R)-1-methylpropyl]-4,6-dinitro-phenolate</td>\n",
       "      <td>CC[C@@H](C)c1cc(cc(c1O)[N+](=O)[O-])[N+](=O)[O-]</td>\n",
       "      <td>-6.23</td>\n",
       "      <td>-5.378</td>\n",
       "      <td>Molecule with name '' and SMILES '[H][O][c]1[c...</td>\n",
       "    </tr>\n",
       "    <tr>\n",
       "      <th>8</th>\n",
       "      <td>ethanamine</td>\n",
       "      <td>CCN</td>\n",
       "      <td>-4.50</td>\n",
       "      <td>-3.156</td>\n",
       "      <td>Molecule with name '' and SMILES '[H][N]([H])[...</td>\n",
       "    </tr>\n",
       "    <tr>\n",
       "      <th>9</th>\n",
       "      <td>butan-1-ol</td>\n",
       "      <td>CCCCO</td>\n",
       "      <td>-4.72</td>\n",
       "      <td>-3.232</td>\n",
       "      <td>Molecule with name '' and SMILES '[H][O][C]([H...</td>\n",
       "    </tr>\n",
       "  </tbody>\n",
       "</table>\n",
       "</div>"
      ],
      "text/plain": [
       "                                           iupac  \\\n",
       "0                  methyl 2,2,2-trifluoroacetate   \n",
       "1                           1,2-dinitroxypropane   \n",
       "2                                  butan-1-amine   \n",
       "3                                       alachlor   \n",
       "4                        trimethoxymethylbenzene   \n",
       "5                                  chlorobenzene   \n",
       "6                                   cyclohexanol   \n",
       "7  2-[(1R)-1-methylpropyl]-4,6-dinitro-phenolate   \n",
       "8                                     ethanamine   \n",
       "9                                     butan-1-ol   \n",
       "\n",
       "                                             smiles  expt   calc  \\\n",
       "0                                   COC(=O)C(F)(F)F -1.10 -1.353   \n",
       "1              C[C@@H](CO[N+](=O)[O-])O[N+](=O)[O-] -4.95 -5.646   \n",
       "2                                             CCCCN -4.24 -2.961   \n",
       "3                      CCc1cccc(c1N(COC)C(=O)CCl)CC -8.21 -6.851   \n",
       "4                               COC(c1ccccc1)(OC)OC -4.04 -5.559   \n",
       "5                                      c1ccc(cc1)Cl -1.12 -0.475   \n",
       "6                                       C1CCC(CC1)O -5.46 -4.178   \n",
       "7  CC[C@@H](C)c1cc(cc(c1O)[N+](=O)[O-])[N+](=O)[O-] -6.23 -5.378   \n",
       "8                                               CCN -4.50 -3.156   \n",
       "9                                             CCCCO -4.72 -3.232   \n",
       "\n",
       "                                                 mol  \n",
       "0  Molecule with name '' and SMILES '[H][C]([H])(...  \n",
       "1  Molecule with name '' and SMILES '[H][C]([H])(...  \n",
       "2  Molecule with name '' and SMILES '[H][N]([H])[...  \n",
       "3  Molecule with name '' and SMILES '[H][c]1[c]([...  \n",
       "4  Molecule with name '' and SMILES '[H][c]1[c]([...  \n",
       "5  Molecule with name '' and SMILES '[H][c]1[c]([...  \n",
       "6  Molecule with name '' and SMILES '[H][O][C]1([...  \n",
       "7  Molecule with name '' and SMILES '[H][O][c]1[c...  \n",
       "8  Molecule with name '' and SMILES '[H][N]([H])[...  \n",
       "9  Molecule with name '' and SMILES '[H][O][C]([H...  "
      ]
     },
     "execution_count": 2,
     "metadata": {},
     "output_type": "execute_result"
    }
   ],
   "source": [
    "def get_toy_molecules(\n",
    "    n_molecules: int = 10,\n",
    "    progress: bool = True,\n",
    "    progress_leave: bool = False,\n",
    "):\n",
    "    # Get some data\n",
    "    data = dm.data.freesolv()\n",
    "    data = data.sample(n=n_molecules)\n",
    "\n",
    "    def _process(smiles):\n",
    "        # Convert to OFF mol\n",
    "        mol = Molecule.from_smiles(smiles)\n",
    "        assert mol is not None\n",
    "\n",
    "        # Generate a conformer\n",
    "        mol.generate_conformers(n_conformers=1)\n",
    "\n",
    "        return mol\n",
    "\n",
    "    # Generate conformers\n",
    "    data[\"mol\"] = dm.parallelized(\n",
    "        _process,\n",
    "        data[\"smiles\"],\n",
    "        progress=progress,\n",
    "        tqdm_kwargs=dict(leave=progress_leave),\n",
    "    )\n",
    "\n",
    "    data = data.reset_index(drop=True)\n",
    "    return data\n",
    "\n",
    "\n",
    "data = get_toy_molecules(n_molecules=10)\n",
    "\n",
    "data"
   ]
  },
  {
   "cell_type": "markdown",
   "id": "90f63924-9e76-46b5-a123-66b816f94bfc",
   "metadata": {},
   "source": [
    "## Initialize the `PortalClient`"
   ]
  },
  {
   "cell_type": "markdown",
   "id": "abb8d2e0-327a-4588-a2e8-f33c9db496ce",
   "metadata": {},
   "source": [
    "The client object will allow to interact with any QCfractal instance."
   ]
  },
  {
   "cell_type": "code",
   "execution_count": 3,
   "id": "2725497c-9c28-4ac5-a7c3-d87462c922bf",
   "metadata": {},
   "outputs": [
    {
     "data": {
      "text/html": [
       "\n",
       "<h3>PortalClient</h3>\n",
       "<ul>\n",
       "<li><b>Server:   &nbsp; </b>openfractal-test</li>\n",
       "<li><b>Address:  &nbsp; </b>https://openfractal-test-pgzbs3yryq-uc.a.run.app/</li>\n",
       "<li><b>Username: &nbsp; </b>admin_default</li>\n",
       "</ul>\n"
      ],
      "text/plain": [
       "PortalClient(server_name='openfractal-test', address='https://openfractal-test-pgzbs3yryq-uc.a.run.app/', username='admin_default')"
      ]
     },
     "execution_count": 3,
     "metadata": {},
     "output_type": "execute_result"
    }
   ],
   "source": [
    "client = PortalClient(\n",
    "    address=\"https://openfractal-test-pgzbs3yryq-uc.a.run.app\",\n",
    "    username=os.environ[\"OPENFRACTAL_USER_1_USERNAME\"],\n",
    "    password=os.environ[\"OPENFRACTAL_USER_1_PASSWORD\"],\n",
    ")\n",
    "\n",
    "client"
   ]
  },
  {
   "cell_type": "markdown",
   "id": "38006b2e-53ec-4dff-a20f-a20154a8942b",
   "metadata": {},
   "source": [
    "You can display some general informations about this instance:"
   ]
  },
  {
   "cell_type": "code",
   "execution_count": 4,
   "id": "d04859eb-63ac-47bc-a1ae-3cddc20fdc75",
   "metadata": {},
   "outputs": [
    {
     "data": {
      "text/plain": [
       "{'name': 'openfractal-test',\n",
       " 'manager_heartbeat_frequency': 10,\n",
       " 'manager_heartbeat_max_missed': 5,\n",
       " 'version': '0.50b11.post13+gc0062725',\n",
       " 'api_limits': {'get_records': 1000,\n",
       "  'add_records': 500,\n",
       "  'get_dataset_entries': 2000,\n",
       "  'get_molecules': 1000,\n",
       "  'add_molecules': 1000,\n",
       "  'get_managers': 1000,\n",
       "  'manager_tasks_claim': 200,\n",
       "  'manager_tasks_return': 10,\n",
       "  'get_server_stats': 25,\n",
       "  'get_access_logs': 1000,\n",
       "  'get_error_logs': 100,\n",
       "  'get_internal_jobs': 1000},\n",
       " 'client_version_lower_limit': '0.50b11',\n",
       " 'client_version_upper_limit': '1',\n",
       " 'manager_version_lower_limit': '0.50b11',\n",
       " 'manager_version_upper_limit': '1',\n",
       " 'motd': ''}"
      ]
     },
     "execution_count": 4,
     "metadata": {},
     "output_type": "execute_result"
    }
   ],
   "source": [
    "client.server_info"
   ]
  },
  {
   "cell_type": "markdown",
   "id": "a86bc060-abc7-45f5-bf6f-f1c3cd1d3b61",
   "metadata": {},
   "source": [
    "## Create a new dataset on the server"
   ]
  },
  {
   "cell_type": "code",
   "execution_count": 5,
   "id": "96349389-335b-4381-b9ff-d5751964a653",
   "metadata": {},
   "outputs": [
    {
     "data": {
      "text/plain": [
       "'dataset_demo_4719875601'"
      ]
     },
     "execution_count": 5,
     "metadata": {},
     "output_type": "execute_result"
    }
   ],
   "source": [
    "# Generate a random suffix for your dataset\n",
    "dataset_suffix = \"\".join(random.choices([str(i) for i in range(10)], k=10))\n",
    "\n",
    "dataset_name = f\"dataset_demo_{dataset_suffix}\"\n",
    "\n",
    "dataset_name"
   ]
  },
  {
   "cell_type": "code",
   "execution_count": 6,
   "id": "7a980c4f-8c04-4f27-b7fb-3bbd7b08fc2b",
   "metadata": {},
   "outputs": [
    {
     "data": {
      "text/plain": [
       "SinglepointDataset(id=3, dataset_type='singlepoint', name='dataset_demo_4719875601', description='my great dataset!', tagline='', tags=['demo_local'], group='default', visibility=True, provenance={}, default_tag='*', default_priority=<PriorityEnum.normal: 1>, owner_user='admin_default', owner_group=None, metadata={}, extras={}, entry_names_=[], specifications_={}, entries_={}, record_map_={}, contributed_values_=None, auto_fetch_missing=True)"
      ]
     },
     "execution_count": 6,
     "metadata": {},
     "output_type": "execute_result"
    }
   ],
   "source": [
    "kwargs = {}\n",
    "kwargs[\"dataset_type\"] = \"singlepoint\"\n",
    "kwargs[\"name\"] = dataset_name\n",
    "kwargs[\"description\"] = \"my great dataset!\"\n",
    "# the tag allows you to restrict this dataset to only specific managers\n",
    "kwargs[\"tags\"] = [\"demo_local\"]  \n",
    "kwargs[\"group\"] = None\n",
    "kwargs[\"provenance\"] = {}\n",
    "kwargs[\"visibility\"] = True\n",
    "kwargs[\"default_tag\"] = \"*\"\n",
    "kwargs[\"default_priority\"] = PriorityEnum.normal\n",
    "kwargs[\"metadata\"] = {}\n",
    "kwargs[\"owner_group\"] = None\n",
    "\n",
    "ds = client.add_dataset(**kwargs)\n",
    "\n",
    "ds"
   ]
  },
  {
   "cell_type": "markdown",
   "id": "1491f334-3525-4326-bc3b-5e19198b7c89",
   "metadata": {},
   "source": [
    "## Build \"entries\" from the dataset\n",
    "\n",
    "An entry is a single data point object that hold a 3D atomistic system (also called a molecule). You can associate custom attributes to a given molecule."
   ]
  },
  {
   "cell_type": "code",
   "execution_count": 7,
   "id": "62bac149-bcb3-4aef-b3ec-e007c98e2a79",
   "metadata": {},
   "outputs": [
    {
     "data": {
      "application/vnd.jupyter.widget-view+json": {
       "model_id": "bb39c681f7f444bca931a403167e9669",
       "version_major": 2,
       "version_minor": 0
      },
      "text/plain": [
       "  0%|          | 0/2 [00:00<?, ?it/s]"
      ]
     },
     "metadata": {},
     "output_type": "display_data"
    },
    {
     "data": {
      "application/vnd.jupyter.widget-view+json": {
       "model_id": "",
       "version_major": 2,
       "version_minor": 0
      },
      "text/plain": [
       "  0%|          | 0/5 [00:00<?, ?it/s]"
      ]
     },
     "metadata": {},
     "output_type": "display_data"
    },
    {
     "data": {
      "application/vnd.jupyter.widget-view+json": {
       "model_id": "",
       "version_major": 2,
       "version_minor": 0
      },
      "text/plain": [
       "  0%|          | 0/5 [00:00<?, ?it/s]"
      ]
     },
     "metadata": {},
     "output_type": "display_data"
    }
   ],
   "source": [
    "chunk_size = 5\n",
    "progress = True\n",
    "progress_leave = False\n",
    "\n",
    "\n",
    "def _create_entry(i, row):\n",
    "    kwargs = {}\n",
    "    kwargs[\"name\"] = f\"mol_{i}\"\n",
    "    kwargs[\"molecule\"] = row[\"mol\"].to_qcschema()\n",
    "    kwargs[\"additional_keywords\"] = {}\n",
    "    kwargs[\"attributes\"] = row.drop(\"mol\").to_dict()\n",
    "    kwargs[\"comment\"] = None\n",
    "    return SinglepointDatasetNewEntry(**kwargs)\n",
    "\n",
    "\n",
    "# We build and send the entry by chunk in case of large dataset\n",
    "for i in tqdm(range(0, len(data), chunk_size)):\n",
    "    # Get the rows\n",
    "    rows = data.iloc[i : i + chunk_size]\n",
    "\n",
    "    # Build the entries\n",
    "    entries = dm.parallelized(\n",
    "        _create_entry,\n",
    "        rows.iterrows(),\n",
    "        arg_type=\"args\",\n",
    "        total=len(rows),\n",
    "        progress=progress,\n",
    "        tqdm_kwargs=dict(leave=progress_leave),\n",
    "    )\n",
    "\n",
    "    # Send the entries to the server\n",
    "    insert_md = ds.add_entries(entries)\n",
    "    assert insert_md.success"
   ]
  },
  {
   "cell_type": "markdown",
   "id": "7a3da19c-c38e-482d-ad45-1538f76f343f",
   "metadata": {},
   "source": [
    "You can check the newly submitted entries:"
   ]
  },
  {
   "cell_type": "code",
   "execution_count": 16,
   "id": "d72b8d6a-4907-461c-a4c2-e222a8f0765d",
   "metadata": {},
   "outputs": [
    {
     "data": {
      "text/plain": [
       "[SinglepointDatasetEntry(name='mol_0', molecule=Molecule(name='C3F3H3O2', formula='C3F3H3O2', hash='d1d3bf2'), additional_keywords={}, attributes={'calc': -1.353, 'expt': -1.1, 'iupac': 'methyl 2,2,2-trifluoroacetate', 'smiles': 'COC(=O)C(F)(F)F'}, comment=None, local_results=None),\n",
       " SinglepointDatasetEntry(name='mol_1', molecule=Molecule(name='C3H6N2O6', formula='C3H6N2O6', hash='0c1ebf9'), additional_keywords={}, attributes={'calc': -5.646, 'expt': -4.95, 'iupac': '1,2-dinitroxypropane', 'smiles': 'C[C@@H](CO[N+](=O)[O-])O[N+](=O)[O-]'}, comment=None, local_results=None),\n",
       " SinglepointDatasetEntry(name='mol_2', molecule=Molecule(name='C4H11N', formula='C4H11N', hash='5fff2f0'), additional_keywords={}, attributes={'calc': -2.961, 'expt': -4.24, 'iupac': 'butan-1-amine', 'smiles': 'CCCCN'}, comment=None, local_results=None),\n",
       " SinglepointDatasetEntry(name='mol_3', molecule=Molecule(name='C14ClH20NO2', formula='C14ClH20NO2', hash='0355c46'), additional_keywords={}, attributes={'calc': -6.851, 'expt': -8.21, 'iupac': 'alachlor', 'smiles': 'CCc1cccc(c1N(COC)C(=O)CCl)CC'}, comment=None, local_results=None),\n",
       " SinglepointDatasetEntry(name='mol_4', molecule=Molecule(name='C10H14O3', formula='C10H14O3', hash='59cbc0f'), additional_keywords={}, attributes={'calc': -5.559, 'expt': -4.04, 'iupac': 'trimethoxymethylbenzene', 'smiles': 'COC(c1ccccc1)(OC)OC'}, comment=None, local_results=None),\n",
       " SinglepointDatasetEntry(name='mol_5', molecule=Molecule(name='C6ClH5', formula='C6ClH5', hash='e04178b'), additional_keywords={}, attributes={'calc': -0.475, 'expt': -1.12, 'iupac': 'chlorobenzene', 'smiles': 'c1ccc(cc1)Cl'}, comment=None, local_results=None),\n",
       " SinglepointDatasetEntry(name='mol_6', molecule=Molecule(name='C6H12O', formula='C6H12O', hash='fd073cb'), additional_keywords={}, attributes={'calc': -4.178, 'expt': -5.46, 'iupac': 'cyclohexanol', 'smiles': 'C1CCC(CC1)O'}, comment=None, local_results=None),\n",
       " SinglepointDatasetEntry(name='mol_7', molecule=Molecule(name='C10H12N2O5', formula='C10H12N2O5', hash='b1b1437'), additional_keywords={}, attributes={'calc': -5.378, 'expt': -6.23, 'iupac': '2-[(1R)-1-methylpropyl]-4,6-dinitro-phenolate', 'smiles': 'CC[C@@H](C)c1cc(cc(c1O)[N+](=O)[O-])[N+](=O)[O-]'}, comment=None, local_results=None),\n",
       " SinglepointDatasetEntry(name='mol_8', molecule=Molecule(name='C2H7N', formula='C2H7N', hash='bab29d8'), additional_keywords={}, attributes={'calc': -3.156, 'expt': -4.5, 'iupac': 'ethanamine', 'smiles': 'CCN'}, comment=None, local_results=None),\n",
       " SinglepointDatasetEntry(name='mol_9', molecule=Molecule(name='C4H10O', formula='C4H10O', hash='9939d52'), additional_keywords={}, attributes={'calc': -3.232, 'expt': -4.72, 'iupac': 'butan-1-ol', 'smiles': 'CCCCO'}, comment=None, local_results=None)]"
      ]
     },
     "execution_count": 16,
     "metadata": {},
     "output_type": "execute_result"
    }
   ],
   "source": [
    "list(ds.iterate_entries())"
   ]
  },
  {
   "cell_type": "markdown",
   "id": "2e1c4534-614c-4771-b209-2a8939a54b08",
   "metadata": {},
   "source": [
    "## Create the QM specification\n",
    "\n",
    "The QM specification defines a QM protocol that will be executed on a Dataset.\n",
    "\n",
    "Here we choose a cheap level of theory: `hf/sto-3g`."
   ]
  },
  {
   "cell_type": "code",
   "execution_count": 8,
   "id": "1f18e9a3-7470-4593-af8a-67543c083448",
   "metadata": {},
   "outputs": [
    {
     "data": {
      "text/plain": [
       "QCSpecification(program='psi4', driver=<SinglepointDriver.gradient: 'gradient'>, method='hf', basis='sto-3g', keywords={'wcombine': False, 'scf_properties': ['MBIS_CHARGES', 'WIBERG_LOWDIN_INDICES', 'MAYER_INDICES', 'LOWDIN_CHARGES', 'DIPOLE', 'QUADRUPOLE']}, protocols=AtomicResultProtocols(wavefunction=<WavefunctionProtocolEnum.all: 'all'>, stdout=True, error_correction=ErrorCorrectionProtocol(default_policy=True, policies=None), native_files=<NativeFilesProtocolEnum.none: 'none'>))"
      ]
     },
     "execution_count": 8,
     "metadata": {},
     "output_type": "execute_result"
    }
   ],
   "source": [
    "## PSI4 SCF properties\n",
    "## See https://psicode.org/psi4manual/master/oeprop.html#id2\n",
    "scf_properties = [\n",
    "    \"MBIS_CHARGES\",\n",
    "    \"WIBERG_LOWDIN_INDICES\",\n",
    "    \"MAYER_INDICES\",\n",
    "    \"LOWDIN_CHARGES\",\n",
    "    \"DIPOLE\",\n",
    "    \"QUADRUPOLE\",\n",
    "]\n",
    "\n",
    "## Build the protocols\n",
    "## One of: all, none or orbitals_and_eigenvalues\n",
    "protocols = {\"wavefunction\": \"all\"}\n",
    "\n",
    "## Build the specification\n",
    "kwargs = {}\n",
    "kwargs[\"program\"] = \"psi4\"\n",
    "kwargs[\"driver\"] = SinglepointDriver.gradient\n",
    "# kwargs[\"method\"] = \"wb97m-d3bj\"\n",
    "# kwargs[\"basis\"] = \"def2-tzvppd\"\n",
    "kwargs[\"method\"] = \"hf\"\n",
    "kwargs[\"basis\"] = \"sto-3g\"\n",
    "kwargs[\"keywords\"] = {\"wcombine\": False, \"scf_properties\": scf_properties}\n",
    "kwargs[\"protocols\"] = protocols\n",
    "\n",
    "specification = QCSpecification(**kwargs)\n",
    "\n",
    "specification"
   ]
  },
  {
   "cell_type": "markdown",
   "id": "27562118-494b-4688-a5a7-119e19d69255",
   "metadata": {},
   "source": [
    "Now we associate this QM specification (protocol) to the dataset we created above to the server."
   ]
  },
  {
   "cell_type": "code",
   "execution_count": 10,
   "id": "ecd1dbfb-43e1-405f-917e-faab78447185",
   "metadata": {},
   "outputs": [],
   "source": [
    "kwargs = {}\n",
    "kwargs[\"name\"] = \"simple_qm_calculation_demo\"\n",
    "kwargs[\"specification\"] = specification\n",
    "kwargs[\"description\"] = None\n",
    "insert_md = ds.add_specification(**kwargs)\n",
    "assert insert_md"
   ]
  },
  {
   "cell_type": "code",
   "execution_count": 15,
   "id": "f4a07480-d3fc-46ef-80f4-ed95cae084f7",
   "metadata": {},
   "outputs": [
    {
     "data": {
      "text/plain": [
       "[SinglepointDatasetEntry(name='mol_0', molecule=Molecule(name='C3F3H3O2', formula='C3F3H3O2', hash='d1d3bf2'), additional_keywords={}, attributes={'calc': -1.353, 'expt': -1.1, 'iupac': 'methyl 2,2,2-trifluoroacetate', 'smiles': 'COC(=O)C(F)(F)F'}, comment=None, local_results=None),\n",
       " SinglepointDatasetEntry(name='mol_1', molecule=Molecule(name='C3H6N2O6', formula='C3H6N2O6', hash='0c1ebf9'), additional_keywords={}, attributes={'calc': -5.646, 'expt': -4.95, 'iupac': '1,2-dinitroxypropane', 'smiles': 'C[C@@H](CO[N+](=O)[O-])O[N+](=O)[O-]'}, comment=None, local_results=None),\n",
       " SinglepointDatasetEntry(name='mol_2', molecule=Molecule(name='C4H11N', formula='C4H11N', hash='5fff2f0'), additional_keywords={}, attributes={'calc': -2.961, 'expt': -4.24, 'iupac': 'butan-1-amine', 'smiles': 'CCCCN'}, comment=None, local_results=None),\n",
       " SinglepointDatasetEntry(name='mol_3', molecule=Molecule(name='C14ClH20NO2', formula='C14ClH20NO2', hash='0355c46'), additional_keywords={}, attributes={'calc': -6.851, 'expt': -8.21, 'iupac': 'alachlor', 'smiles': 'CCc1cccc(c1N(COC)C(=O)CCl)CC'}, comment=None, local_results=None),\n",
       " SinglepointDatasetEntry(name='mol_4', molecule=Molecule(name='C10H14O3', formula='C10H14O3', hash='59cbc0f'), additional_keywords={}, attributes={'calc': -5.559, 'expt': -4.04, 'iupac': 'trimethoxymethylbenzene', 'smiles': 'COC(c1ccccc1)(OC)OC'}, comment=None, local_results=None),\n",
       " SinglepointDatasetEntry(name='mol_5', molecule=Molecule(name='C6ClH5', formula='C6ClH5', hash='e04178b'), additional_keywords={}, attributes={'calc': -0.475, 'expt': -1.12, 'iupac': 'chlorobenzene', 'smiles': 'c1ccc(cc1)Cl'}, comment=None, local_results=None),\n",
       " SinglepointDatasetEntry(name='mol_6', molecule=Molecule(name='C6H12O', formula='C6H12O', hash='fd073cb'), additional_keywords={}, attributes={'calc': -4.178, 'expt': -5.46, 'iupac': 'cyclohexanol', 'smiles': 'C1CCC(CC1)O'}, comment=None, local_results=None),\n",
       " SinglepointDatasetEntry(name='mol_7', molecule=Molecule(name='C10H12N2O5', formula='C10H12N2O5', hash='b1b1437'), additional_keywords={}, attributes={'calc': -5.378, 'expt': -6.23, 'iupac': '2-[(1R)-1-methylpropyl]-4,6-dinitro-phenolate', 'smiles': 'CC[C@@H](C)c1cc(cc(c1O)[N+](=O)[O-])[N+](=O)[O-]'}, comment=None, local_results=None),\n",
       " SinglepointDatasetEntry(name='mol_8', molecule=Molecule(name='C2H7N', formula='C2H7N', hash='bab29d8'), additional_keywords={}, attributes={'calc': -3.156, 'expt': -4.5, 'iupac': 'ethanamine', 'smiles': 'CCN'}, comment=None, local_results=None),\n",
       " SinglepointDatasetEntry(name='mol_9', molecule=Molecule(name='C4H10O', formula='C4H10O', hash='9939d52'), additional_keywords={}, attributes={'calc': -3.232, 'expt': -4.72, 'iupac': 'butan-1-ol', 'smiles': 'CCCCO'}, comment=None, local_results=None)]"
      ]
     },
     "execution_count": 15,
     "metadata": {},
     "output_type": "execute_result"
    }
   ],
   "source": [
    "list(ds.iterate_entries())"
   ]
  },
  {
   "cell_type": "markdown",
   "id": "6751a3c7-4d87-4939-a127-5f120d87d80e",
   "metadata": {},
   "source": [
    "## Submit the computation\n",
    "\n",
    "**Warning: once you have submitted a specification to a dataset, the compatible managers will start picking up jobs and perform the QM calculcations.**"
   ]
  },
  {
   "cell_type": "code",
   "execution_count": 20,
   "id": "14933915-8cdc-4686-b6e8-39e3476b145a",
   "metadata": {},
   "outputs": [],
   "source": [
    "ds.submit()"
   ]
  },
  {
   "cell_type": "markdown",
   "id": "7cfa989f-af2e-4460-89c2-aa54b0b43edd",
   "metadata": {},
   "source": [
    "Check the submission worked."
   ]
  },
  {
   "cell_type": "code",
   "execution_count": 22,
   "id": "da07984f-620f-4bdd-8843-f9791309a2fe",
   "metadata": {},
   "outputs": [
    {
     "name": "stdout",
     "output_type": "stream",
     "text": [
      "             specification    waiting\n",
      "--------------------------  ---------\n",
      "simple_qm_calculation_demo         10\n"
     ]
    }
   ],
   "source": [
    "print(ds.status_table())"
   ]
  },
  {
   "cell_type": "markdown",
   "id": "4e980dc2-dfa7-4049-987a-b2420b067dfa",
   "metadata": {},
   "source": [
    "## Monitoring"
   ]
  },
  {
   "cell_type": "markdown",
   "id": "16e01af1-d6f3-49a1-9608-a6f54ac3c05d",
   "metadata": {},
   "source": [
    "Retrieve a dataset by its name."
   ]
  },
  {
   "cell_type": "code",
   "execution_count": 23,
   "id": "0a30a5c0-cee4-4b8a-88fc-caea9755450a",
   "metadata": {},
   "outputs": [
    {
     "data": {
      "text/plain": [
       "SinglepointDataset(id=3, dataset_type='singlepoint', name='dataset_demo_4719875601', description='my great dataset!', tagline='', tags=['demo_local'], group='default', visibility=True, provenance={}, default_tag='*', default_priority=<PriorityEnum.normal: 1>, owner_user='admin_default', owner_group=None, metadata={}, extras={}, entry_names_=[], specifications_={}, entries_={}, record_map_={}, contributed_values_=None, auto_fetch_missing=True)"
      ]
     },
     "execution_count": 23,
     "metadata": {},
     "output_type": "execute_result"
    }
   ],
   "source": [
    "ds = client.get_dataset(\"singlepoint\", dataset_name)\n",
    "ds"
   ]
  },
  {
   "cell_type": "markdown",
   "id": "c73d3f45-018e-4e8c-9ead-bab48f3531d6",
   "metadata": {},
   "source": [
    "Print a table showing the status for a dataset."
   ]
  },
  {
   "cell_type": "code",
   "execution_count": 24,
   "id": "2582131e-63a7-4f53-b6ef-c740e654651a",
   "metadata": {},
   "outputs": [
    {
     "name": "stdout",
     "output_type": "stream",
     "text": [
      "             specification    waiting\n",
      "--------------------------  ---------\n",
      "simple_qm_calculation_demo         10\n"
     ]
    }
   ],
   "source": [
    "print(ds.status_table())"
   ]
  },
  {
   "cell_type": "markdown",
   "id": "2ea4c7b8-32f2-42bf-8b94-16ccb5c61b8d",
   "metadata": {},
   "source": [
    "Read the records (some might be completed but some might still be in progress or in failing state."
   ]
  },
  {
   "cell_type": "code",
   "execution_count": 25,
   "id": "fe77233b-5953-4202-aaad-b11ceceeeb69",
   "metadata": {},
   "outputs": [
    {
     "data": {
      "application/vnd.jupyter.widget-view+json": {
       "model_id": "972a9ff981e54ebcbdc9e9c58ced1fcf",
       "version_major": 2,
       "version_minor": 0
      },
      "text/plain": [
       "0it [00:00, ?it/s]"
      ]
     },
     "metadata": {},
     "output_type": "display_data"
    },
    {
     "data": {
      "text/html": [
       "<div>\n",
       "<style scoped>\n",
       "    .dataframe tbody tr th:only-of-type {\n",
       "        vertical-align: middle;\n",
       "    }\n",
       "\n",
       "    .dataframe tbody tr th {\n",
       "        vertical-align: top;\n",
       "    }\n",
       "\n",
       "    .dataframe thead th {\n",
       "        text-align: right;\n",
       "    }\n",
       "</style>\n",
       "<table border=\"1\" class=\"dataframe\">\n",
       "  <thead>\n",
       "    <tr style=\"text-align: right;\">\n",
       "      <th></th>\n",
       "      <th>id</th>\n",
       "      <th>record_type</th>\n",
       "      <th>is_service</th>\n",
       "      <th>properties</th>\n",
       "      <th>extras</th>\n",
       "      <th>status</th>\n",
       "      <th>manager_name</th>\n",
       "      <th>created_on</th>\n",
       "      <th>modified_on</th>\n",
       "      <th>owner_user</th>\n",
       "      <th>owner_group</th>\n",
       "      <th>compute_history_</th>\n",
       "      <th>task_</th>\n",
       "      <th>service_</th>\n",
       "      <th>comments_</th>\n",
       "      <th>native_files_</th>\n",
       "      <th>specification</th>\n",
       "      <th>molecule_id</th>\n",
       "      <th>molecule_</th>\n",
       "      <th>wavefunction_</th>\n",
       "    </tr>\n",
       "  </thead>\n",
       "  <tbody>\n",
       "    <tr>\n",
       "      <th>0</th>\n",
       "      <td>1</td>\n",
       "      <td>singlepoint</td>\n",
       "      <td>False</td>\n",
       "      <td>None</td>\n",
       "      <td>None</td>\n",
       "      <td>RecordStatusEnum.waiting</td>\n",
       "      <td>None</td>\n",
       "      <td>2023-06-12 19:44:59.694361</td>\n",
       "      <td>2023-06-12 19:44:59.694365</td>\n",
       "      <td>admin_default</td>\n",
       "      <td>None</td>\n",
       "      <td>[]</td>\n",
       "      <td>None</td>\n",
       "      <td>None</td>\n",
       "      <td>None</td>\n",
       "      <td>None</td>\n",
       "      <td>{'program': 'psi4', 'driver': 'SinglepointDriv...</td>\n",
       "      <td>12</td>\n",
       "      <td>None</td>\n",
       "      <td>None</td>\n",
       "    </tr>\n",
       "    <tr>\n",
       "      <th>1</th>\n",
       "      <td>2</td>\n",
       "      <td>singlepoint</td>\n",
       "      <td>False</td>\n",
       "      <td>None</td>\n",
       "      <td>None</td>\n",
       "      <td>RecordStatusEnum.waiting</td>\n",
       "      <td>None</td>\n",
       "      <td>2023-06-12 19:44:59.694366</td>\n",
       "      <td>2023-06-12 19:44:59.694366</td>\n",
       "      <td>admin_default</td>\n",
       "      <td>None</td>\n",
       "      <td>[]</td>\n",
       "      <td>None</td>\n",
       "      <td>None</td>\n",
       "      <td>None</td>\n",
       "      <td>None</td>\n",
       "      <td>{'program': 'psi4', 'driver': 'SinglepointDriv...</td>\n",
       "      <td>18</td>\n",
       "      <td>None</td>\n",
       "      <td>None</td>\n",
       "    </tr>\n",
       "    <tr>\n",
       "      <th>2</th>\n",
       "      <td>3</td>\n",
       "      <td>singlepoint</td>\n",
       "      <td>False</td>\n",
       "      <td>None</td>\n",
       "      <td>None</td>\n",
       "      <td>RecordStatusEnum.waiting</td>\n",
       "      <td>None</td>\n",
       "      <td>2023-06-12 19:44:59.694367</td>\n",
       "      <td>2023-06-12 19:44:59.694367</td>\n",
       "      <td>admin_default</td>\n",
       "      <td>None</td>\n",
       "      <td>[]</td>\n",
       "      <td>None</td>\n",
       "      <td>None</td>\n",
       "      <td>None</td>\n",
       "      <td>None</td>\n",
       "      <td>{'program': 'psi4', 'driver': 'SinglepointDriv...</td>\n",
       "      <td>15</td>\n",
       "      <td>None</td>\n",
       "      <td>None</td>\n",
       "    </tr>\n",
       "    <tr>\n",
       "      <th>3</th>\n",
       "      <td>4</td>\n",
       "      <td>singlepoint</td>\n",
       "      <td>False</td>\n",
       "      <td>None</td>\n",
       "      <td>None</td>\n",
       "      <td>RecordStatusEnum.waiting</td>\n",
       "      <td>None</td>\n",
       "      <td>2023-06-12 19:44:59.694368</td>\n",
       "      <td>2023-06-12 19:44:59.694368</td>\n",
       "      <td>admin_default</td>\n",
       "      <td>None</td>\n",
       "      <td>[]</td>\n",
       "      <td>None</td>\n",
       "      <td>None</td>\n",
       "      <td>None</td>\n",
       "      <td>None</td>\n",
       "      <td>{'program': 'psi4', 'driver': 'SinglepointDriv...</td>\n",
       "      <td>11</td>\n",
       "      <td>None</td>\n",
       "      <td>None</td>\n",
       "    </tr>\n",
       "    <tr>\n",
       "      <th>4</th>\n",
       "      <td>5</td>\n",
       "      <td>singlepoint</td>\n",
       "      <td>False</td>\n",
       "      <td>None</td>\n",
       "      <td>None</td>\n",
       "      <td>RecordStatusEnum.waiting</td>\n",
       "      <td>None</td>\n",
       "      <td>2023-06-12 19:44:59.694369</td>\n",
       "      <td>2023-06-12 19:44:59.694369</td>\n",
       "      <td>admin_default</td>\n",
       "      <td>None</td>\n",
       "      <td>[]</td>\n",
       "      <td>None</td>\n",
       "      <td>None</td>\n",
       "      <td>None</td>\n",
       "      <td>None</td>\n",
       "      <td>{'program': 'psi4', 'driver': 'SinglepointDriv...</td>\n",
       "      <td>14</td>\n",
       "      <td>None</td>\n",
       "      <td>None</td>\n",
       "    </tr>\n",
       "    <tr>\n",
       "      <th>5</th>\n",
       "      <td>6</td>\n",
       "      <td>singlepoint</td>\n",
       "      <td>False</td>\n",
       "      <td>None</td>\n",
       "      <td>None</td>\n",
       "      <td>RecordStatusEnum.waiting</td>\n",
       "      <td>None</td>\n",
       "      <td>2023-06-12 19:44:59.694369</td>\n",
       "      <td>2023-06-12 19:44:59.694370</td>\n",
       "      <td>admin_default</td>\n",
       "      <td>None</td>\n",
       "      <td>[]</td>\n",
       "      <td>None</td>\n",
       "      <td>None</td>\n",
       "      <td>None</td>\n",
       "      <td>None</td>\n",
       "      <td>{'program': 'psi4', 'driver': 'SinglepointDriv...</td>\n",
       "      <td>17</td>\n",
       "      <td>None</td>\n",
       "      <td>None</td>\n",
       "    </tr>\n",
       "    <tr>\n",
       "      <th>6</th>\n",
       "      <td>7</td>\n",
       "      <td>singlepoint</td>\n",
       "      <td>False</td>\n",
       "      <td>None</td>\n",
       "      <td>None</td>\n",
       "      <td>RecordStatusEnum.waiting</td>\n",
       "      <td>None</td>\n",
       "      <td>2023-06-12 19:44:59.694370</td>\n",
       "      <td>2023-06-12 19:44:59.694371</td>\n",
       "      <td>admin_default</td>\n",
       "      <td>None</td>\n",
       "      <td>[]</td>\n",
       "      <td>None</td>\n",
       "      <td>None</td>\n",
       "      <td>None</td>\n",
       "      <td>None</td>\n",
       "      <td>{'program': 'psi4', 'driver': 'SinglepointDriv...</td>\n",
       "      <td>13</td>\n",
       "      <td>None</td>\n",
       "      <td>None</td>\n",
       "    </tr>\n",
       "    <tr>\n",
       "      <th>7</th>\n",
       "      <td>8</td>\n",
       "      <td>singlepoint</td>\n",
       "      <td>False</td>\n",
       "      <td>None</td>\n",
       "      <td>None</td>\n",
       "      <td>RecordStatusEnum.waiting</td>\n",
       "      <td>None</td>\n",
       "      <td>2023-06-12 19:44:59.694371</td>\n",
       "      <td>2023-06-12 19:44:59.694372</td>\n",
       "      <td>admin_default</td>\n",
       "      <td>None</td>\n",
       "      <td>[]</td>\n",
       "      <td>None</td>\n",
       "      <td>None</td>\n",
       "      <td>None</td>\n",
       "      <td>None</td>\n",
       "      <td>{'program': 'psi4', 'driver': 'SinglepointDriv...</td>\n",
       "      <td>16</td>\n",
       "      <td>None</td>\n",
       "      <td>None</td>\n",
       "    </tr>\n",
       "    <tr>\n",
       "      <th>8</th>\n",
       "      <td>9</td>\n",
       "      <td>singlepoint</td>\n",
       "      <td>False</td>\n",
       "      <td>None</td>\n",
       "      <td>None</td>\n",
       "      <td>RecordStatusEnum.waiting</td>\n",
       "      <td>None</td>\n",
       "      <td>2023-06-12 19:44:59.694372</td>\n",
       "      <td>2023-06-12 19:44:59.694373</td>\n",
       "      <td>admin_default</td>\n",
       "      <td>None</td>\n",
       "      <td>[]</td>\n",
       "      <td>None</td>\n",
       "      <td>None</td>\n",
       "      <td>None</td>\n",
       "      <td>None</td>\n",
       "      <td>{'program': 'psi4', 'driver': 'SinglepointDriv...</td>\n",
       "      <td>6</td>\n",
       "      <td>None</td>\n",
       "      <td>None</td>\n",
       "    </tr>\n",
       "    <tr>\n",
       "      <th>9</th>\n",
       "      <td>10</td>\n",
       "      <td>singlepoint</td>\n",
       "      <td>False</td>\n",
       "      <td>None</td>\n",
       "      <td>None</td>\n",
       "      <td>RecordStatusEnum.waiting</td>\n",
       "      <td>None</td>\n",
       "      <td>2023-06-12 19:44:59.694373</td>\n",
       "      <td>2023-06-12 19:44:59.694374</td>\n",
       "      <td>admin_default</td>\n",
       "      <td>None</td>\n",
       "      <td>[]</td>\n",
       "      <td>None</td>\n",
       "      <td>None</td>\n",
       "      <td>None</td>\n",
       "      <td>None</td>\n",
       "      <td>{'program': 'psi4', 'driver': 'SinglepointDriv...</td>\n",
       "      <td>19</td>\n",
       "      <td>None</td>\n",
       "      <td>None</td>\n",
       "    </tr>\n",
       "  </tbody>\n",
       "</table>\n",
       "</div>"
      ],
      "text/plain": [
       "   id  record_type  is_service properties extras                    status  \\\n",
       "0   1  singlepoint       False       None   None  RecordStatusEnum.waiting   \n",
       "1   2  singlepoint       False       None   None  RecordStatusEnum.waiting   \n",
       "2   3  singlepoint       False       None   None  RecordStatusEnum.waiting   \n",
       "3   4  singlepoint       False       None   None  RecordStatusEnum.waiting   \n",
       "4   5  singlepoint       False       None   None  RecordStatusEnum.waiting   \n",
       "5   6  singlepoint       False       None   None  RecordStatusEnum.waiting   \n",
       "6   7  singlepoint       False       None   None  RecordStatusEnum.waiting   \n",
       "7   8  singlepoint       False       None   None  RecordStatusEnum.waiting   \n",
       "8   9  singlepoint       False       None   None  RecordStatusEnum.waiting   \n",
       "9  10  singlepoint       False       None   None  RecordStatusEnum.waiting   \n",
       "\n",
       "  manager_name                 created_on                modified_on  \\\n",
       "0         None 2023-06-12 19:44:59.694361 2023-06-12 19:44:59.694365   \n",
       "1         None 2023-06-12 19:44:59.694366 2023-06-12 19:44:59.694366   \n",
       "2         None 2023-06-12 19:44:59.694367 2023-06-12 19:44:59.694367   \n",
       "3         None 2023-06-12 19:44:59.694368 2023-06-12 19:44:59.694368   \n",
       "4         None 2023-06-12 19:44:59.694369 2023-06-12 19:44:59.694369   \n",
       "5         None 2023-06-12 19:44:59.694369 2023-06-12 19:44:59.694370   \n",
       "6         None 2023-06-12 19:44:59.694370 2023-06-12 19:44:59.694371   \n",
       "7         None 2023-06-12 19:44:59.694371 2023-06-12 19:44:59.694372   \n",
       "8         None 2023-06-12 19:44:59.694372 2023-06-12 19:44:59.694373   \n",
       "9         None 2023-06-12 19:44:59.694373 2023-06-12 19:44:59.694374   \n",
       "\n",
       "      owner_user owner_group compute_history_ task_ service_ comments_  \\\n",
       "0  admin_default        None               []  None     None      None   \n",
       "1  admin_default        None               []  None     None      None   \n",
       "2  admin_default        None               []  None     None      None   \n",
       "3  admin_default        None               []  None     None      None   \n",
       "4  admin_default        None               []  None     None      None   \n",
       "5  admin_default        None               []  None     None      None   \n",
       "6  admin_default        None               []  None     None      None   \n",
       "7  admin_default        None               []  None     None      None   \n",
       "8  admin_default        None               []  None     None      None   \n",
       "9  admin_default        None               []  None     None      None   \n",
       "\n",
       "  native_files_                                      specification  \\\n",
       "0          None  {'program': 'psi4', 'driver': 'SinglepointDriv...   \n",
       "1          None  {'program': 'psi4', 'driver': 'SinglepointDriv...   \n",
       "2          None  {'program': 'psi4', 'driver': 'SinglepointDriv...   \n",
       "3          None  {'program': 'psi4', 'driver': 'SinglepointDriv...   \n",
       "4          None  {'program': 'psi4', 'driver': 'SinglepointDriv...   \n",
       "5          None  {'program': 'psi4', 'driver': 'SinglepointDriv...   \n",
       "6          None  {'program': 'psi4', 'driver': 'SinglepointDriv...   \n",
       "7          None  {'program': 'psi4', 'driver': 'SinglepointDriv...   \n",
       "8          None  {'program': 'psi4', 'driver': 'SinglepointDriv...   \n",
       "9          None  {'program': 'psi4', 'driver': 'SinglepointDriv...   \n",
       "\n",
       "   molecule_id molecule_ wavefunction_  \n",
       "0           12      None          None  \n",
       "1           18      None          None  \n",
       "2           15      None          None  \n",
       "3           11      None          None  \n",
       "4           14      None          None  \n",
       "5           17      None          None  \n",
       "6           13      None          None  \n",
       "7           16      None          None  \n",
       "8            6      None          None  \n",
       "9           19      None          None  "
      ]
     },
     "execution_count": 25,
     "metadata": {},
     "output_type": "execute_result"
    }
   ],
   "source": [
    "records_list = []\n",
    "for r in tqdm(client.query_records(dataset_id=ds.id)):\n",
    "    # Access this object to fetch the potential errors when any\n",
    "    r.error\n",
    "    records_list.append(r.dict())\n",
    "\n",
    "records = pd.DataFrame(records_list)\n",
    "records = records.sort_values(\"id\")\n",
    "records = records.reset_index(drop=True)\n",
    "\n",
    "records"
   ]
  },
  {
   "cell_type": "markdown",
   "id": "f5febe8e-20da-470c-acc4-6a4f2644b283",
   "metadata": {},
   "source": [
    "## Delete a dataset and associated records"
   ]
  },
  {
   "cell_type": "markdown",
   "id": "baf387a8-5c30-476f-a714-7d496d0af304",
   "metadata": {},
   "source": [
    "Retrieve the ID of a given dataset."
   ]
  },
  {
   "cell_type": "code",
   "execution_count": 26,
   "id": "fb519f88-6985-490b-a385-c00468b46ac0",
   "metadata": {},
   "outputs": [
    {
     "data": {
      "text/plain": [
       "[{'id': 3,\n",
       "  'dataset_type': 'singlepoint',\n",
       "  'dataset_name': 'dataset_demo_4719875601'}]"
      ]
     },
     "execution_count": 26,
     "metadata": {},
     "output_type": "execute_result"
    }
   ],
   "source": [
    "client.list_datasets()"
   ]
  },
  {
   "cell_type": "code",
   "execution_count": 27,
   "id": "2d1086b8-bfc6-4609-a984-06aa95c2357f",
   "metadata": {},
   "outputs": [
    {
     "data": {
      "text/plain": [
       "3"
      ]
     },
     "execution_count": 27,
     "metadata": {},
     "output_type": "execute_result"
    }
   ],
   "source": [
    "dataset_id = client.get_dataset(\"singlepoint\", dataset_name).id\n",
    "dataset_id"
   ]
  },
  {
   "cell_type": "markdown",
   "id": "51c29fc3-6db9-4255-bf04-8c99a828863b",
   "metadata": {},
   "source": [
    "Delete the dataset and its associated records.\n",
    "\n",
    "**Warning: this step can't be reversed.**"
   ]
  },
  {
   "cell_type": "code",
   "execution_count": null,
   "id": "f180b2d9-1084-4f71-a6f3-383cb9fd8d2c",
   "metadata": {},
   "outputs": [],
   "source": [
    "client.delete_dataset(dataset_id, delete_records=True)"
   ]
  },
  {
   "cell_type": "code",
   "execution_count": null,
   "id": "7bf16e01-e5de-4aca-b3a1-f3fc668679e4",
   "metadata": {},
   "outputs": [],
   "source": []
  }
 ],
 "metadata": {
  "kernelspec": {
   "display_name": "Python [conda env:openfractal]",
   "language": "python",
   "name": "conda-env-openfractal-py"
  },
  "language_info": {
   "codemirror_mode": {
    "name": "ipython",
    "version": 3
   },
   "file_extension": ".py",
   "mimetype": "text/x-python",
   "name": "python",
   "nbconvert_exporter": "python",
   "pygments_lexer": "ipython3",
   "version": "3.10.11"
  },
  "widgets": {
   "application/vnd.jupyter.widget-state+json": {
    "state": {},
    "version_major": 2,
    "version_minor": 0
   }
  }
 },
 "nbformat": 4,
 "nbformat_minor": 5
}
