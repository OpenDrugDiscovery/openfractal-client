{
 "cells": [
  {
   "cell_type": "markdown",
   "id": "da44cd8e-57cd-4f53-b49e-c308b1f91a81",
   "metadata": {},
   "source": [
    "In this tutorial you'll learn how to submit a dataset to a QCFractal instance (also called backend or server)."
   ]
  },
  {
   "cell_type": "code",
   "execution_count": 1,
   "id": "f3364324-9975-4ce5-964d-50b120342f0c",
   "metadata": {},
   "outputs": [],
   "source": [
    "import os\n",
    "import dotenv\n",
    "import random\n",
    "\n",
    "from tqdm.auto import tqdm\n",
    "\n",
    "import datamol as dm\n",
    "import pandas as pd\n",
    "\n",
    "from openff.toolkit import Molecule\n",
    "\n",
    "import qcelemental as qcel\n",
    "\n",
    "from qcportal import PortalClient\n",
    "from qcportal.record_models import PriorityEnum\n",
    "\n",
    "from qcportal.singlepoint.dataset_models import SinglepointDatasetNewEntry\n",
    "from qcportal.singlepoint.record_models import QCSpecification\n",
    "from qcportal.singlepoint.record_models import SinglepointDriver\n",
    "\n",
    "_ = dotenv.load_dotenv(\"../../openfractal_test_secrets.env\")"
   ]
  },
  {
   "cell_type": "markdown",
   "id": "a25a44de-8b4e-4d0d-bae0-83c9051cf95c",
   "metadata": {},
   "source": [
    "Login to the instance by initializing a `PortalClient` object."
   ]
  },
  {
   "cell_type": "markdown",
   "id": "e597d676-400e-4a0e-926f-84d74ca8c7f6",
   "metadata": {},
   "source": [
    "## Prepare the dataset"
   ]
  },
  {
   "cell_type": "markdown",
   "id": "4278baa8-ba31-4199-99be-406975157cdd",
   "metadata": {},
   "source": [
    "First we pull a random subset of `datamol.data.freesolv()`, create `openff.Molecule` objects from it and generate one conformer per molecule."
   ]
  },
  {
   "cell_type": "code",
   "execution_count": 2,
   "id": "aac18d1e-f370-4edb-9731-1d4bfc4fef60",
   "metadata": {},
   "outputs": [
    {
     "data": {
      "application/vnd.jupyter.widget-view+json": {
       "model_id": "",
       "version_major": 2,
       "version_minor": 0
      },
      "text/plain": [
       "  0%|          | 0/10 [00:00<?, ?it/s]"
      ]
     },
     "metadata": {},
     "output_type": "display_data"
    },
    {
     "data": {
      "text/html": [
       "<div>\n",
       "<style scoped>\n",
       "    .dataframe tbody tr th:only-of-type {\n",
       "        vertical-align: middle;\n",
       "    }\n",
       "\n",
       "    .dataframe tbody tr th {\n",
       "        vertical-align: top;\n",
       "    }\n",
       "\n",
       "    .dataframe thead th {\n",
       "        text-align: right;\n",
       "    }\n",
       "</style>\n",
       "<table border=\"1\" class=\"dataframe\">\n",
       "  <thead>\n",
       "    <tr style=\"text-align: right;\">\n",
       "      <th></th>\n",
       "      <th>iupac</th>\n",
       "      <th>smiles</th>\n",
       "      <th>expt</th>\n",
       "      <th>calc</th>\n",
       "      <th>mol</th>\n",
       "    </tr>\n",
       "  </thead>\n",
       "  <tbody>\n",
       "    <tr>\n",
       "      <th>0</th>\n",
       "      <td>methyl 2,2,2-trifluoroacetate</td>\n",
       "      <td>COC(=O)C(F)(F)F</td>\n",
       "      <td>-1.10</td>\n",
       "      <td>-1.353</td>\n",
       "      <td>Molecule with name '' and SMILES '[H][C]([H])(...</td>\n",
       "    </tr>\n",
       "    <tr>\n",
       "      <th>1</th>\n",
       "      <td>1,2-dinitroxypropane</td>\n",
       "      <td>C[C@@H](CO[N+](=O)[O-])O[N+](=O)[O-]</td>\n",
       "      <td>-4.95</td>\n",
       "      <td>-5.646</td>\n",
       "      <td>Molecule with name '' and SMILES '[H][C]([H])(...</td>\n",
       "    </tr>\n",
       "    <tr>\n",
       "      <th>2</th>\n",
       "      <td>butan-1-amine</td>\n",
       "      <td>CCCCN</td>\n",
       "      <td>-4.24</td>\n",
       "      <td>-2.961</td>\n",
       "      <td>Molecule with name '' and SMILES '[H][N]([H])[...</td>\n",
       "    </tr>\n",
       "    <tr>\n",
       "      <th>3</th>\n",
       "      <td>alachlor</td>\n",
       "      <td>CCc1cccc(c1N(COC)C(=O)CCl)CC</td>\n",
       "      <td>-8.21</td>\n",
       "      <td>-6.851</td>\n",
       "      <td>Molecule with name '' and SMILES '[H][c]1[c]([...</td>\n",
       "    </tr>\n",
       "    <tr>\n",
       "      <th>4</th>\n",
       "      <td>trimethoxymethylbenzene</td>\n",
       "      <td>COC(c1ccccc1)(OC)OC</td>\n",
       "      <td>-4.04</td>\n",
       "      <td>-5.559</td>\n",
       "      <td>Molecule with name '' and SMILES '[H][c]1[c]([...</td>\n",
       "    </tr>\n",
       "    <tr>\n",
       "      <th>5</th>\n",
       "      <td>chlorobenzene</td>\n",
       "      <td>c1ccc(cc1)Cl</td>\n",
       "      <td>-1.12</td>\n",
       "      <td>-0.475</td>\n",
       "      <td>Molecule with name '' and SMILES '[H][c]1[c]([...</td>\n",
       "    </tr>\n",
       "    <tr>\n",
       "      <th>6</th>\n",
       "      <td>cyclohexanol</td>\n",
       "      <td>C1CCC(CC1)O</td>\n",
       "      <td>-5.46</td>\n",
       "      <td>-4.178</td>\n",
       "      <td>Molecule with name '' and SMILES '[H][O][C]1([...</td>\n",
       "    </tr>\n",
       "    <tr>\n",
       "      <th>7</th>\n",
       "      <td>2-[(1R)-1-methylpropyl]-4,6-dinitro-phenolate</td>\n",
       "      <td>CC[C@@H](C)c1cc(cc(c1O)[N+](=O)[O-])[N+](=O)[O-]</td>\n",
       "      <td>-6.23</td>\n",
       "      <td>-5.378</td>\n",
       "      <td>Molecule with name '' and SMILES '[H][O][c]1[c...</td>\n",
       "    </tr>\n",
       "    <tr>\n",
       "      <th>8</th>\n",
       "      <td>ethanamine</td>\n",
       "      <td>CCN</td>\n",
       "      <td>-4.50</td>\n",
       "      <td>-3.156</td>\n",
       "      <td>Molecule with name '' and SMILES '[H][N]([H])[...</td>\n",
       "    </tr>\n",
       "    <tr>\n",
       "      <th>9</th>\n",
       "      <td>butan-1-ol</td>\n",
       "      <td>CCCCO</td>\n",
       "      <td>-4.72</td>\n",
       "      <td>-3.232</td>\n",
       "      <td>Molecule with name '' and SMILES '[H][O][C]([H...</td>\n",
       "    </tr>\n",
       "  </tbody>\n",
       "</table>\n",
       "</div>"
      ],
      "text/plain": [
       "                                           iupac  \\\n",
       "0                  methyl 2,2,2-trifluoroacetate   \n",
       "1                           1,2-dinitroxypropane   \n",
       "2                                  butan-1-amine   \n",
       "3                                       alachlor   \n",
       "4                        trimethoxymethylbenzene   \n",
       "5                                  chlorobenzene   \n",
       "6                                   cyclohexanol   \n",
       "7  2-[(1R)-1-methylpropyl]-4,6-dinitro-phenolate   \n",
       "8                                     ethanamine   \n",
       "9                                     butan-1-ol   \n",
       "\n",
       "                                             smiles  expt   calc  \\\n",
       "0                                   COC(=O)C(F)(F)F -1.10 -1.353   \n",
       "1              C[C@@H](CO[N+](=O)[O-])O[N+](=O)[O-] -4.95 -5.646   \n",
       "2                                             CCCCN -4.24 -2.961   \n",
       "3                      CCc1cccc(c1N(COC)C(=O)CCl)CC -8.21 -6.851   \n",
       "4                               COC(c1ccccc1)(OC)OC -4.04 -5.559   \n",
       "5                                      c1ccc(cc1)Cl -1.12 -0.475   \n",
       "6                                       C1CCC(CC1)O -5.46 -4.178   \n",
       "7  CC[C@@H](C)c1cc(cc(c1O)[N+](=O)[O-])[N+](=O)[O-] -6.23 -5.378   \n",
       "8                                               CCN -4.50 -3.156   \n",
       "9                                             CCCCO -4.72 -3.232   \n",
       "\n",
       "                                                 mol  \n",
       "0  Molecule with name '' and SMILES '[H][C]([H])(...  \n",
       "1  Molecule with name '' and SMILES '[H][C]([H])(...  \n",
       "2  Molecule with name '' and SMILES '[H][N]([H])[...  \n",
       "3  Molecule with name '' and SMILES '[H][c]1[c]([...  \n",
       "4  Molecule with name '' and SMILES '[H][c]1[c]([...  \n",
       "5  Molecule with name '' and SMILES '[H][c]1[c]([...  \n",
       "6  Molecule with name '' and SMILES '[H][O][C]1([...  \n",
       "7  Molecule with name '' and SMILES '[H][O][c]1[c...  \n",
       "8  Molecule with name '' and SMILES '[H][N]([H])[...  \n",
       "9  Molecule with name '' and SMILES '[H][O][C]([H...  "
      ]
     },
     "execution_count": 2,
     "metadata": {},
     "output_type": "execute_result"
    }
   ],
   "source": [
    "def get_toy_molecules(\n",
    "    n_molecules: int = 10,\n",
    "    progress: bool = True,\n",
    "    progress_leave: bool = False,\n",
    "):\n",
    "    # Get some data\n",
    "    data = dm.data.freesolv()\n",
    "    data = data.sample(n=n_molecules)\n",
    "\n",
    "    def _process(smiles):\n",
    "        # Convert to OFF mol\n",
    "        mol = Molecule.from_smiles(smiles)\n",
    "        assert mol is not None\n",
    "\n",
    "        # Generate a conformer\n",
    "        mol.generate_conformers(n_conformers=1)\n",
    "\n",
    "        return mol\n",
    "\n",
    "    # Generate conformers\n",
    "    data[\"mol\"] = dm.parallelized(\n",
    "        _process,\n",
    "        data[\"smiles\"],\n",
    "        progress=progress,\n",
    "        tqdm_kwargs=dict(leave=progress_leave),\n",
    "    )\n",
    "\n",
    "    data = data.reset_index(drop=True)\n",
    "    return data\n",
    "\n",
    "\n",
    "data = get_toy_molecules(n_molecules=10)\n",
    "\n",
    "data"
   ]
  },
  {
   "cell_type": "markdown",
   "id": "90f63924-9e76-46b5-a123-66b816f94bfc",
   "metadata": {},
   "source": [
    "## Initialize the `PortalClient`"
   ]
  },
  {
   "cell_type": "markdown",
   "id": "abb8d2e0-327a-4588-a2e8-f33c9db496ce",
   "metadata": {},
   "source": [
    "The client object will allow to interact with any QCfractal instance."
   ]
  },
  {
   "cell_type": "code",
   "execution_count": 3,
   "id": "2725497c-9c28-4ac5-a7c3-d87462c922bf",
   "metadata": {},
   "outputs": [
    {
     "data": {
      "text/html": [
       "\n",
       "<h3>PortalClient</h3>\n",
       "<ul>\n",
       "<li><b>Server:   &nbsp; </b>openfractal-test</li>\n",
       "<li><b>Address:  &nbsp; </b>https://openfractal-test-pgzbs3yryq-uc.a.run.app/</li>\n",
       "<li><b>Username: &nbsp; </b>admin_default</li>\n",
       "</ul>\n"
      ],
      "text/plain": [
       "PortalClient(server_name='openfractal-test', address='https://openfractal-test-pgzbs3yryq-uc.a.run.app/', username='admin_default')"
      ]
     },
     "execution_count": 3,
     "metadata": {},
     "output_type": "execute_result"
    }
   ],
   "source": [
    "client = PortalClient(\n",
    "    address=\"https://openfractal-test-pgzbs3yryq-uc.a.run.app\",\n",
    "    username=os.environ[\"OPENFRACTAL_USER_1_USERNAME\"],\n",
    "    password=os.environ[\"OPENFRACTAL_USER_1_PASSWORD\"],\n",
    ")\n",
    "\n",
    "client"
   ]
  },
  {
   "cell_type": "markdown",
   "id": "38006b2e-53ec-4dff-a20f-a20154a8942b",
   "metadata": {},
   "source": [
    "You can display some general informations about this instance:"
   ]
  },
  {
   "cell_type": "code",
   "execution_count": 4,
   "id": "d04859eb-63ac-47bc-a1ae-3cddc20fdc75",
   "metadata": {},
   "outputs": [
    {
     "data": {
      "text/plain": [
       "{'name': 'openfractal-test',\n",
       " 'manager_heartbeat_frequency': 10,\n",
       " 'manager_heartbeat_max_missed': 5,\n",
       " 'version': '0.50b11.post13+gc0062725',\n",
       " 'api_limits': {'get_records': 1000,\n",
       "  'add_records': 500,\n",
       "  'get_dataset_entries': 2000,\n",
       "  'get_molecules': 1000,\n",
       "  'add_molecules': 1000,\n",
       "  'get_managers': 1000,\n",
       "  'manager_tasks_claim': 200,\n",
       "  'manager_tasks_return': 10,\n",
       "  'get_server_stats': 25,\n",
       "  'get_access_logs': 1000,\n",
       "  'get_error_logs': 100,\n",
       "  'get_internal_jobs': 1000},\n",
       " 'client_version_lower_limit': '0.50b11',\n",
       " 'client_version_upper_limit': '1',\n",
       " 'manager_version_lower_limit': '0.50b11',\n",
       " 'manager_version_upper_limit': '1',\n",
       " 'motd': ''}"
      ]
     },
     "execution_count": 4,
     "metadata": {},
     "output_type": "execute_result"
    }
   ],
   "source": [
    "client.server_info"
   ]
  },
  {
   "cell_type": "markdown",
   "id": "a86bc060-abc7-45f5-bf6f-f1c3cd1d3b61",
   "metadata": {},
   "source": [
    "## Create a new dataset on the server"
   ]
  },
  {
   "cell_type": "code",
   "execution_count": 5,
   "id": "96349389-335b-4381-b9ff-d5751964a653",
   "metadata": {},
   "outputs": [
    {
     "data": {
      "text/plain": [
       "'dataset_demo_4719875601'"
      ]
     },
     "execution_count": 5,
     "metadata": {},
     "output_type": "execute_result"
    }
   ],
   "source": [
    "# Generate a random suffix for your dataset\n",
    "dataset_suffix = \"\".join(random.choices([str(i) for i in range(10)], k=10))\n",
    "\n",
    "dataset_name = f\"dataset_demo_{dataset_suffix}\"\n",
    "\n",
    "dataset_name"
   ]
  },
  {
   "cell_type": "code",
   "execution_count": 6,
   "id": "7a980c4f-8c04-4f27-b7fb-3bbd7b08fc2b",
   "metadata": {},
   "outputs": [
    {
     "data": {
      "text/plain": [
       "SinglepointDataset(id=3, dataset_type='singlepoint', name='dataset_demo_4719875601', description='my great dataset!', tagline='', tags=['demo_local'], group='default', visibility=True, provenance={}, default_tag='*', default_priority=<PriorityEnum.normal: 1>, owner_user='admin_default', owner_group=None, metadata={}, extras={}, entry_names_=[], specifications_={}, entries_={}, record_map_={}, contributed_values_=None, auto_fetch_missing=True)"
      ]
     },
     "execution_count": 6,
     "metadata": {},
     "output_type": "execute_result"
    }
   ],
   "source": [
    "kwargs = {}\n",
    "kwargs[\"dataset_type\"] = \"singlepoint\"\n",
    "kwargs[\"name\"] = dataset_name\n",
    "kwargs[\"description\"] = \"my great dataset!\"\n",
    "# the tag allows you to restrict this dataset to only specific managers\n",
    "kwargs[\"tags\"] = [\"demo_local\"]  \n",
    "kwargs[\"group\"] = None\n",
    "kwargs[\"provenance\"] = {}\n",
    "kwargs[\"visibility\"] = True\n",
    "kwargs[\"default_tag\"] = \"*\"\n",
    "kwargs[\"default_priority\"] = PriorityEnum.normal\n",
    "kwargs[\"metadata\"] = {}\n",
    "kwargs[\"owner_group\"] = None\n",
    "\n",
    "ds = client.add_dataset(**kwargs)\n",
    "\n",
    "ds"
   ]
  },
  {
   "cell_type": "markdown",
   "id": "1491f334-3525-4326-bc3b-5e19198b7c89",
   "metadata": {},
   "source": [
    "## Build \"entries\" from the dataset\n",
    "\n",
    "An entry is a single data point object that hold a 3D atomistic system (also called a molecule). You can associate custom attributes to a given molecule."
   ]
  },
  {
   "cell_type": "code",
   "execution_count": 7,
   "id": "62bac149-bcb3-4aef-b3ec-e007c98e2a79",
   "metadata": {},
   "outputs": [
    {
     "data": {
      "application/vnd.jupyter.widget-view+json": {
       "model_id": "bb39c681f7f444bca931a403167e9669",
       "version_major": 2,
       "version_minor": 0
      },
      "text/plain": [
       "  0%|          | 0/2 [00:00<?, ?it/s]"
      ]
     },
     "metadata": {},
     "output_type": "display_data"
    },
    {
     "data": {
      "application/vnd.jupyter.widget-view+json": {
       "model_id": "",
       "version_major": 2,
       "version_minor": 0
      },
      "text/plain": [
       "  0%|          | 0/5 [00:00<?, ?it/s]"
      ]
     },
     "metadata": {},
     "output_type": "display_data"
    },
    {
     "data": {
      "application/vnd.jupyter.widget-view+json": {
       "model_id": "",
       "version_major": 2,
       "version_minor": 0
      },
      "text/plain": [
       "  0%|          | 0/5 [00:00<?, ?it/s]"
      ]
     },
     "metadata": {},
     "output_type": "display_data"
    }
   ],
   "source": [
    "chunk_size = 5\n",
    "progress = True\n",
    "progress_leave = False\n",
    "\n",
    "\n",
    "def _create_entry(i, row):\n",
    "    kwargs = {}\n",
    "    kwargs[\"name\"] = f\"mol_{i}\"\n",
    "    kwargs[\"molecule\"] = row[\"mol\"].to_qcschema()\n",
    "    kwargs[\"additional_keywords\"] = {}\n",
    "    kwargs[\"attributes\"] = row.drop(\"mol\").to_dict()\n",
    "    kwargs[\"comment\"] = None\n",
    "    return SinglepointDatasetNewEntry(**kwargs)\n",
    "\n",
    "\n",
    "# We build and send the entry by chunk in case of large dataset\n",
    "for i in tqdm(range(0, len(data), chunk_size)):\n",
    "    # Get the rows\n",
    "    rows = data.iloc[i : i + chunk_size]\n",
    "\n",
    "    # Build the entries\n",
    "    entries = dm.parallelized(\n",
    "        _create_entry,\n",
    "        rows.iterrows(),\n",
    "        arg_type=\"args\",\n",
    "        total=len(rows),\n",
    "        progress=progress,\n",
    "        tqdm_kwargs=dict(leave=progress_leave),\n",
    "    )\n",
    "\n",
    "    # Send the entries to the server\n",
    "    insert_md = ds.add_entries(entries)\n",
    "    assert insert_md.success"
   ]
  },
  {
   "cell_type": "markdown",
   "id": "7a3da19c-c38e-482d-ad45-1538f76f343f",
   "metadata": {},
   "source": [
    "You can check the newly submitted entries:"
   ]
  },
  {
   "cell_type": "code",
   "execution_count": 16,
   "id": "d72b8d6a-4907-461c-a4c2-e222a8f0765d",
   "metadata": {},
   "outputs": [
    {
     "data": {
      "text/plain": [
       "[SinglepointDatasetEntry(name='mol_0', molecule=Molecule(name='C3F3H3O2', formula='C3F3H3O2', hash='d1d3bf2'), additional_keywords={}, attributes={'calc': -1.353, 'expt': -1.1, 'iupac': 'methyl 2,2,2-trifluoroacetate', 'smiles': 'COC(=O)C(F)(F)F'}, comment=None, local_results=None),\n",
       " SinglepointDatasetEntry(name='mol_1', molecule=Molecule(name='C3H6N2O6', formula='C3H6N2O6', hash='0c1ebf9'), additional_keywords={}, attributes={'calc': -5.646, 'expt': -4.95, 'iupac': '1,2-dinitroxypropane', 'smiles': 'C[C@@H](CO[N+](=O)[O-])O[N+](=O)[O-]'}, comment=None, local_results=None),\n",
       " SinglepointDatasetEntry(name='mol_2', molecule=Molecule(name='C4H11N', formula='C4H11N', hash='5fff2f0'), additional_keywords={}, attributes={'calc': -2.961, 'expt': -4.24, 'iupac': 'butan-1-amine', 'smiles': 'CCCCN'}, comment=None, local_results=None),\n",
       " SinglepointDatasetEntry(name='mol_3', molecule=Molecule(name='C14ClH20NO2', formula='C14ClH20NO2', hash='0355c46'), additional_keywords={}, attributes={'calc': -6.851, 'expt': -8.21, 'iupac': 'alachlor', 'smiles': 'CCc1cccc(c1N(COC)C(=O)CCl)CC'}, comment=None, local_results=None),\n",
       " SinglepointDatasetEntry(name='mol_4', molecule=Molecule(name='C10H14O3', formula='C10H14O3', hash='59cbc0f'), additional_keywords={}, attributes={'calc': -5.559, 'expt': -4.04, 'iupac': 'trimethoxymethylbenzene', 'smiles': 'COC(c1ccccc1)(OC)OC'}, comment=None, local_results=None),\n",
       " SinglepointDatasetEntry(name='mol_5', molecule=Molecule(name='C6ClH5', formula='C6ClH5', hash='e04178b'), additional_keywords={}, attributes={'calc': -0.475, 'expt': -1.12, 'iupac': 'chlorobenzene', 'smiles': 'c1ccc(cc1)Cl'}, comment=None, local_results=None),\n",
       " SinglepointDatasetEntry(name='mol_6', molecule=Molecule(name='C6H12O', formula='C6H12O', hash='fd073cb'), additional_keywords={}, attributes={'calc': -4.178, 'expt': -5.46, 'iupac': 'cyclohexanol', 'smiles': 'C1CCC(CC1)O'}, comment=None, local_results=None),\n",
       " SinglepointDatasetEntry(name='mol_7', molecule=Molecule(name='C10H12N2O5', formula='C10H12N2O5', hash='b1b1437'), additional_keywords={}, attributes={'calc': -5.378, 'expt': -6.23, 'iupac': '2-[(1R)-1-methylpropyl]-4,6-dinitro-phenolate', 'smiles': 'CC[C@@H](C)c1cc(cc(c1O)[N+](=O)[O-])[N+](=O)[O-]'}, comment=None, local_results=None),\n",
       " SinglepointDatasetEntry(name='mol_8', molecule=Molecule(name='C2H7N', formula='C2H7N', hash='bab29d8'), additional_keywords={}, attributes={'calc': -3.156, 'expt': -4.5, 'iupac': 'ethanamine', 'smiles': 'CCN'}, comment=None, local_results=None),\n",
       " SinglepointDatasetEntry(name='mol_9', molecule=Molecule(name='C4H10O', formula='C4H10O', hash='9939d52'), additional_keywords={}, attributes={'calc': -3.232, 'expt': -4.72, 'iupac': 'butan-1-ol', 'smiles': 'CCCCO'}, comment=None, local_results=None)]"
      ]
     },
     "execution_count": 16,
     "metadata": {},
     "output_type": "execute_result"
    }
   ],
   "source": [
    "list(ds.iterate_entries())"
   ]
  },
  {
   "cell_type": "markdown",
   "id": "2e1c4534-614c-4771-b209-2a8939a54b08",
   "metadata": {},
   "source": [
    "## Create the QM specification\n",
    "\n",
    "The QM specification defines a QM protocol that will be executed on a Dataset.\n",
    "\n",
    "Here we choose a cheap level of theory: `hf/sto-3g`."
   ]
  },
  {
   "cell_type": "code",
   "execution_count": 8,
   "id": "1f18e9a3-7470-4593-af8a-67543c083448",
   "metadata": {},
   "outputs": [
    {
     "data": {
      "text/plain": [
       "QCSpecification(program='psi4', driver=<SinglepointDriver.gradient: 'gradient'>, method='hf', basis='sto-3g', keywords={'wcombine': False, 'scf_properties': ['MBIS_CHARGES', 'WIBERG_LOWDIN_INDICES', 'MAYER_INDICES', 'LOWDIN_CHARGES', 'DIPOLE', 'QUADRUPOLE']}, protocols=AtomicResultProtocols(wavefunction=<WavefunctionProtocolEnum.all: 'all'>, stdout=True, error_correction=ErrorCorrectionProtocol(default_policy=True, policies=None), native_files=<NativeFilesProtocolEnum.none: 'none'>))"
      ]
     },
     "execution_count": 8,
     "metadata": {},
     "output_type": "execute_result"
    }
   ],
   "source": [
    "## PSI4 SCF properties\n",
    "## See https://psicode.org/psi4manual/master/oeprop.html#id2\n",
    "scf_properties = [\n",
    "    \"MBIS_CHARGES\",\n",
    "    \"WIBERG_LOWDIN_INDICES\",\n",
    "    \"MAYER_INDICES\",\n",
    "    \"LOWDIN_CHARGES\",\n",
    "    \"DIPOLE\",\n",
    "    \"QUADRUPOLE\",\n",
    "]\n",
    "\n",
    "## Build the protocols\n",
    "## One of: all, none or orbitals_and_eigenvalues\n",
    "protocols = {\"wavefunction\": \"all\"}\n",
    "\n",
    "## Build the specification\n",
    "kwargs = {}\n",
    "kwargs[\"program\"] = \"psi4\"\n",
    "kwargs[\"driver\"] = SinglepointDriver.gradient\n",
    "# kwargs[\"method\"] = \"wb97m-d3bj\"\n",
    "# kwargs[\"basis\"] = \"def2-tzvppd\"\n",
    "kwargs[\"method\"] = \"hf\"\n",
    "kwargs[\"basis\"] = \"sto-3g\"\n",
    "kwargs[\"keywords\"] = {\"wcombine\": False, \"scf_properties\": scf_properties}\n",
    "kwargs[\"protocols\"] = protocols\n",
    "\n",
    "specification = QCSpecification(**kwargs)\n",
    "\n",
    "specification"
   ]
  },
  {
   "cell_type": "markdown",
   "id": "27562118-494b-4688-a5a7-119e19d69255",
   "metadata": {},
   "source": [
    "Now we submit this QM specification (protocol) to the dataset we created above to the server.\n",
    "\n",
    "**Warning: once you have submitted a specification to a dataset, the compatible managers will start picking up jobs and perform the QM calculcations.**"
   ]
  },
  {
   "cell_type": "code",
   "execution_count": 10,
   "id": "ecd1dbfb-43e1-405f-917e-faab78447185",
   "metadata": {},
   "outputs": [],
   "source": [
    "kwargs = {}\n",
    "kwargs[\"name\"] = \"simple_qm_calculation_demo\"\n",
    "kwargs[\"specification\"] = specification\n",
    "kwargs[\"description\"] = None\n",
    "insert_md = ds.add_specification(**kwargs)\n",
    "assert insert_md"
   ]
  },
  {
   "cell_type": "code",
   "execution_count": 15,
   "id": "f4a07480-d3fc-46ef-80f4-ed95cae084f7",
   "metadata": {},
   "outputs": [
    {
     "data": {
      "text/plain": [
       "[SinglepointDatasetEntry(name='mol_0', molecule=Molecule(name='C3F3H3O2', formula='C3F3H3O2', hash='d1d3bf2'), additional_keywords={}, attributes={'calc': -1.353, 'expt': -1.1, 'iupac': 'methyl 2,2,2-trifluoroacetate', 'smiles': 'COC(=O)C(F)(F)F'}, comment=None, local_results=None),\n",
       " SinglepointDatasetEntry(name='mol_1', molecule=Molecule(name='C3H6N2O6', formula='C3H6N2O6', hash='0c1ebf9'), additional_keywords={}, attributes={'calc': -5.646, 'expt': -4.95, 'iupac': '1,2-dinitroxypropane', 'smiles': 'C[C@@H](CO[N+](=O)[O-])O[N+](=O)[O-]'}, comment=None, local_results=None),\n",
       " SinglepointDatasetEntry(name='mol_2', molecule=Molecule(name='C4H11N', formula='C4H11N', hash='5fff2f0'), additional_keywords={}, attributes={'calc': -2.961, 'expt': -4.24, 'iupac': 'butan-1-amine', 'smiles': 'CCCCN'}, comment=None, local_results=None),\n",
       " SinglepointDatasetEntry(name='mol_3', molecule=Molecule(name='C14ClH20NO2', formula='C14ClH20NO2', hash='0355c46'), additional_keywords={}, attributes={'calc': -6.851, 'expt': -8.21, 'iupac': 'alachlor', 'smiles': 'CCc1cccc(c1N(COC)C(=O)CCl)CC'}, comment=None, local_results=None),\n",
       " SinglepointDatasetEntry(name='mol_4', molecule=Molecule(name='C10H14O3', formula='C10H14O3', hash='59cbc0f'), additional_keywords={}, attributes={'calc': -5.559, 'expt': -4.04, 'iupac': 'trimethoxymethylbenzene', 'smiles': 'COC(c1ccccc1)(OC)OC'}, comment=None, local_results=None),\n",
       " SinglepointDatasetEntry(name='mol_5', molecule=Molecule(name='C6ClH5', formula='C6ClH5', hash='e04178b'), additional_keywords={}, attributes={'calc': -0.475, 'expt': -1.12, 'iupac': 'chlorobenzene', 'smiles': 'c1ccc(cc1)Cl'}, comment=None, local_results=None),\n",
       " SinglepointDatasetEntry(name='mol_6', molecule=Molecule(name='C6H12O', formula='C6H12O', hash='fd073cb'), additional_keywords={}, attributes={'calc': -4.178, 'expt': -5.46, 'iupac': 'cyclohexanol', 'smiles': 'C1CCC(CC1)O'}, comment=None, local_results=None),\n",
       " SinglepointDatasetEntry(name='mol_7', molecule=Molecule(name='C10H12N2O5', formula='C10H12N2O5', hash='b1b1437'), additional_keywords={}, attributes={'calc': -5.378, 'expt': -6.23, 'iupac': '2-[(1R)-1-methylpropyl]-4,6-dinitro-phenolate', 'smiles': 'CC[C@@H](C)c1cc(cc(c1O)[N+](=O)[O-])[N+](=O)[O-]'}, comment=None, local_results=None),\n",
       " SinglepointDatasetEntry(name='mol_8', molecule=Molecule(name='C2H7N', formula='C2H7N', hash='bab29d8'), additional_keywords={}, attributes={'calc': -3.156, 'expt': -4.5, 'iupac': 'ethanamine', 'smiles': 'CCN'}, comment=None, local_results=None),\n",
       " SinglepointDatasetEntry(name='mol_9', molecule=Molecule(name='C4H10O', formula='C4H10O', hash='9939d52'), additional_keywords={}, attributes={'calc': -3.232, 'expt': -4.72, 'iupac': 'butan-1-ol', 'smiles': 'CCCCO'}, comment=None, local_results=None)]"
      ]
     },
     "execution_count": 15,
     "metadata": {},
     "output_type": "execute_result"
    }
   ],
   "source": [
    "list(ds.iterate_entries())"
   ]
  },
  {
   "cell_type": "code",
   "execution_count": null,
   "id": "f42717e5-9ce9-4f76-910a-5aae3f0c44b7",
   "metadata": {},
   "outputs": [],
   "source": [
    "list(ds.iterate_entries())"
   ]
  },
  {
   "cell_type": "markdown",
   "id": "7cfa989f-af2e-4460-89c2-aa54b0b43edd",
   "metadata": {},
   "source": [
    "## Submit the dataset"
   ]
  },
  {
   "cell_type": "code",
   "execution_count": 6,
   "id": "aadb9712-5c81-4e63-8541-3b5a0443ddab",
   "metadata": {},
   "outputs": [
    {
     "data": {
      "text/plain": [
       "{'name': 'openfractal-test',\n",
       " 'manager_heartbeat_frequency': 10,\n",
       " 'manager_heartbeat_max_missed': 5,\n",
       " 'version': '0.50b11.post13+gc0062725',\n",
       " 'api_limits': {'get_records': 1000,\n",
       "  'add_records': 500,\n",
       "  'get_dataset_entries': 2000,\n",
       "  'get_molecules': 1000,\n",
       "  'add_molecules': 1000,\n",
       "  'get_managers': 1000,\n",
       "  'manager_tasks_claim': 200,\n",
       "  'manager_tasks_return': 10,\n",
       "  'get_server_stats': 25,\n",
       "  'get_access_logs': 1000,\n",
       "  'get_error_logs': 100,\n",
       "  'get_internal_jobs': 1000},\n",
       " 'client_version_lower_limit': '0.50b11',\n",
       " 'client_version_upper_limit': '1',\n",
       " 'manager_version_lower_limit': '0.50b11',\n",
       " 'manager_version_upper_limit': '1',\n",
       " 'motd': ''}"
      ]
     },
     "execution_count": 6,
     "metadata": {},
     "output_type": "execute_result"
    }
   ],
   "source": [
    "client = PortalClient(\n",
    "    address=\"https://openfractal-test-pgzbs3yryq-uc.a.run.app\",\n",
    "    username=os.environ[\"OPENFRACTAL_USER_1_NAME\"],\n",
    "    password=os.environ[\"OPENFRACTAL_USER_1_PASSWORD\"],\n",
    ")\n",
    "\n",
    "client.server_info"
   ]
  },
  {
   "cell_type": "code",
   "execution_count": 3,
   "id": "f49e9996-be6b-4174-b464-b580a18bc989",
   "metadata": {},
   "outputs": [
    {
     "name": "stderr",
     "output_type": "stream",
     "text": [
      "\u001b[32m2023-06-04 18:43:29.761\u001b[0m | \u001b[1mINFO    \u001b[0m | \u001b[36mopenfractal_backend.toy_dataset\u001b[0m:\u001b[36mcreate_submit_toy_dataset\u001b[0m:\u001b[36m61\u001b[0m - \u001b[1mCreating dataset dataset_1 of type singlepoint.\u001b[0m\n",
      "\u001b[32m2023-06-04 18:43:30.270\u001b[0m | \u001b[1mINFO    \u001b[0m | \u001b[36mopenfractal_backend.toy_dataset\u001b[0m:\u001b[36mcreate_submit_toy_dataset\u001b[0m:\u001b[36m78\u001b[0m - \u001b[1mBuilding 100 molecules.\u001b[0m\n"
     ]
    },
    {
     "data": {
      "application/vnd.jupyter.widget-view+json": {
       "model_id": "",
       "version_major": 2,
       "version_minor": 0
      },
      "text/plain": [
       "  0%|          | 0/100 [00:00<?, ?it/s]"
      ]
     },
     "metadata": {},
     "output_type": "display_data"
    },
    {
     "name": "stderr",
     "output_type": "stream",
     "text": [
      "\u001b[32m2023-06-04 18:43:31.154\u001b[0m | \u001b[1mINFO    \u001b[0m | \u001b[36mopenfractal_backend.toy_dataset\u001b[0m:\u001b[36mcreate_submit_toy_dataset\u001b[0m:\u001b[36m81\u001b[0m - \u001b[1mCreating entries for 100 molecules and submitting to the server.\u001b[0m\n"
     ]
    },
    {
     "data": {
      "application/vnd.jupyter.widget-view+json": {
       "model_id": "13ad59bb3744480db19adb3f69d340db",
       "version_major": 2,
       "version_minor": 0
      },
      "text/plain": [
       "  0%|          | 0/1 [00:00<?, ?it/s]"
      ]
     },
     "metadata": {},
     "output_type": "display_data"
    },
    {
     "data": {
      "application/vnd.jupyter.widget-view+json": {
       "model_id": "",
       "version_major": 2,
       "version_minor": 0
      },
      "text/plain": [
       "  0%|          | 0/100 [00:00<?, ?it/s]"
      ]
     },
     "metadata": {},
     "output_type": "display_data"
    },
    {
     "name": "stderr",
     "output_type": "stream",
     "text": [
      "\u001b[32m2023-06-04 18:43:33.180\u001b[0m | \u001b[1mINFO    \u001b[0m | \u001b[36mopenfractal_backend.toy_dataset\u001b[0m:\u001b[36mcreate_submit_toy_dataset\u001b[0m:\u001b[36m91\u001b[0m - \u001b[1mCreating specification qm_hf_sto3g.\u001b[0m\n",
      "\u001b[32m2023-06-04 18:43:33.722\u001b[0m | \u001b[1mINFO    \u001b[0m | \u001b[36mopenfractal_backend.toy_dataset\u001b[0m:\u001b[36mcreate_submit_toy_dataset\u001b[0m:\u001b[36m130\u001b[0m - \u001b[1mSubmitting the computation for dataset dataset_1.\u001b[0m\n",
      "\u001b[32m2023-06-04 18:43:34.122\u001b[0m | \u001b[1mINFO    \u001b[0m | \u001b[36mopenfractal_backend.toy_dataset\u001b[0m:\u001b[36mcreate_submit_toy_dataset\u001b[0m:\u001b[36m133\u001b[0m - \u001b[1mDataset dataset_1 submitted.\u001b[0m\n"
     ]
    }
   ],
   "source": [
    "kwargs = {}\n",
    "kwargs[\"client\"] = client\n",
    "kwargs[\"dataset_name\"] = \"dataset_1\"\n",
    "kwargs[\"specification_name\"] = \"qm_hf_sto3g\"\n",
    "kwargs[\"dataset_type\"] = \"singlepoint\"\n",
    "kwargs[\"n_molecules\"] = 100\n",
    "kwargs[\"chunk_size\"] = 1_000\n",
    "kwargs[\"progress\"] = True\n",
    "kwargs[\"progress_leave\"] = False\n",
    "\n",
    "ds = create_submit_toy_dataset(**kwargs)"
   ]
  },
  {
   "cell_type": "markdown",
   "id": "4e980dc2-dfa7-4049-987a-b2420b067dfa",
   "metadata": {},
   "source": [
    "## Monitoring"
   ]
  },
  {
   "cell_type": "markdown",
   "id": "16e01af1-d6f3-49a1-9608-a6f54ac3c05d",
   "metadata": {},
   "source": [
    "Retrieve a dataset by its name."
   ]
  },
  {
   "cell_type": "code",
   "execution_count": 12,
   "id": "0a30a5c0-cee4-4b8a-88fc-caea9755450a",
   "metadata": {},
   "outputs": [
    {
     "data": {
      "text/plain": [
       "SinglepointDataset(id=3, dataset_type='singlepoint', name='dataset_demo_4719875601', description='my great dataset!', tagline='', tags=['demo_local'], group='default', visibility=True, provenance={}, default_tag='*', default_priority=<PriorityEnum.normal: 1>, owner_user='admin_default', owner_group=None, metadata={}, extras={}, entry_names_=[], specifications_={}, entries_={}, record_map_={}, contributed_values_=None, auto_fetch_missing=True)"
      ]
     },
     "execution_count": 12,
     "metadata": {},
     "output_type": "execute_result"
    }
   ],
   "source": [
    "ds = client.get_dataset(\"singlepoint\", dataset_name)\n",
    "ds"
   ]
  },
  {
   "cell_type": "markdown",
   "id": "c73d3f45-018e-4e8c-9ead-bab48f3531d6",
   "metadata": {},
   "source": [
    "Print a table showing the status for a dataset."
   ]
  },
  {
   "cell_type": "code",
   "execution_count": 13,
   "id": "2582131e-63a7-4f53-b6ef-c740e654651a",
   "metadata": {},
   "outputs": [
    {
     "name": "stdout",
     "output_type": "stream",
     "text": [
      "  specification\n",
      "---------------\n"
     ]
    }
   ],
   "source": [
    "print(ds.status_table())"
   ]
  },
  {
   "cell_type": "markdown",
   "id": "2ea4c7b8-32f2-42bf-8b94-16ccb5c61b8d",
   "metadata": {},
   "source": [
    "Read the records (some might be completed but some might still be in progress or in failing state."
   ]
  },
  {
   "cell_type": "code",
   "execution_count": 23,
   "id": "fe77233b-5953-4202-aaad-b11ceceeeb69",
   "metadata": {},
   "outputs": [
    {
     "data": {
      "application/vnd.jupyter.widget-view+json": {
       "model_id": "6bcf2b9dcd0e469687bb457c169d7f42",
       "version_major": 2,
       "version_minor": 0
      },
      "text/plain": [
       "0it [00:00, ?it/s]"
      ]
     },
     "metadata": {},
     "output_type": "display_data"
    },
    {
     "ename": "KeyError",
     "evalue": "'id'",
     "output_type": "error",
     "traceback": [
      "\u001b[0;31m---------------------------------------------------------------------------\u001b[0m",
      "\u001b[0;31mKeyError\u001b[0m                                  Traceback (most recent call last)",
      "\u001b[0;32m/tmp/ipykernel_109343/2458081384.py\u001b[0m in \u001b[0;36m?\u001b[0;34m()\u001b[0m\n\u001b[1;32m      4\u001b[0m     \u001b[0mr\u001b[0m\u001b[0;34m.\u001b[0m\u001b[0merror\u001b[0m\u001b[0;34m\u001b[0m\u001b[0;34m\u001b[0m\u001b[0m\n\u001b[1;32m      5\u001b[0m     \u001b[0mrecords_list\u001b[0m\u001b[0;34m.\u001b[0m\u001b[0mappend\u001b[0m\u001b[0;34m(\u001b[0m\u001b[0mr\u001b[0m\u001b[0;34m.\u001b[0m\u001b[0mdict\u001b[0m\u001b[0;34m(\u001b[0m\u001b[0;34m)\u001b[0m\u001b[0;34m)\u001b[0m\u001b[0;34m\u001b[0m\u001b[0;34m\u001b[0m\u001b[0m\n\u001b[1;32m      6\u001b[0m \u001b[0;34m\u001b[0m\u001b[0m\n\u001b[1;32m      7\u001b[0m \u001b[0mrecords\u001b[0m \u001b[0;34m=\u001b[0m \u001b[0mpd\u001b[0m\u001b[0;34m.\u001b[0m\u001b[0mDataFrame\u001b[0m\u001b[0;34m(\u001b[0m\u001b[0mrecords_list\u001b[0m\u001b[0;34m)\u001b[0m\u001b[0;34m\u001b[0m\u001b[0;34m\u001b[0m\u001b[0m\n\u001b[0;32m----> 8\u001b[0;31m \u001b[0mrecords\u001b[0m \u001b[0;34m=\u001b[0m \u001b[0mrecords\u001b[0m\u001b[0;34m.\u001b[0m\u001b[0msort_values\u001b[0m\u001b[0;34m(\u001b[0m\u001b[0;34m\"id\"\u001b[0m\u001b[0;34m)\u001b[0m\u001b[0;34m\u001b[0m\u001b[0;34m\u001b[0m\u001b[0m\n\u001b[0m\u001b[1;32m      9\u001b[0m \u001b[0mrecords\u001b[0m \u001b[0;34m=\u001b[0m \u001b[0mrecords\u001b[0m\u001b[0;34m.\u001b[0m\u001b[0mreset_index\u001b[0m\u001b[0;34m(\u001b[0m\u001b[0mdrop\u001b[0m\u001b[0;34m=\u001b[0m\u001b[0;32mTrue\u001b[0m\u001b[0;34m)\u001b[0m\u001b[0;34m\u001b[0m\u001b[0;34m\u001b[0m\u001b[0m\n\u001b[1;32m     10\u001b[0m \u001b[0;34m\u001b[0m\u001b[0m\n\u001b[1;32m     11\u001b[0m \u001b[0mrecords\u001b[0m\u001b[0;34m\u001b[0m\u001b[0;34m\u001b[0m\u001b[0m\n",
      "\u001b[0;32m~/local/micromamba/envs/openfractal/lib/python3.10/site-packages/pandas/core/frame.py\u001b[0m in \u001b[0;36m?\u001b[0;34m(self, by, axis, ascending, inplace, kind, na_position, ignore_index, key)\u001b[0m\n\u001b[1;32m   6754\u001b[0m         \u001b[0;32melif\u001b[0m \u001b[0mlen\u001b[0m\u001b[0;34m(\u001b[0m\u001b[0mby\u001b[0m\u001b[0;34m)\u001b[0m\u001b[0;34m:\u001b[0m\u001b[0;34m\u001b[0m\u001b[0;34m\u001b[0m\u001b[0m\n\u001b[1;32m   6755\u001b[0m             \u001b[0;31m# len(by) == 1\u001b[0m\u001b[0;34m\u001b[0m\u001b[0;34m\u001b[0m\u001b[0m\n\u001b[1;32m   6756\u001b[0m \u001b[0;34m\u001b[0m\u001b[0m\n\u001b[1;32m   6757\u001b[0m             \u001b[0mby\u001b[0m \u001b[0;34m=\u001b[0m \u001b[0mby\u001b[0m\u001b[0;34m[\u001b[0m\u001b[0;36m0\u001b[0m\u001b[0;34m]\u001b[0m\u001b[0;34m\u001b[0m\u001b[0;34m\u001b[0m\u001b[0m\n\u001b[0;32m-> 6758\u001b[0;31m             \u001b[0mk\u001b[0m \u001b[0;34m=\u001b[0m \u001b[0mself\u001b[0m\u001b[0;34m.\u001b[0m\u001b[0m_get_label_or_level_values\u001b[0m\u001b[0;34m(\u001b[0m\u001b[0mby\u001b[0m\u001b[0;34m,\u001b[0m \u001b[0maxis\u001b[0m\u001b[0;34m=\u001b[0m\u001b[0maxis\u001b[0m\u001b[0;34m)\u001b[0m\u001b[0;34m\u001b[0m\u001b[0;34m\u001b[0m\u001b[0m\n\u001b[0m\u001b[1;32m   6759\u001b[0m \u001b[0;34m\u001b[0m\u001b[0m\n\u001b[1;32m   6760\u001b[0m             \u001b[0;31m# need to rewrap column in Series to apply key function\u001b[0m\u001b[0;34m\u001b[0m\u001b[0;34m\u001b[0m\u001b[0m\n\u001b[1;32m   6761\u001b[0m             \u001b[0;32mif\u001b[0m \u001b[0mkey\u001b[0m \u001b[0;32mis\u001b[0m \u001b[0;32mnot\u001b[0m \u001b[0;32mNone\u001b[0m\u001b[0;34m:\u001b[0m\u001b[0;34m\u001b[0m\u001b[0;34m\u001b[0m\u001b[0m\n",
      "\u001b[0;32m~/local/micromamba/envs/openfractal/lib/python3.10/site-packages/pandas/core/generic.py\u001b[0m in \u001b[0;36m?\u001b[0;34m(self, key, axis)\u001b[0m\n\u001b[1;32m   1774\u001b[0m             \u001b[0mvalues\u001b[0m \u001b[0;34m=\u001b[0m \u001b[0mself\u001b[0m\u001b[0;34m.\u001b[0m\u001b[0mxs\u001b[0m\u001b[0;34m(\u001b[0m\u001b[0mkey\u001b[0m\u001b[0;34m,\u001b[0m \u001b[0maxis\u001b[0m\u001b[0;34m=\u001b[0m\u001b[0mother_axes\u001b[0m\u001b[0;34m[\u001b[0m\u001b[0;36m0\u001b[0m\u001b[0;34m]\u001b[0m\u001b[0;34m)\u001b[0m\u001b[0;34m.\u001b[0m\u001b[0m_values\u001b[0m\u001b[0;34m\u001b[0m\u001b[0;34m\u001b[0m\u001b[0m\n\u001b[1;32m   1775\u001b[0m         \u001b[0;32melif\u001b[0m \u001b[0mself\u001b[0m\u001b[0;34m.\u001b[0m\u001b[0m_is_level_reference\u001b[0m\u001b[0;34m(\u001b[0m\u001b[0mkey\u001b[0m\u001b[0;34m,\u001b[0m \u001b[0maxis\u001b[0m\u001b[0;34m=\u001b[0m\u001b[0maxis\u001b[0m\u001b[0;34m)\u001b[0m\u001b[0;34m:\u001b[0m\u001b[0;34m\u001b[0m\u001b[0;34m\u001b[0m\u001b[0m\n\u001b[1;32m   1776\u001b[0m             \u001b[0mvalues\u001b[0m \u001b[0;34m=\u001b[0m \u001b[0mself\u001b[0m\u001b[0;34m.\u001b[0m\u001b[0maxes\u001b[0m\u001b[0;34m[\u001b[0m\u001b[0maxis\u001b[0m\u001b[0;34m]\u001b[0m\u001b[0;34m.\u001b[0m\u001b[0mget_level_values\u001b[0m\u001b[0;34m(\u001b[0m\u001b[0mkey\u001b[0m\u001b[0;34m)\u001b[0m\u001b[0;34m.\u001b[0m\u001b[0m_values\u001b[0m\u001b[0;34m\u001b[0m\u001b[0;34m\u001b[0m\u001b[0m\n\u001b[1;32m   1777\u001b[0m         \u001b[0;32melse\u001b[0m\u001b[0;34m:\u001b[0m\u001b[0;34m\u001b[0m\u001b[0;34m\u001b[0m\u001b[0m\n\u001b[0;32m-> 1778\u001b[0;31m             \u001b[0;32mraise\u001b[0m \u001b[0mKeyError\u001b[0m\u001b[0;34m(\u001b[0m\u001b[0mkey\u001b[0m\u001b[0;34m)\u001b[0m\u001b[0;34m\u001b[0m\u001b[0;34m\u001b[0m\u001b[0m\n\u001b[0m\u001b[1;32m   1779\u001b[0m \u001b[0;34m\u001b[0m\u001b[0m\n\u001b[1;32m   1780\u001b[0m         \u001b[0;31m# Check for duplicates\u001b[0m\u001b[0;34m\u001b[0m\u001b[0;34m\u001b[0m\u001b[0m\n\u001b[1;32m   1781\u001b[0m         \u001b[0;32mif\u001b[0m \u001b[0mvalues\u001b[0m\u001b[0;34m.\u001b[0m\u001b[0mndim\u001b[0m \u001b[0;34m>\u001b[0m \u001b[0;36m1\u001b[0m\u001b[0;34m:\u001b[0m\u001b[0;34m\u001b[0m\u001b[0;34m\u001b[0m\u001b[0m\n",
      "\u001b[0;31mKeyError\u001b[0m: 'id'"
     ]
    }
   ],
   "source": [
    "records_list = []\n",
    "for r in tqdm(client.query_records(dataset_id=ds.id)):\n",
    "    # Access this object to fetch the potential errors when any\n",
    "    r.error\n",
    "    records_list.append(r.dict())\n",
    "\n",
    "records = pd.DataFrame(records_list)\n",
    "records = records.sort_values(\"id\")\n",
    "records = records.reset_index(drop=True)\n",
    "\n",
    "records"
   ]
  },
  {
   "cell_type": "markdown",
   "id": "f5febe8e-20da-470c-acc4-6a4f2644b283",
   "metadata": {},
   "source": [
    "## Delete a dataset and associated records"
   ]
  },
  {
   "cell_type": "markdown",
   "id": "baf387a8-5c30-476f-a714-7d496d0af304",
   "metadata": {},
   "source": [
    "Retrieve the ID of a given dataset."
   ]
  },
  {
   "cell_type": "code",
   "execution_count": 28,
   "id": "fb519f88-6985-490b-a385-c00468b46ac0",
   "metadata": {},
   "outputs": [
    {
     "data": {
      "text/plain": [
       "[]"
      ]
     },
     "execution_count": 28,
     "metadata": {},
     "output_type": "execute_result"
    }
   ],
   "source": [
    "client.list_datasets()"
   ]
  },
  {
   "cell_type": "code",
   "execution_count": 27,
   "id": "2d1086b8-bfc6-4609-a984-06aa95c2357f",
   "metadata": {},
   "outputs": [
    {
     "ename": "PortalRequestError",
     "evalue": "Request failed: Could not find singlepoint dataset with name 'dataset_demo_2090907589' (HTTP status 400)",
     "output_type": "error",
     "traceback": [
      "\u001b[0;31m---------------------------------------------------------------------------\u001b[0m",
      "\u001b[0;31mPortalRequestError\u001b[0m                        Traceback (most recent call last)",
      "Cell \u001b[0;32mIn[27], line 1\u001b[0m\n\u001b[0;32m----> 1\u001b[0m dataset_id \u001b[38;5;241m=\u001b[39m \u001b[43mclient\u001b[49m\u001b[38;5;241;43m.\u001b[39;49m\u001b[43mget_dataset\u001b[49m\u001b[43m(\u001b[49m\u001b[38;5;124;43m\"\u001b[39;49m\u001b[38;5;124;43msinglepoint\u001b[39;49m\u001b[38;5;124;43m\"\u001b[39;49m\u001b[43m,\u001b[49m\u001b[43m \u001b[49m\u001b[43mdataset_name\u001b[49m\u001b[43m)\u001b[49m\u001b[38;5;241m.\u001b[39mid\n\u001b[1;32m      2\u001b[0m dataset_id\n",
      "File \u001b[0;32m~/local/micromamba/envs/openfractal/lib/python3.10/site-packages/qcportal/client.py:282\u001b[0m, in \u001b[0;36mPortalClient.get_dataset\u001b[0;34m(self, dataset_type, dataset_name)\u001b[0m\n\u001b[1;32m    279\u001b[0m \u001b[38;5;28;01mdef\u001b[39;00m \u001b[38;5;21mget_dataset\u001b[39m(\u001b[38;5;28mself\u001b[39m, dataset_type: \u001b[38;5;28mstr\u001b[39m, dataset_name: \u001b[38;5;28mstr\u001b[39m):\n\u001b[1;32m    281\u001b[0m     body \u001b[38;5;241m=\u001b[39m DatasetQueryModel(dataset_name\u001b[38;5;241m=\u001b[39mdataset_name, dataset_type\u001b[38;5;241m=\u001b[39mdataset_type)\n\u001b[0;32m--> 282\u001b[0m     ds \u001b[38;5;241m=\u001b[39m \u001b[38;5;28;43mself\u001b[39;49m\u001b[38;5;241;43m.\u001b[39;49m\u001b[43mmake_request\u001b[49m\u001b[43m(\u001b[49m\u001b[38;5;124;43m\"\u001b[39;49m\u001b[38;5;124;43mpost\u001b[39;49m\u001b[38;5;124;43m\"\u001b[39;49m\u001b[43m,\u001b[49m\u001b[43m \u001b[49m\u001b[38;5;124;43mf\u001b[39;49m\u001b[38;5;124;43m\"\u001b[39;49m\u001b[38;5;124;43mv1/datasets/query\u001b[39;49m\u001b[38;5;124;43m\"\u001b[39;49m\u001b[43m,\u001b[49m\u001b[43m \u001b[49m\u001b[43mDict\u001b[49m\u001b[43m[\u001b[49m\u001b[38;5;28;43mstr\u001b[39;49m\u001b[43m,\u001b[49m\u001b[43m \u001b[49m\u001b[43mAny\u001b[49m\u001b[43m]\u001b[49m\u001b[43m,\u001b[49m\u001b[43m \u001b[49m\u001b[43mbody\u001b[49m\u001b[38;5;241;43m=\u001b[39;49m\u001b[43mbody\u001b[49m\u001b[43m)\u001b[49m\n\u001b[1;32m    284\u001b[0m     \u001b[38;5;28;01mreturn\u001b[39;00m dataset_from_dict(ds, \u001b[38;5;28mself\u001b[39m)\n",
      "File \u001b[0;32m~/local/micromamba/envs/openfractal/lib/python3.10/site-packages/qcportal/client_base.py:322\u001b[0m, in \u001b[0;36mPortalClientBase.make_request\u001b[0;34m(self, method, endpoint, response_model, body_model, url_params_model, body, url_params)\u001b[0m\n\u001b[1;32m    319\u001b[0m \u001b[38;5;28;01mif\u001b[39;00m \u001b[38;5;28misinstance\u001b[39m(parsed_url_params, pydantic\u001b[38;5;241m.\u001b[39mBaseModel):\n\u001b[1;32m    320\u001b[0m     parsed_url_params \u001b[38;5;241m=\u001b[39m parsed_url_params\u001b[38;5;241m.\u001b[39mdict()\n\u001b[0;32m--> 322\u001b[0m r \u001b[38;5;241m=\u001b[39m \u001b[38;5;28;43mself\u001b[39;49m\u001b[38;5;241;43m.\u001b[39;49m\u001b[43m_request\u001b[49m\u001b[43m(\u001b[49m\u001b[43mmethod\u001b[49m\u001b[43m,\u001b[49m\u001b[43m \u001b[49m\u001b[43mendpoint\u001b[49m\u001b[43m,\u001b[49m\u001b[43m \u001b[49m\u001b[43mbody\u001b[49m\u001b[38;5;241;43m=\u001b[39;49m\u001b[43mserialized_body\u001b[49m\u001b[43m,\u001b[49m\u001b[43m \u001b[49m\u001b[43murl_params\u001b[49m\u001b[38;5;241;43m=\u001b[39;49m\u001b[43mparsed_url_params\u001b[49m\u001b[43m)\u001b[49m\n\u001b[1;32m    323\u001b[0m d \u001b[38;5;241m=\u001b[39m deserialize(r\u001b[38;5;241m.\u001b[39mcontent, r\u001b[38;5;241m.\u001b[39mheaders[\u001b[38;5;124m\"\u001b[39m\u001b[38;5;124mContent-Type\u001b[39m\u001b[38;5;124m\"\u001b[39m])\n\u001b[1;32m    325\u001b[0m \u001b[38;5;28;01mif\u001b[39;00m response_model \u001b[38;5;129;01mis\u001b[39;00m \u001b[38;5;28;01mNone\u001b[39;00m:\n",
      "File \u001b[0;32m~/local/micromamba/envs/openfractal/lib/python3.10/site-packages/qcportal/client_base.py:287\u001b[0m, in \u001b[0;36mPortalClientBase._request\u001b[0;34m(self, method, endpoint, body, url_params, retry)\u001b[0m\n\u001b[1;32m    282\u001b[0m     \u001b[38;5;28;01mexcept\u001b[39;00m:\n\u001b[1;32m    283\u001b[0m         \u001b[38;5;66;03m# If this error comes from, ie, the web server or something else, then\u001b[39;00m\n\u001b[1;32m    284\u001b[0m         \u001b[38;5;66;03m# we have to use 'reason'\u001b[39;00m\n\u001b[1;32m    285\u001b[0m         details \u001b[38;5;241m=\u001b[39m {\u001b[38;5;124m\"\u001b[39m\u001b[38;5;124mmsg\u001b[39m\u001b[38;5;124m\"\u001b[39m: r\u001b[38;5;241m.\u001b[39mreason}\n\u001b[0;32m--> 287\u001b[0m     \u001b[38;5;28;01mraise\u001b[39;00m PortalRequestError(\u001b[38;5;124mf\u001b[39m\u001b[38;5;124m\"\u001b[39m\u001b[38;5;124mRequest failed: \u001b[39m\u001b[38;5;132;01m{\u001b[39;00mdetails[\u001b[38;5;124m'\u001b[39m\u001b[38;5;124mmsg\u001b[39m\u001b[38;5;124m'\u001b[39m]\u001b[38;5;132;01m}\u001b[39;00m\u001b[38;5;124m\"\u001b[39m, r\u001b[38;5;241m.\u001b[39mstatus_code, details)\n\u001b[1;32m    289\u001b[0m \u001b[38;5;28;01mreturn\u001b[39;00m r\n",
      "\u001b[0;31mPortalRequestError\u001b[0m: Request failed: Could not find singlepoint dataset with name 'dataset_demo_2090907589' (HTTP status 400)"
     ]
    }
   ],
   "source": [
    "dataset_id = client.get_dataset(\"singlepoint\", dataset_name).id\n",
    "dataset_id"
   ]
  },
  {
   "cell_type": "markdown",
   "id": "51c29fc3-6db9-4255-bf04-8c99a828863b",
   "metadata": {},
   "source": [
    "Delete the dataset and its associated records.\n",
    "\n",
    "**Warning: this step can't be reversed.**"
   ]
  },
  {
   "cell_type": "code",
   "execution_count": 26,
   "id": "f180b2d9-1084-4f71-a6f3-383cb9fd8d2c",
   "metadata": {},
   "outputs": [
    {
     "ename": "PortalRequestError",
     "evalue": "Request failed: Could not find dataset with id 2 (HTTP status 400)",
     "output_type": "error",
     "traceback": [
      "\u001b[0;31m---------------------------------------------------------------------------\u001b[0m",
      "\u001b[0;31mPortalRequestError\u001b[0m                        Traceback (most recent call last)",
      "Cell \u001b[0;32mIn[26], line 1\u001b[0m\n\u001b[0;32m----> 1\u001b[0m \u001b[43mclient\u001b[49m\u001b[38;5;241;43m.\u001b[39;49m\u001b[43mdelete_dataset\u001b[49m\u001b[43m(\u001b[49m\u001b[43mdataset_id\u001b[49m\u001b[43m,\u001b[49m\u001b[43m \u001b[49m\u001b[43mdelete_records\u001b[49m\u001b[38;5;241;43m=\u001b[39;49m\u001b[38;5;28;43;01mTrue\u001b[39;49;00m\u001b[43m)\u001b[49m\n",
      "File \u001b[0;32m~/local/micromamba/envs/openfractal/lib/python3.10/site-packages/qcportal/client.py:351\u001b[0m, in \u001b[0;36mPortalClient.delete_dataset\u001b[0;34m(self, dataset_id, delete_records)\u001b[0m\n\u001b[1;32m    349\u001b[0m \u001b[38;5;28;01mdef\u001b[39;00m \u001b[38;5;21mdelete_dataset\u001b[39m(\u001b[38;5;28mself\u001b[39m, dataset_id: \u001b[38;5;28mint\u001b[39m, delete_records: \u001b[38;5;28mbool\u001b[39m):\n\u001b[1;32m    350\u001b[0m     params \u001b[38;5;241m=\u001b[39m DatasetDeleteParams(delete_records\u001b[38;5;241m=\u001b[39mdelete_records)\n\u001b[0;32m--> 351\u001b[0m     \u001b[38;5;28;01mreturn\u001b[39;00m \u001b[38;5;28;43mself\u001b[39;49m\u001b[38;5;241;43m.\u001b[39;49m\u001b[43mmake_request\u001b[49m\u001b[43m(\u001b[49m\u001b[38;5;124;43m\"\u001b[39;49m\u001b[38;5;124;43mdelete\u001b[39;49m\u001b[38;5;124;43m\"\u001b[39;49m\u001b[43m,\u001b[49m\u001b[43m \u001b[49m\u001b[38;5;124;43mf\u001b[39;49m\u001b[38;5;124;43m\"\u001b[39;49m\u001b[38;5;124;43mv1/datasets/\u001b[39;49m\u001b[38;5;132;43;01m{\u001b[39;49;00m\u001b[43mdataset_id\u001b[49m\u001b[38;5;132;43;01m}\u001b[39;49;00m\u001b[38;5;124;43m\"\u001b[39;49m\u001b[43m,\u001b[49m\u001b[43m \u001b[49m\u001b[38;5;28;43;01mNone\u001b[39;49;00m\u001b[43m,\u001b[49m\u001b[43m \u001b[49m\u001b[43murl_params\u001b[49m\u001b[38;5;241;43m=\u001b[39;49m\u001b[43mparams\u001b[49m\u001b[43m)\u001b[49m\n",
      "File \u001b[0;32m~/local/micromamba/envs/openfractal/lib/python3.10/site-packages/qcportal/client_base.py:322\u001b[0m, in \u001b[0;36mPortalClientBase.make_request\u001b[0;34m(self, method, endpoint, response_model, body_model, url_params_model, body, url_params)\u001b[0m\n\u001b[1;32m    319\u001b[0m \u001b[38;5;28;01mif\u001b[39;00m \u001b[38;5;28misinstance\u001b[39m(parsed_url_params, pydantic\u001b[38;5;241m.\u001b[39mBaseModel):\n\u001b[1;32m    320\u001b[0m     parsed_url_params \u001b[38;5;241m=\u001b[39m parsed_url_params\u001b[38;5;241m.\u001b[39mdict()\n\u001b[0;32m--> 322\u001b[0m r \u001b[38;5;241m=\u001b[39m \u001b[38;5;28;43mself\u001b[39;49m\u001b[38;5;241;43m.\u001b[39;49m\u001b[43m_request\u001b[49m\u001b[43m(\u001b[49m\u001b[43mmethod\u001b[49m\u001b[43m,\u001b[49m\u001b[43m \u001b[49m\u001b[43mendpoint\u001b[49m\u001b[43m,\u001b[49m\u001b[43m \u001b[49m\u001b[43mbody\u001b[49m\u001b[38;5;241;43m=\u001b[39;49m\u001b[43mserialized_body\u001b[49m\u001b[43m,\u001b[49m\u001b[43m \u001b[49m\u001b[43murl_params\u001b[49m\u001b[38;5;241;43m=\u001b[39;49m\u001b[43mparsed_url_params\u001b[49m\u001b[43m)\u001b[49m\n\u001b[1;32m    323\u001b[0m d \u001b[38;5;241m=\u001b[39m deserialize(r\u001b[38;5;241m.\u001b[39mcontent, r\u001b[38;5;241m.\u001b[39mheaders[\u001b[38;5;124m\"\u001b[39m\u001b[38;5;124mContent-Type\u001b[39m\u001b[38;5;124m\"\u001b[39m])\n\u001b[1;32m    325\u001b[0m \u001b[38;5;28;01mif\u001b[39;00m response_model \u001b[38;5;129;01mis\u001b[39;00m \u001b[38;5;28;01mNone\u001b[39;00m:\n",
      "File \u001b[0;32m~/local/micromamba/envs/openfractal/lib/python3.10/site-packages/qcportal/client_base.py:287\u001b[0m, in \u001b[0;36mPortalClientBase._request\u001b[0;34m(self, method, endpoint, body, url_params, retry)\u001b[0m\n\u001b[1;32m    282\u001b[0m     \u001b[38;5;28;01mexcept\u001b[39;00m:\n\u001b[1;32m    283\u001b[0m         \u001b[38;5;66;03m# If this error comes from, ie, the web server or something else, then\u001b[39;00m\n\u001b[1;32m    284\u001b[0m         \u001b[38;5;66;03m# we have to use 'reason'\u001b[39;00m\n\u001b[1;32m    285\u001b[0m         details \u001b[38;5;241m=\u001b[39m {\u001b[38;5;124m\"\u001b[39m\u001b[38;5;124mmsg\u001b[39m\u001b[38;5;124m\"\u001b[39m: r\u001b[38;5;241m.\u001b[39mreason}\n\u001b[0;32m--> 287\u001b[0m     \u001b[38;5;28;01mraise\u001b[39;00m PortalRequestError(\u001b[38;5;124mf\u001b[39m\u001b[38;5;124m\"\u001b[39m\u001b[38;5;124mRequest failed: \u001b[39m\u001b[38;5;132;01m{\u001b[39;00mdetails[\u001b[38;5;124m'\u001b[39m\u001b[38;5;124mmsg\u001b[39m\u001b[38;5;124m'\u001b[39m]\u001b[38;5;132;01m}\u001b[39;00m\u001b[38;5;124m\"\u001b[39m, r\u001b[38;5;241m.\u001b[39mstatus_code, details)\n\u001b[1;32m    289\u001b[0m \u001b[38;5;28;01mreturn\u001b[39;00m r\n",
      "\u001b[0;31mPortalRequestError\u001b[0m: Request failed: Could not find dataset with id 2 (HTTP status 400)"
     ]
    }
   ],
   "source": [
    "client.delete_dataset(dataset_id, delete_records=True)"
   ]
  },
  {
   "cell_type": "code",
   "execution_count": null,
   "id": "7bf16e01-e5de-4aca-b3a1-f3fc668679e4",
   "metadata": {},
   "outputs": [],
   "source": []
  }
 ],
 "metadata": {
  "kernelspec": {
   "display_name": "Python [conda env:openfractal]",
   "language": "python",
   "name": "conda-env-openfractal-py"
  },
  "language_info": {
   "codemirror_mode": {
    "name": "ipython",
    "version": 3
   },
   "file_extension": ".py",
   "mimetype": "text/x-python",
   "name": "python",
   "nbconvert_exporter": "python",
   "pygments_lexer": "ipython3",
   "version": "3.10.11"
  },
  "widgets": {
   "application/vnd.jupyter.widget-state+json": {
    "state": {},
    "version_major": 2,
    "version_minor": 0
   }
  }
 },
 "nbformat": 4,
 "nbformat_minor": 5
}
