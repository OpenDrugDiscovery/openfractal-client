{
 "cells": [
  {
   "cell_type": "markdown",
   "id": "da44cd8e-57cd-4f53-b49e-c308b1f91a81",
   "metadata": {},
   "source": [
    "In this tutorial you'll learn how to submit a dataset to a QCFractal instance (also called backend or server)."
   ]
  },
  {
   "cell_type": "code",
   "execution_count": 1,
   "id": "f3364324-9975-4ce5-964d-50b120342f0c",
   "metadata": {},
   "outputs": [],
   "source": [
    "import os\n",
    "import dotenv\n",
    "import random\n",
    "\n",
    "from tqdm.auto import tqdm\n",
    "\n",
    "import datamol as dm\n",
    "import pandas as pd\n",
    "\n",
    "from openff.toolkit import Molecule\n",
    "\n",
    "import qcelemental as qcel\n",
    "\n",
    "from qcportal import PortalClient\n",
    "from qcportal.record_models import PriorityEnum\n",
    "\n",
    "from qcportal.singlepoint.dataset_models import SinglepointDatasetNewEntry\n",
    "from qcportal.singlepoint.record_models import QCSpecification\n",
    "from qcportal.singlepoint.record_models import SinglepointDriver\n",
    "\n",
    "_ = dotenv.load_dotenv(\"../../openfractal_test_secrets.env\")"
   ]
  },
  {
   "cell_type": "markdown",
   "id": "e597d676-400e-4a0e-926f-84d74ca8c7f6",
   "metadata": {},
   "source": [
    "## Prepare the dataset"
   ]
  },
  {
   "cell_type": "markdown",
   "id": "4278baa8-ba31-4199-99be-406975157cdd",
   "metadata": {},
   "source": [
    "First we pull a random subset of `datamol.data.freesolv()`, create `openff.Molecule` objects from it and generate one conformer per molecule."
   ]
  },
  {
   "cell_type": "code",
   "execution_count": 2,
   "id": "aac18d1e-f370-4edb-9731-1d4bfc4fef60",
   "metadata": {},
   "outputs": [
    {
     "data": {
      "application/vnd.jupyter.widget-view+json": {
       "model_id": "",
       "version_major": 2,
       "version_minor": 0
      },
      "text/plain": [
       "  0%|          | 0/10 [00:00<?, ?it/s]"
      ]
     },
     "metadata": {},
     "output_type": "display_data"
    },
    {
     "data": {
      "text/html": [
       "<div>\n",
       "<style scoped>\n",
       "    .dataframe tbody tr th:only-of-type {\n",
       "        vertical-align: middle;\n",
       "    }\n",
       "\n",
       "    .dataframe tbody tr th {\n",
       "        vertical-align: top;\n",
       "    }\n",
       "\n",
       "    .dataframe thead th {\n",
       "        text-align: right;\n",
       "    }\n",
       "</style>\n",
       "<table border=\"1\" class=\"dataframe\">\n",
       "  <thead>\n",
       "    <tr style=\"text-align: right;\">\n",
       "      <th></th>\n",
       "      <th>iupac</th>\n",
       "      <th>smiles</th>\n",
       "      <th>expt</th>\n",
       "      <th>calc</th>\n",
       "      <th>mol</th>\n",
       "    </tr>\n",
       "  </thead>\n",
       "  <tbody>\n",
       "    <tr>\n",
       "      <th>0</th>\n",
       "      <td>iodomethane</td>\n",
       "      <td>CI</td>\n",
       "      <td>-0.89</td>\n",
       "      <td>-0.641</td>\n",
       "      <td>Molecule with name '' and SMILES '[H][C]([H])(...</td>\n",
       "    </tr>\n",
       "    <tr>\n",
       "      <th>1</th>\n",
       "      <td>1-(2-hydroxyethylamino)-9,10-anthraquinone</td>\n",
       "      <td>c1ccc2c(c1)C(=O)c3cccc(c3C2=O)NCCO</td>\n",
       "      <td>-14.21</td>\n",
       "      <td>-13.599</td>\n",
       "      <td>Molecule with name '' and SMILES '[H][O][C]([H...</td>\n",
       "    </tr>\n",
       "    <tr>\n",
       "      <th>2</th>\n",
       "      <td>pyridine-3-carbaldehyde</td>\n",
       "      <td>c1cc(cnc1)C=O</td>\n",
       "      <td>-7.10</td>\n",
       "      <td>-7.425</td>\n",
       "      <td>Molecule with name '' and SMILES '[H][C](=[O])...</td>\n",
       "    </tr>\n",
       "    <tr>\n",
       "      <th>3</th>\n",
       "      <td>dimethyl sulfate</td>\n",
       "      <td>COS(=O)(=O)OC</td>\n",
       "      <td>-5.10</td>\n",
       "      <td>-8.411</td>\n",
       "      <td>Molecule with name '' and SMILES '[H][C]([H])(...</td>\n",
       "    </tr>\n",
       "    <tr>\n",
       "      <th>4</th>\n",
       "      <td>heptane</td>\n",
       "      <td>CCCCCCC</td>\n",
       "      <td>2.67</td>\n",
       "      <td>2.925</td>\n",
       "      <td>Molecule with name '' and SMILES '[H][C]([H])(...</td>\n",
       "    </tr>\n",
       "    <tr>\n",
       "      <th>5</th>\n",
       "      <td>iodoethane</td>\n",
       "      <td>CCI</td>\n",
       "      <td>-0.74</td>\n",
       "      <td>-0.609</td>\n",
       "      <td>Molecule with name '' and SMILES '[H][C]([H])(...</td>\n",
       "    </tr>\n",
       "    <tr>\n",
       "      <th>6</th>\n",
       "      <td>2-methylbutan-2-ol</td>\n",
       "      <td>CCC(C)(C)O</td>\n",
       "      <td>-4.43</td>\n",
       "      <td>-2.933</td>\n",
       "      <td>Molecule with name '' and SMILES '[H][O][C]([C...</td>\n",
       "    </tr>\n",
       "    <tr>\n",
       "      <th>7</th>\n",
       "      <td>pentylcyclopentane</td>\n",
       "      <td>CCCCCC1CCCC1</td>\n",
       "      <td>2.55</td>\n",
       "      <td>2.381</td>\n",
       "      <td>Molecule with name '' and SMILES '[H][C]([H])(...</td>\n",
       "    </tr>\n",
       "    <tr>\n",
       "      <th>8</th>\n",
       "      <td>dibenzo-p-dioxin</td>\n",
       "      <td>c1ccc2c(c1)Oc3ccccc3O2</td>\n",
       "      <td>-3.15</td>\n",
       "      <td>-4.900</td>\n",
       "      <td>Molecule with name '' and SMILES '[H][c]1[c]([...</td>\n",
       "    </tr>\n",
       "    <tr>\n",
       "      <th>9</th>\n",
       "      <td>1-ethyl-2-methylbenzene</td>\n",
       "      <td>CCc1ccccc1C</td>\n",
       "      <td>-0.85</td>\n",
       "      <td>-0.761</td>\n",
       "      <td>Molecule with name '' and SMILES '[H][c]1[c]([...</td>\n",
       "    </tr>\n",
       "  </tbody>\n",
       "</table>\n",
       "</div>"
      ],
      "text/plain": [
       "                                        iupac  \\\n",
       "0                                 iodomethane   \n",
       "1  1-(2-hydroxyethylamino)-9,10-anthraquinone   \n",
       "2                     pyridine-3-carbaldehyde   \n",
       "3                            dimethyl sulfate   \n",
       "4                                     heptane   \n",
       "5                                  iodoethane   \n",
       "6                          2-methylbutan-2-ol   \n",
       "7                          pentylcyclopentane   \n",
       "8                            dibenzo-p-dioxin   \n",
       "9                     1-ethyl-2-methylbenzene   \n",
       "\n",
       "                               smiles   expt    calc  \\\n",
       "0                                  CI  -0.89  -0.641   \n",
       "1  c1ccc2c(c1)C(=O)c3cccc(c3C2=O)NCCO -14.21 -13.599   \n",
       "2                       c1cc(cnc1)C=O  -7.10  -7.425   \n",
       "3                       COS(=O)(=O)OC  -5.10  -8.411   \n",
       "4                             CCCCCCC   2.67   2.925   \n",
       "5                                 CCI  -0.74  -0.609   \n",
       "6                          CCC(C)(C)O  -4.43  -2.933   \n",
       "7                        CCCCCC1CCCC1   2.55   2.381   \n",
       "8              c1ccc2c(c1)Oc3ccccc3O2  -3.15  -4.900   \n",
       "9                         CCc1ccccc1C  -0.85  -0.761   \n",
       "\n",
       "                                                 mol  \n",
       "0  Molecule with name '' and SMILES '[H][C]([H])(...  \n",
       "1  Molecule with name '' and SMILES '[H][O][C]([H...  \n",
       "2  Molecule with name '' and SMILES '[H][C](=[O])...  \n",
       "3  Molecule with name '' and SMILES '[H][C]([H])(...  \n",
       "4  Molecule with name '' and SMILES '[H][C]([H])(...  \n",
       "5  Molecule with name '' and SMILES '[H][C]([H])(...  \n",
       "6  Molecule with name '' and SMILES '[H][O][C]([C...  \n",
       "7  Molecule with name '' and SMILES '[H][C]([H])(...  \n",
       "8  Molecule with name '' and SMILES '[H][c]1[c]([...  \n",
       "9  Molecule with name '' and SMILES '[H][c]1[c]([...  "
      ]
     },
     "execution_count": 2,
     "metadata": {},
     "output_type": "execute_result"
    }
   ],
   "source": [
    "def get_toy_molecules(\n",
    "    n_molecules: int = 10,\n",
    "    progress: bool = True,\n",
    "    progress_leave: bool = False,\n",
    "):\n",
    "    # Get some data\n",
    "    data = dm.data.freesolv()\n",
    "    data = data.sample(n=n_molecules)\n",
    "\n",
    "    def _process(smiles):\n",
    "        # Convert to OFF mol\n",
    "        mol = Molecule.from_smiles(smiles)\n",
    "        assert mol is not None\n",
    "\n",
    "        # Generate a conformer\n",
    "        mol.generate_conformers(n_conformers=1)\n",
    "\n",
    "        return mol\n",
    "\n",
    "    # Generate conformers\n",
    "    data[\"mol\"] = dm.parallelized(\n",
    "        _process,\n",
    "        data[\"smiles\"],\n",
    "        progress=progress,\n",
    "        tqdm_kwargs=dict(leave=progress_leave),\n",
    "    )\n",
    "\n",
    "    data = data.reset_index(drop=True)\n",
    "    return data\n",
    "\n",
    "\n",
    "data = get_toy_molecules(n_molecules=10)\n",
    "\n",
    "data"
   ]
  },
  {
   "cell_type": "markdown",
   "id": "90f63924-9e76-46b5-a123-66b816f94bfc",
   "metadata": {},
   "source": [
    "## Initialize the `PortalClient`"
   ]
  },
  {
   "cell_type": "markdown",
   "id": "abb8d2e0-327a-4588-a2e8-f33c9db496ce",
   "metadata": {},
   "source": [
    "The client object will allow to interact with any QCfractal instance."
   ]
  },
  {
   "cell_type": "code",
   "execution_count": 3,
   "id": "2725497c-9c28-4ac5-a7c3-d87462c922bf",
   "metadata": {},
   "outputs": [
    {
     "data": {
      "text/html": [
       "\n",
       "<h3>PortalClient</h3>\n",
       "<ul>\n",
       "<li><b>Server:   &nbsp; </b>openfractal-test</li>\n",
       "<li><b>Address:  &nbsp; </b>https://openfractal-test-pgzbs3yryq-uc.a.run.app/</li>\n",
       "<li><b>Username: &nbsp; </b>admin_default</li>\n",
       "</ul>\n"
      ],
      "text/plain": [
       "PortalClient(server_name='openfractal-test', address='https://openfractal-test-pgzbs3yryq-uc.a.run.app/', username='admin_default')"
      ]
     },
     "execution_count": 3,
     "metadata": {},
     "output_type": "execute_result"
    }
   ],
   "source": [
    "client = PortalClient(\n",
    "    address=\"https://openfractal-test-pgzbs3yryq-uc.a.run.app\",\n",
    "    username=os.environ[\"OPENFRACTAL_USER_1_USERNAME\"],\n",
    "    password=os.environ[\"OPENFRACTAL_USER_1_PASSWORD\"],\n",
    ")\n",
    "\n",
    "client"
   ]
  },
  {
   "cell_type": "markdown",
   "id": "38006b2e-53ec-4dff-a20f-a20154a8942b",
   "metadata": {},
   "source": [
    "You can display some general informations about this instance:"
   ]
  },
  {
   "cell_type": "code",
   "execution_count": 4,
   "id": "d04859eb-63ac-47bc-a1ae-3cddc20fdc75",
   "metadata": {},
   "outputs": [
    {
     "data": {
      "text/plain": [
       "{'name': 'openfractal-test',\n",
       " 'manager_heartbeat_frequency': 10,\n",
       " 'manager_heartbeat_max_missed': 5,\n",
       " 'version': '0.50b11.post13+gc0062725',\n",
       " 'api_limits': {'get_records': 1000,\n",
       "  'add_records': 500,\n",
       "  'get_dataset_entries': 2000,\n",
       "  'get_molecules': 1000,\n",
       "  'add_molecules': 1000,\n",
       "  'get_managers': 1000,\n",
       "  'manager_tasks_claim': 200,\n",
       "  'manager_tasks_return': 10,\n",
       "  'get_server_stats': 25,\n",
       "  'get_access_logs': 1000,\n",
       "  'get_error_logs': 100,\n",
       "  'get_internal_jobs': 1000},\n",
       " 'client_version_lower_limit': '0.50b11',\n",
       " 'client_version_upper_limit': '1',\n",
       " 'manager_version_lower_limit': '0.50b11',\n",
       " 'manager_version_upper_limit': '1',\n",
       " 'motd': ''}"
      ]
     },
     "execution_count": 4,
     "metadata": {},
     "output_type": "execute_result"
    }
   ],
   "source": [
    "client.server_info"
   ]
  },
  {
   "cell_type": "markdown",
   "id": "a86bc060-abc7-45f5-bf6f-f1c3cd1d3b61",
   "metadata": {},
   "source": [
    "## Create a new dataset on the server"
   ]
  },
  {
   "cell_type": "code",
   "execution_count": 5,
   "id": "96349389-335b-4381-b9ff-d5751964a653",
   "metadata": {},
   "outputs": [
    {
     "data": {
      "text/plain": [
       "'dataset_demo_5077749542'"
      ]
     },
     "execution_count": 5,
     "metadata": {},
     "output_type": "execute_result"
    }
   ],
   "source": [
    "# Generate a random suffix for your dataset\n",
    "dataset_suffix = \"\".join(random.choices([str(i) for i in range(10)], k=10))\n",
    "\n",
    "dataset_name = f\"dataset_demo_{dataset_suffix}\"\n",
    "\n",
    "dataset_name"
   ]
  },
  {
   "cell_type": "code",
   "execution_count": 6,
   "id": "7a980c4f-8c04-4f27-b7fb-3bbd7b08fc2b",
   "metadata": {},
   "outputs": [
    {
     "data": {
      "text/plain": [
       "SinglepointDataset(id=4, dataset_type='singlepoint', name='dataset_demo_5077749542', description='my great dataset!', tagline='', tags=['demo_local'], group='default', visibility=True, provenance={}, default_tag='demo_local', default_priority=<PriorityEnum.normal: 1>, owner_user='admin_default', owner_group=None, metadata={}, extras={}, entry_names_=[], specifications_={}, entries_={}, record_map_={}, contributed_values_=None, auto_fetch_missing=True)"
      ]
     },
     "execution_count": 6,
     "metadata": {},
     "output_type": "execute_result"
    }
   ],
   "source": [
    "kwargs = {}\n",
    "kwargs[\"dataset_type\"] = \"singlepoint\"\n",
    "kwargs[\"name\"] = dataset_name\n",
    "kwargs[\"description\"] = \"my great dataset!\"\n",
    "# the tag allows you to restrict this dataset to only specific managers\n",
    "kwargs[\"tags\"] = [\"demo_local\"]  \n",
    "kwargs[\"group\"] = None\n",
    "kwargs[\"provenance\"] = {}\n",
    "kwargs[\"visibility\"] = True\n",
    "kwargs[\"default_tag\"] = \"demo_local\"\n",
    "kwargs[\"default_priority\"] = PriorityEnum.normal\n",
    "kwargs[\"metadata\"] = {}\n",
    "kwargs[\"owner_group\"] = None\n",
    "\n",
    "ds = client.add_dataset(**kwargs)\n",
    "\n",
    "ds"
   ]
  },
  {
   "cell_type": "markdown",
   "id": "1491f334-3525-4326-bc3b-5e19198b7c89",
   "metadata": {},
   "source": [
    "## Build \"entries\" from the dataset\n",
    "\n",
    "An entry is a single data point object that hold a 3D atomistic system (also called a molecule). You can associate custom attributes to a given molecule."
   ]
  },
  {
   "cell_type": "code",
   "execution_count": 7,
   "id": "62bac149-bcb3-4aef-b3ec-e007c98e2a79",
   "metadata": {},
   "outputs": [
    {
     "data": {
      "application/vnd.jupyter.widget-view+json": {
       "model_id": "5b43284a775d4fba8a64b0d2e2a657d0",
       "version_major": 2,
       "version_minor": 0
      },
      "text/plain": [
       "  0%|          | 0/2 [00:00<?, ?it/s]"
      ]
     },
     "metadata": {},
     "output_type": "display_data"
    },
    {
     "data": {
      "application/vnd.jupyter.widget-view+json": {
       "model_id": "",
       "version_major": 2,
       "version_minor": 0
      },
      "text/plain": [
       "  0%|          | 0/5 [00:00<?, ?it/s]"
      ]
     },
     "metadata": {},
     "output_type": "display_data"
    },
    {
     "data": {
      "application/vnd.jupyter.widget-view+json": {
       "model_id": "",
       "version_major": 2,
       "version_minor": 0
      },
      "text/plain": [
       "  0%|          | 0/5 [00:00<?, ?it/s]"
      ]
     },
     "metadata": {},
     "output_type": "display_data"
    }
   ],
   "source": [
    "chunk_size = 5\n",
    "progress = True\n",
    "progress_leave = False\n",
    "\n",
    "\n",
    "def _create_entry(i, row):\n",
    "    kwargs = {}\n",
    "    kwargs[\"name\"] = f\"mol_{i}\"\n",
    "    kwargs[\"molecule\"] = row[\"mol\"].to_qcschema()\n",
    "    kwargs[\"additional_keywords\"] = {}\n",
    "    kwargs[\"attributes\"] = row.drop(\"mol\").to_dict()\n",
    "    kwargs[\"comment\"] = None\n",
    "    return SinglepointDatasetNewEntry(**kwargs)\n",
    "\n",
    "\n",
    "# We build and send the entry by chunk in case of large dataset\n",
    "for i in tqdm(range(0, len(data), chunk_size)):\n",
    "    # Get the rows\n",
    "    rows = data.iloc[i : i + chunk_size]\n",
    "\n",
    "    # Build the entries\n",
    "    entries = dm.parallelized(\n",
    "        _create_entry,\n",
    "        rows.iterrows(),\n",
    "        arg_type=\"args\",\n",
    "        total=len(rows),\n",
    "        progress=progress,\n",
    "        tqdm_kwargs=dict(leave=progress_leave),\n",
    "    )\n",
    "\n",
    "    # Send the entries to the server\n",
    "    insert_md = ds.add_entries(entries)\n",
    "    assert insert_md.success"
   ]
  },
  {
   "cell_type": "markdown",
   "id": "7a3da19c-c38e-482d-ad45-1538f76f343f",
   "metadata": {},
   "source": [
    "You can check the newly submitted entries:"
   ]
  },
  {
   "cell_type": "code",
   "execution_count": 8,
   "id": "d72b8d6a-4907-461c-a4c2-e222a8f0765d",
   "metadata": {},
   "outputs": [
    {
     "data": {
      "text/plain": [
       "[SinglepointDatasetEntry(name='mol_0', molecule=Molecule(name='CH3I', formula='CH3I', hash='f208959'), additional_keywords={}, attributes={'calc': -0.641, 'expt': -0.89, 'iupac': 'iodomethane', 'smiles': 'CI'}, comment=None, local_results=None),\n",
       " SinglepointDatasetEntry(name='mol_1', molecule=Molecule(name='C16H13NO3', formula='C16H13NO3', hash='b52a050'), additional_keywords={}, attributes={'calc': -13.599, 'expt': -14.21, 'iupac': '1-(2-hydroxyethylamino)-9,10-anthraquinone', 'smiles': 'c1ccc2c(c1)C(=O)c3cccc(c3C2=O)NCCO'}, comment=None, local_results=None),\n",
       " SinglepointDatasetEntry(name='mol_2', molecule=Molecule(name='C6H5NO', formula='C6H5NO', hash='cf42d3e'), additional_keywords={}, attributes={'calc': -7.425, 'expt': -7.1, 'iupac': 'pyridine-3-carbaldehyde', 'smiles': 'c1cc(cnc1)C=O'}, comment=None, local_results=None),\n",
       " SinglepointDatasetEntry(name='mol_3', molecule=Molecule(name='C2H6O4S', formula='C2H6O4S', hash='ceecca4'), additional_keywords={}, attributes={'calc': -8.411, 'expt': -5.1, 'iupac': 'dimethyl sulfate', 'smiles': 'COS(=O)(=O)OC'}, comment=None, local_results=None),\n",
       " SinglepointDatasetEntry(name='mol_4', molecule=Molecule(name='C7H16', formula='C7H16', hash='85fb553'), additional_keywords={}, attributes={'calc': 2.925, 'expt': 2.67, 'iupac': 'heptane', 'smiles': 'CCCCCCC'}, comment=None, local_results=None),\n",
       " SinglepointDatasetEntry(name='mol_5', molecule=Molecule(name='C2H5I', formula='C2H5I', hash='e4c3914'), additional_keywords={}, attributes={'calc': -0.609, 'expt': -0.74, 'iupac': 'iodoethane', 'smiles': 'CCI'}, comment=None, local_results=None),\n",
       " SinglepointDatasetEntry(name='mol_6', molecule=Molecule(name='C5H12O', formula='C5H12O', hash='15bb1b2'), additional_keywords={}, attributes={'calc': -2.933, 'expt': -4.43, 'iupac': '2-methylbutan-2-ol', 'smiles': 'CCC(C)(C)O'}, comment=None, local_results=None),\n",
       " SinglepointDatasetEntry(name='mol_7', molecule=Molecule(name='C10H20', formula='C10H20', hash='f3e4c52'), additional_keywords={}, attributes={'calc': 2.381, 'expt': 2.55, 'iupac': 'pentylcyclopentane', 'smiles': 'CCCCCC1CCCC1'}, comment=None, local_results=None),\n",
       " SinglepointDatasetEntry(name='mol_8', molecule=Molecule(name='C12H8O2', formula='C12H8O2', hash='056e983'), additional_keywords={}, attributes={'calc': -4.9, 'expt': -3.15, 'iupac': 'dibenzo-p-dioxin', 'smiles': 'c1ccc2c(c1)Oc3ccccc3O2'}, comment=None, local_results=None),\n",
       " SinglepointDatasetEntry(name='mol_9', molecule=Molecule(name='C9H12', formula='C9H12', hash='6d8df86'), additional_keywords={}, attributes={'calc': -0.761, 'expt': -0.85, 'iupac': '1-ethyl-2-methylbenzene', 'smiles': 'CCc1ccccc1C'}, comment=None, local_results=None)]"
      ]
     },
     "execution_count": 8,
     "metadata": {},
     "output_type": "execute_result"
    }
   ],
   "source": [
    "list(ds.iterate_entries())"
   ]
  },
  {
   "cell_type": "markdown",
   "id": "2e1c4534-614c-4771-b209-2a8939a54b08",
   "metadata": {},
   "source": [
    "## Create the QM specification\n",
    "\n",
    "The QM specification defines a QM protocol that will be executed on a Dataset.\n",
    "\n",
    "Here we choose a cheap level of theory: `hf/sto-3g`."
   ]
  },
  {
   "cell_type": "code",
   "execution_count": 9,
   "id": "1f18e9a3-7470-4593-af8a-67543c083448",
   "metadata": {},
   "outputs": [
    {
     "data": {
      "text/plain": [
       "QCSpecification(program='psi4', driver=<SinglepointDriver.gradient: 'gradient'>, method='hf', basis='sto-3g', keywords={'wcombine': False, 'scf_properties': ['MBIS_CHARGES', 'WIBERG_LOWDIN_INDICES', 'MAYER_INDICES', 'LOWDIN_CHARGES', 'DIPOLE', 'QUADRUPOLE']}, protocols=AtomicResultProtocols(wavefunction=<WavefunctionProtocolEnum.all: 'all'>, stdout=True, error_correction=ErrorCorrectionProtocol(default_policy=True, policies=None), native_files=<NativeFilesProtocolEnum.none: 'none'>))"
      ]
     },
     "execution_count": 9,
     "metadata": {},
     "output_type": "execute_result"
    }
   ],
   "source": [
    "## PSI4 SCF properties\n",
    "## See https://psicode.org/psi4manual/master/oeprop.html#id2\n",
    "scf_properties = [\n",
    "    \"MBIS_CHARGES\",\n",
    "    \"WIBERG_LOWDIN_INDICES\",\n",
    "    \"MAYER_INDICES\",\n",
    "    \"LOWDIN_CHARGES\",\n",
    "    \"DIPOLE\",\n",
    "    \"QUADRUPOLE\",\n",
    "]\n",
    "\n",
    "## Build the protocols\n",
    "## One of: all, none or orbitals_and_eigenvalues\n",
    "protocols = {\"wavefunction\": \"all\"}\n",
    "\n",
    "## Build the specification\n",
    "kwargs = {}\n",
    "kwargs[\"program\"] = \"psi4\"\n",
    "kwargs[\"driver\"] = SinglepointDriver.gradient\n",
    "# kwargs[\"method\"] = \"wb97m-d3bj\"\n",
    "# kwargs[\"basis\"] = \"def2-tzvppd\"\n",
    "kwargs[\"method\"] = \"hf\"\n",
    "kwargs[\"basis\"] = \"sto-3g\"\n",
    "kwargs[\"keywords\"] = {\"wcombine\": False, \"scf_properties\": scf_properties}\n",
    "kwargs[\"protocols\"] = protocols\n",
    "\n",
    "specification = QCSpecification(**kwargs)\n",
    "\n",
    "specification"
   ]
  },
  {
   "cell_type": "markdown",
   "id": "27562118-494b-4688-a5a7-119e19d69255",
   "metadata": {},
   "source": [
    "Now we associate this QM specification (protocol) to the dataset we created above to the server."
   ]
  },
  {
   "cell_type": "code",
   "execution_count": 10,
   "id": "ecd1dbfb-43e1-405f-917e-faab78447185",
   "metadata": {},
   "outputs": [],
   "source": [
    "kwargs = {}\n",
    "kwargs[\"name\"] = \"simple_qm_calculation_demo\"\n",
    "kwargs[\"specification\"] = specification\n",
    "kwargs[\"description\"] = None\n",
    "insert_md = ds.add_specification(**kwargs)\n",
    "assert insert_md"
   ]
  },
  {
   "cell_type": "code",
   "execution_count": 11,
   "id": "f4a07480-d3fc-46ef-80f4-ed95cae084f7",
   "metadata": {},
   "outputs": [
    {
     "data": {
      "text/plain": [
       "[SinglepointDatasetEntry(name='mol_0', molecule=Molecule(name='CH3I', formula='CH3I', hash='f208959'), additional_keywords={}, attributes={'calc': -0.641, 'expt': -0.89, 'iupac': 'iodomethane', 'smiles': 'CI'}, comment=None, local_results=None),\n",
       " SinglepointDatasetEntry(name='mol_1', molecule=Molecule(name='C16H13NO3', formula='C16H13NO3', hash='b52a050'), additional_keywords={}, attributes={'calc': -13.599, 'expt': -14.21, 'iupac': '1-(2-hydroxyethylamino)-9,10-anthraquinone', 'smiles': 'c1ccc2c(c1)C(=O)c3cccc(c3C2=O)NCCO'}, comment=None, local_results=None),\n",
       " SinglepointDatasetEntry(name='mol_2', molecule=Molecule(name='C6H5NO', formula='C6H5NO', hash='cf42d3e'), additional_keywords={}, attributes={'calc': -7.425, 'expt': -7.1, 'iupac': 'pyridine-3-carbaldehyde', 'smiles': 'c1cc(cnc1)C=O'}, comment=None, local_results=None),\n",
       " SinglepointDatasetEntry(name='mol_3', molecule=Molecule(name='C2H6O4S', formula='C2H6O4S', hash='ceecca4'), additional_keywords={}, attributes={'calc': -8.411, 'expt': -5.1, 'iupac': 'dimethyl sulfate', 'smiles': 'COS(=O)(=O)OC'}, comment=None, local_results=None),\n",
       " SinglepointDatasetEntry(name='mol_4', molecule=Molecule(name='C7H16', formula='C7H16', hash='85fb553'), additional_keywords={}, attributes={'calc': 2.925, 'expt': 2.67, 'iupac': 'heptane', 'smiles': 'CCCCCCC'}, comment=None, local_results=None),\n",
       " SinglepointDatasetEntry(name='mol_5', molecule=Molecule(name='C2H5I', formula='C2H5I', hash='e4c3914'), additional_keywords={}, attributes={'calc': -0.609, 'expt': -0.74, 'iupac': 'iodoethane', 'smiles': 'CCI'}, comment=None, local_results=None),\n",
       " SinglepointDatasetEntry(name='mol_6', molecule=Molecule(name='C5H12O', formula='C5H12O', hash='15bb1b2'), additional_keywords={}, attributes={'calc': -2.933, 'expt': -4.43, 'iupac': '2-methylbutan-2-ol', 'smiles': 'CCC(C)(C)O'}, comment=None, local_results=None),\n",
       " SinglepointDatasetEntry(name='mol_7', molecule=Molecule(name='C10H20', formula='C10H20', hash='f3e4c52'), additional_keywords={}, attributes={'calc': 2.381, 'expt': 2.55, 'iupac': 'pentylcyclopentane', 'smiles': 'CCCCCC1CCCC1'}, comment=None, local_results=None),\n",
       " SinglepointDatasetEntry(name='mol_8', molecule=Molecule(name='C12H8O2', formula='C12H8O2', hash='056e983'), additional_keywords={}, attributes={'calc': -4.9, 'expt': -3.15, 'iupac': 'dibenzo-p-dioxin', 'smiles': 'c1ccc2c(c1)Oc3ccccc3O2'}, comment=None, local_results=None),\n",
       " SinglepointDatasetEntry(name='mol_9', molecule=Molecule(name='C9H12', formula='C9H12', hash='6d8df86'), additional_keywords={}, attributes={'calc': -0.761, 'expt': -0.85, 'iupac': '1-ethyl-2-methylbenzene', 'smiles': 'CCc1ccccc1C'}, comment=None, local_results=None)]"
      ]
     },
     "execution_count": 11,
     "metadata": {},
     "output_type": "execute_result"
    }
   ],
   "source": [
    "list(ds.iterate_entries())"
   ]
  },
  {
   "cell_type": "markdown",
   "id": "6751a3c7-4d87-4939-a127-5f120d87d80e",
   "metadata": {},
   "source": [
    "## Submit the computation\n",
    "\n",
    "**Warning: once you have submitted a specification to a dataset, the compatible managers will start picking up jobs and perform the QM calculcations.**"
   ]
  },
  {
   "cell_type": "code",
   "execution_count": 12,
   "id": "14933915-8cdc-4686-b6e8-39e3476b145a",
   "metadata": {},
   "outputs": [],
   "source": [
    "ds.submit()"
   ]
  },
  {
   "cell_type": "markdown",
   "id": "7cfa989f-af2e-4460-89c2-aa54b0b43edd",
   "metadata": {},
   "source": [
    "Check the submission worked."
   ]
  },
  {
   "cell_type": "code",
   "execution_count": 13,
   "id": "da07984f-620f-4bdd-8843-f9791309a2fe",
   "metadata": {},
   "outputs": [
    {
     "name": "stdout",
     "output_type": "stream",
     "text": [
      "             specification    waiting\n",
      "--------------------------  ---------\n",
      "simple_qm_calculation_demo         10\n"
     ]
    }
   ],
   "source": [
    "print(ds.status_table())"
   ]
  },
  {
   "cell_type": "markdown",
   "id": "4e980dc2-dfa7-4049-987a-b2420b067dfa",
   "metadata": {},
   "source": [
    "## Monitoring"
   ]
  },
  {
   "cell_type": "markdown",
   "id": "16e01af1-d6f3-49a1-9608-a6f54ac3c05d",
   "metadata": {},
   "source": [
    "Retrieve a dataset by its name."
   ]
  },
  {
   "cell_type": "code",
   "execution_count": 14,
   "id": "0a30a5c0-cee4-4b8a-88fc-caea9755450a",
   "metadata": {},
   "outputs": [
    {
     "data": {
      "text/plain": [
       "SinglepointDataset(id=4, dataset_type='singlepoint', name='dataset_demo_5077749542', description='my great dataset!', tagline='', tags=['demo_local'], group='default', visibility=True, provenance={}, default_tag='demo_local', default_priority=<PriorityEnum.normal: 1>, owner_user='admin_default', owner_group=None, metadata={}, extras={}, entry_names_=[], specifications_={}, entries_={}, record_map_={}, contributed_values_=None, auto_fetch_missing=True)"
      ]
     },
     "execution_count": 14,
     "metadata": {},
     "output_type": "execute_result"
    }
   ],
   "source": [
    "ds = client.get_dataset(\"singlepoint\", dataset_name)\n",
    "ds"
   ]
  },
  {
   "cell_type": "markdown",
   "id": "c73d3f45-018e-4e8c-9ead-bab48f3531d6",
   "metadata": {},
   "source": [
    "Print a table showing the status for a dataset."
   ]
  },
  {
   "cell_type": "code",
   "execution_count": 15,
   "id": "2582131e-63a7-4f53-b6ef-c740e654651a",
   "metadata": {},
   "outputs": [
    {
     "name": "stdout",
     "output_type": "stream",
     "text": [
      "             specification    waiting\n",
      "--------------------------  ---------\n",
      "simple_qm_calculation_demo         10\n"
     ]
    }
   ],
   "source": [
    "print(ds.status_table())"
   ]
  },
  {
   "cell_type": "markdown",
   "id": "2ea4c7b8-32f2-42bf-8b94-16ccb5c61b8d",
   "metadata": {},
   "source": [
    "Read the records (some might be completed but some might still be in progress or in failing state."
   ]
  },
  {
   "cell_type": "code",
   "execution_count": 16,
   "id": "fe77233b-5953-4202-aaad-b11ceceeeb69",
   "metadata": {},
   "outputs": [
    {
     "data": {
      "application/vnd.jupyter.widget-view+json": {
       "model_id": "53ddd2b0d669489f918dd21dec9a6bc9",
       "version_major": 2,
       "version_minor": 0
      },
      "text/plain": [
       "0it [00:00, ?it/s]"
      ]
     },
     "metadata": {},
     "output_type": "display_data"
    },
    {
     "data": {
      "text/html": [
       "<div>\n",
       "<style scoped>\n",
       "    .dataframe tbody tr th:only-of-type {\n",
       "        vertical-align: middle;\n",
       "    }\n",
       "\n",
       "    .dataframe tbody tr th {\n",
       "        vertical-align: top;\n",
       "    }\n",
       "\n",
       "    .dataframe thead th {\n",
       "        text-align: right;\n",
       "    }\n",
       "</style>\n",
       "<table border=\"1\" class=\"dataframe\">\n",
       "  <thead>\n",
       "    <tr style=\"text-align: right;\">\n",
       "      <th></th>\n",
       "      <th>id</th>\n",
       "      <th>record_type</th>\n",
       "      <th>is_service</th>\n",
       "      <th>properties</th>\n",
       "      <th>extras</th>\n",
       "      <th>status</th>\n",
       "      <th>manager_name</th>\n",
       "      <th>created_on</th>\n",
       "      <th>modified_on</th>\n",
       "      <th>owner_user</th>\n",
       "      <th>owner_group</th>\n",
       "      <th>compute_history_</th>\n",
       "      <th>task_</th>\n",
       "      <th>service_</th>\n",
       "      <th>comments_</th>\n",
       "      <th>native_files_</th>\n",
       "      <th>specification</th>\n",
       "      <th>molecule_id</th>\n",
       "      <th>molecule_</th>\n",
       "      <th>wavefunction_</th>\n",
       "    </tr>\n",
       "  </thead>\n",
       "  <tbody>\n",
       "    <tr>\n",
       "      <th>0</th>\n",
       "      <td>11</td>\n",
       "      <td>singlepoint</td>\n",
       "      <td>False</td>\n",
       "      <td>None</td>\n",
       "      <td>None</td>\n",
       "      <td>RecordStatusEnum.waiting</td>\n",
       "      <td>None</td>\n",
       "      <td>2023-06-12 20:22:35.161042</td>\n",
       "      <td>2023-06-12 20:22:35.161046</td>\n",
       "      <td>admin_default</td>\n",
       "      <td>None</td>\n",
       "      <td>[]</td>\n",
       "      <td>None</td>\n",
       "      <td>None</td>\n",
       "      <td>None</td>\n",
       "      <td>None</td>\n",
       "      <td>{'program': 'psi4', 'driver': 'SinglepointDriv...</td>\n",
       "      <td>28</td>\n",
       "      <td>None</td>\n",
       "      <td>None</td>\n",
       "    </tr>\n",
       "    <tr>\n",
       "      <th>1</th>\n",
       "      <td>12</td>\n",
       "      <td>singlepoint</td>\n",
       "      <td>False</td>\n",
       "      <td>None</td>\n",
       "      <td>None</td>\n",
       "      <td>RecordStatusEnum.waiting</td>\n",
       "      <td>None</td>\n",
       "      <td>2023-06-12 20:22:35.161047</td>\n",
       "      <td>2023-06-12 20:22:35.161047</td>\n",
       "      <td>admin_default</td>\n",
       "      <td>None</td>\n",
       "      <td>[]</td>\n",
       "      <td>None</td>\n",
       "      <td>None</td>\n",
       "      <td>None</td>\n",
       "      <td>None</td>\n",
       "      <td>{'program': 'psi4', 'driver': 'SinglepointDriv...</td>\n",
       "      <td>21</td>\n",
       "      <td>None</td>\n",
       "      <td>None</td>\n",
       "    </tr>\n",
       "    <tr>\n",
       "      <th>2</th>\n",
       "      <td>13</td>\n",
       "      <td>singlepoint</td>\n",
       "      <td>False</td>\n",
       "      <td>None</td>\n",
       "      <td>None</td>\n",
       "      <td>RecordStatusEnum.waiting</td>\n",
       "      <td>None</td>\n",
       "      <td>2023-06-12 20:22:35.161048</td>\n",
       "      <td>2023-06-12 20:22:35.161048</td>\n",
       "      <td>admin_default</td>\n",
       "      <td>None</td>\n",
       "      <td>[]</td>\n",
       "      <td>None</td>\n",
       "      <td>None</td>\n",
       "      <td>None</td>\n",
       "      <td>None</td>\n",
       "      <td>{'program': 'psi4', 'driver': 'SinglepointDriv...</td>\n",
       "      <td>24</td>\n",
       "      <td>None</td>\n",
       "      <td>None</td>\n",
       "    </tr>\n",
       "    <tr>\n",
       "      <th>3</th>\n",
       "      <td>14</td>\n",
       "      <td>singlepoint</td>\n",
       "      <td>False</td>\n",
       "      <td>None</td>\n",
       "      <td>None</td>\n",
       "      <td>RecordStatusEnum.waiting</td>\n",
       "      <td>None</td>\n",
       "      <td>2023-06-12 20:22:35.161049</td>\n",
       "      <td>2023-06-12 20:22:35.161049</td>\n",
       "      <td>admin_default</td>\n",
       "      <td>None</td>\n",
       "      <td>[]</td>\n",
       "      <td>None</td>\n",
       "      <td>None</td>\n",
       "      <td>None</td>\n",
       "      <td>None</td>\n",
       "      <td>{'program': 'psi4', 'driver': 'SinglepointDriv...</td>\n",
       "      <td>20</td>\n",
       "      <td>None</td>\n",
       "      <td>None</td>\n",
       "    </tr>\n",
       "    <tr>\n",
       "      <th>4</th>\n",
       "      <td>15</td>\n",
       "      <td>singlepoint</td>\n",
       "      <td>False</td>\n",
       "      <td>None</td>\n",
       "      <td>None</td>\n",
       "      <td>RecordStatusEnum.waiting</td>\n",
       "      <td>None</td>\n",
       "      <td>2023-06-12 20:22:35.161050</td>\n",
       "      <td>2023-06-12 20:22:35.161050</td>\n",
       "      <td>admin_default</td>\n",
       "      <td>None</td>\n",
       "      <td>[]</td>\n",
       "      <td>None</td>\n",
       "      <td>None</td>\n",
       "      <td>None</td>\n",
       "      <td>None</td>\n",
       "      <td>{'program': 'psi4', 'driver': 'SinglepointDriv...</td>\n",
       "      <td>27</td>\n",
       "      <td>None</td>\n",
       "      <td>None</td>\n",
       "    </tr>\n",
       "    <tr>\n",
       "      <th>5</th>\n",
       "      <td>16</td>\n",
       "      <td>singlepoint</td>\n",
       "      <td>False</td>\n",
       "      <td>None</td>\n",
       "      <td>None</td>\n",
       "      <td>RecordStatusEnum.waiting</td>\n",
       "      <td>None</td>\n",
       "      <td>2023-06-12 20:22:35.161051</td>\n",
       "      <td>2023-06-12 20:22:35.161051</td>\n",
       "      <td>admin_default</td>\n",
       "      <td>None</td>\n",
       "      <td>[]</td>\n",
       "      <td>None</td>\n",
       "      <td>None</td>\n",
       "      <td>None</td>\n",
       "      <td>None</td>\n",
       "      <td>{'program': 'psi4', 'driver': 'SinglepointDriv...</td>\n",
       "      <td>23</td>\n",
       "      <td>None</td>\n",
       "      <td>None</td>\n",
       "    </tr>\n",
       "    <tr>\n",
       "      <th>6</th>\n",
       "      <td>17</td>\n",
       "      <td>singlepoint</td>\n",
       "      <td>False</td>\n",
       "      <td>None</td>\n",
       "      <td>None</td>\n",
       "      <td>RecordStatusEnum.waiting</td>\n",
       "      <td>None</td>\n",
       "      <td>2023-06-12 20:22:35.161052</td>\n",
       "      <td>2023-06-12 20:22:35.161052</td>\n",
       "      <td>admin_default</td>\n",
       "      <td>None</td>\n",
       "      <td>[]</td>\n",
       "      <td>None</td>\n",
       "      <td>None</td>\n",
       "      <td>None</td>\n",
       "      <td>None</td>\n",
       "      <td>{'program': 'psi4', 'driver': 'SinglepointDriv...</td>\n",
       "      <td>26</td>\n",
       "      <td>None</td>\n",
       "      <td>None</td>\n",
       "    </tr>\n",
       "    <tr>\n",
       "      <th>7</th>\n",
       "      <td>18</td>\n",
       "      <td>singlepoint</td>\n",
       "      <td>False</td>\n",
       "      <td>None</td>\n",
       "      <td>None</td>\n",
       "      <td>RecordStatusEnum.waiting</td>\n",
       "      <td>None</td>\n",
       "      <td>2023-06-12 20:22:35.161053</td>\n",
       "      <td>2023-06-12 20:22:35.161053</td>\n",
       "      <td>admin_default</td>\n",
       "      <td>None</td>\n",
       "      <td>[]</td>\n",
       "      <td>None</td>\n",
       "      <td>None</td>\n",
       "      <td>None</td>\n",
       "      <td>None</td>\n",
       "      <td>{'program': 'psi4', 'driver': 'SinglepointDriv...</td>\n",
       "      <td>29</td>\n",
       "      <td>None</td>\n",
       "      <td>None</td>\n",
       "    </tr>\n",
       "    <tr>\n",
       "      <th>8</th>\n",
       "      <td>19</td>\n",
       "      <td>singlepoint</td>\n",
       "      <td>False</td>\n",
       "      <td>None</td>\n",
       "      <td>None</td>\n",
       "      <td>RecordStatusEnum.waiting</td>\n",
       "      <td>None</td>\n",
       "      <td>2023-06-12 20:22:35.161054</td>\n",
       "      <td>2023-06-12 20:22:35.161054</td>\n",
       "      <td>admin_default</td>\n",
       "      <td>None</td>\n",
       "      <td>[]</td>\n",
       "      <td>None</td>\n",
       "      <td>None</td>\n",
       "      <td>None</td>\n",
       "      <td>None</td>\n",
       "      <td>{'program': 'psi4', 'driver': 'SinglepointDriv...</td>\n",
       "      <td>25</td>\n",
       "      <td>None</td>\n",
       "      <td>None</td>\n",
       "    </tr>\n",
       "    <tr>\n",
       "      <th>9</th>\n",
       "      <td>20</td>\n",
       "      <td>singlepoint</td>\n",
       "      <td>False</td>\n",
       "      <td>None</td>\n",
       "      <td>None</td>\n",
       "      <td>RecordStatusEnum.waiting</td>\n",
       "      <td>None</td>\n",
       "      <td>2023-06-12 20:22:35.161054</td>\n",
       "      <td>2023-06-12 20:22:35.161055</td>\n",
       "      <td>admin_default</td>\n",
       "      <td>None</td>\n",
       "      <td>[]</td>\n",
       "      <td>None</td>\n",
       "      <td>None</td>\n",
       "      <td>None</td>\n",
       "      <td>None</td>\n",
       "      <td>{'program': 'psi4', 'driver': 'SinglepointDriv...</td>\n",
       "      <td>22</td>\n",
       "      <td>None</td>\n",
       "      <td>None</td>\n",
       "    </tr>\n",
       "  </tbody>\n",
       "</table>\n",
       "</div>"
      ],
      "text/plain": [
       "   id  record_type  is_service properties extras                    status  \\\n",
       "0  11  singlepoint       False       None   None  RecordStatusEnum.waiting   \n",
       "1  12  singlepoint       False       None   None  RecordStatusEnum.waiting   \n",
       "2  13  singlepoint       False       None   None  RecordStatusEnum.waiting   \n",
       "3  14  singlepoint       False       None   None  RecordStatusEnum.waiting   \n",
       "4  15  singlepoint       False       None   None  RecordStatusEnum.waiting   \n",
       "5  16  singlepoint       False       None   None  RecordStatusEnum.waiting   \n",
       "6  17  singlepoint       False       None   None  RecordStatusEnum.waiting   \n",
       "7  18  singlepoint       False       None   None  RecordStatusEnum.waiting   \n",
       "8  19  singlepoint       False       None   None  RecordStatusEnum.waiting   \n",
       "9  20  singlepoint       False       None   None  RecordStatusEnum.waiting   \n",
       "\n",
       "  manager_name                 created_on                modified_on  \\\n",
       "0         None 2023-06-12 20:22:35.161042 2023-06-12 20:22:35.161046   \n",
       "1         None 2023-06-12 20:22:35.161047 2023-06-12 20:22:35.161047   \n",
       "2         None 2023-06-12 20:22:35.161048 2023-06-12 20:22:35.161048   \n",
       "3         None 2023-06-12 20:22:35.161049 2023-06-12 20:22:35.161049   \n",
       "4         None 2023-06-12 20:22:35.161050 2023-06-12 20:22:35.161050   \n",
       "5         None 2023-06-12 20:22:35.161051 2023-06-12 20:22:35.161051   \n",
       "6         None 2023-06-12 20:22:35.161052 2023-06-12 20:22:35.161052   \n",
       "7         None 2023-06-12 20:22:35.161053 2023-06-12 20:22:35.161053   \n",
       "8         None 2023-06-12 20:22:35.161054 2023-06-12 20:22:35.161054   \n",
       "9         None 2023-06-12 20:22:35.161054 2023-06-12 20:22:35.161055   \n",
       "\n",
       "      owner_user owner_group compute_history_ task_ service_ comments_  \\\n",
       "0  admin_default        None               []  None     None      None   \n",
       "1  admin_default        None               []  None     None      None   \n",
       "2  admin_default        None               []  None     None      None   \n",
       "3  admin_default        None               []  None     None      None   \n",
       "4  admin_default        None               []  None     None      None   \n",
       "5  admin_default        None               []  None     None      None   \n",
       "6  admin_default        None               []  None     None      None   \n",
       "7  admin_default        None               []  None     None      None   \n",
       "8  admin_default        None               []  None     None      None   \n",
       "9  admin_default        None               []  None     None      None   \n",
       "\n",
       "  native_files_                                      specification  \\\n",
       "0          None  {'program': 'psi4', 'driver': 'SinglepointDriv...   \n",
       "1          None  {'program': 'psi4', 'driver': 'SinglepointDriv...   \n",
       "2          None  {'program': 'psi4', 'driver': 'SinglepointDriv...   \n",
       "3          None  {'program': 'psi4', 'driver': 'SinglepointDriv...   \n",
       "4          None  {'program': 'psi4', 'driver': 'SinglepointDriv...   \n",
       "5          None  {'program': 'psi4', 'driver': 'SinglepointDriv...   \n",
       "6          None  {'program': 'psi4', 'driver': 'SinglepointDriv...   \n",
       "7          None  {'program': 'psi4', 'driver': 'SinglepointDriv...   \n",
       "8          None  {'program': 'psi4', 'driver': 'SinglepointDriv...   \n",
       "9          None  {'program': 'psi4', 'driver': 'SinglepointDriv...   \n",
       "\n",
       "   molecule_id molecule_ wavefunction_  \n",
       "0           28      None          None  \n",
       "1           21      None          None  \n",
       "2           24      None          None  \n",
       "3           20      None          None  \n",
       "4           27      None          None  \n",
       "5           23      None          None  \n",
       "6           26      None          None  \n",
       "7           29      None          None  \n",
       "8           25      None          None  \n",
       "9           22      None          None  "
      ]
     },
     "execution_count": 16,
     "metadata": {},
     "output_type": "execute_result"
    }
   ],
   "source": [
    "records_list = []\n",
    "for r in tqdm(client.query_records(dataset_id=ds.id)):\n",
    "    # Access this object to fetch the potential errors when any\n",
    "    r.error\n",
    "    records_list.append(r.dict())\n",
    "\n",
    "records = pd.DataFrame(records_list)\n",
    "records = records.sort_values(\"id\")\n",
    "records = records.reset_index(drop=True)\n",
    "\n",
    "records"
   ]
  },
  {
   "cell_type": "markdown",
   "id": "f5febe8e-20da-470c-acc4-6a4f2644b283",
   "metadata": {},
   "source": [
    "## Delete a dataset and associated records\n",
    "\n",
    "**Important:** Before deleting the dataset you just created, you should check the other tutorials where you'll learn how to launch a manager than can perform the QM calculations submitted above!"
   ]
  },
  {
   "cell_type": "markdown",
   "id": "baf387a8-5c30-476f-a714-7d496d0af304",
   "metadata": {},
   "source": [
    "Retrieve the ID of a given dataset."
   ]
  },
  {
   "cell_type": "code",
   "execution_count": 17,
   "id": "fb519f88-6985-490b-a385-c00468b46ac0",
   "metadata": {},
   "outputs": [
    {
     "data": {
      "text/plain": [
       "[{'id': 4,\n",
       "  'dataset_type': 'singlepoint',\n",
       "  'dataset_name': 'dataset_demo_5077749542'}]"
      ]
     },
     "execution_count": 17,
     "metadata": {},
     "output_type": "execute_result"
    }
   ],
   "source": [
    "client.list_datasets()"
   ]
  },
  {
   "cell_type": "code",
   "execution_count": 18,
   "id": "2d1086b8-bfc6-4609-a984-06aa95c2357f",
   "metadata": {},
   "outputs": [
    {
     "data": {
      "text/plain": [
       "4"
      ]
     },
     "execution_count": 18,
     "metadata": {},
     "output_type": "execute_result"
    }
   ],
   "source": [
    "dataset_id = client.get_dataset(\"singlepoint\", dataset_name).id\n",
    "dataset_id"
   ]
  },
  {
   "cell_type": "markdown",
   "id": "51c29fc3-6db9-4255-bf04-8c99a828863b",
   "metadata": {},
   "source": [
    "Delete the dataset and its associated records.\n",
    "\n",
    "**Warning: this step can't be reversed.**"
   ]
  },
  {
   "cell_type": "code",
   "execution_count": 32,
   "id": "f180b2d9-1084-4f71-a6f3-383cb9fd8d2c",
   "metadata": {},
   "outputs": [],
   "source": [
    "client.delete_dataset(dataset_id, delete_records=True)"
   ]
  },
  {
   "cell_type": "code",
   "execution_count": null,
   "id": "7bf16e01-e5de-4aca-b3a1-f3fc668679e4",
   "metadata": {},
   "outputs": [],
   "source": []
  }
 ],
 "metadata": {
  "kernelspec": {
   "display_name": "Python [conda env:openfractal]",
   "language": "python",
   "name": "conda-env-openfractal-py"
  },
  "language_info": {
   "codemirror_mode": {
    "name": "ipython",
    "version": 3
   },
   "file_extension": ".py",
   "mimetype": "text/x-python",
   "name": "python",
   "nbconvert_exporter": "python",
   "pygments_lexer": "ipython3",
   "version": "3.10.11"
  },
  "widgets": {
   "application/vnd.jupyter.widget-state+json": {
    "state": {},
    "version_major": 2,
    "version_minor": 0
   }
  }
 },
 "nbformat": 4,
 "nbformat_minor": 5
}
