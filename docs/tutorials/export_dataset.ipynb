{
 "cells": [
  {
   "cell_type": "markdown",
   "id": "1c715d1a-cc69-4eaf-a2fe-b04951fa0ce9",
   "metadata": {},
   "source": [
    "In this tutorial, you'll learn how to read and export records."
   ]
  },
  {
   "cell_type": "code",
   "execution_count": 1,
   "id": "f3364324-9975-4ce5-964d-50b120342f0c",
   "metadata": {},
   "outputs": [],
   "source": [
    "%load_ext autoreload\n",
    "%autoreload 2\n",
    "\n",
    "from typing import cast\n",
    "\n",
    "import os\n",
    "import dotenv\n",
    "\n",
    "from tqdm.auto import tqdm\n",
    "\n",
    "import datamol as dm\n",
    "import pandas as pd\n",
    "\n",
    "import zarr\n",
    "\n",
    "from openff.toolkit import Molecule\n",
    "import qcelemental as qcel\n",
    "from qcportal import PortalClient\n",
    "\n",
    "_ = dotenv.load_dotenv(\"../../openfractal_test_secrets.env\")"
   ]
  },
  {
   "cell_type": "markdown",
   "id": "1f9cb60b-430f-4705-ac13-3b5d83399915",
   "metadata": {},
   "source": [
    "## Initialize the client and list the datasets"
   ]
  },
  {
   "cell_type": "code",
   "execution_count": 5,
   "id": "aadb9712-5c81-4e63-8541-3b5a0443ddab",
   "metadata": {},
   "outputs": [
    {
     "data": {
      "text/plain": [
       "{'name': 'openfractal-test',\n",
       " 'manager_heartbeat_frequency': 10,\n",
       " 'manager_heartbeat_max_missed': 5,\n",
       " 'version': '0.50b11.post13+gc0062725',\n",
       " 'api_limits': {'get_records': 1000,\n",
       "  'add_records': 500,\n",
       "  'get_dataset_entries': 2000,\n",
       "  'get_molecules': 1000,\n",
       "  'add_molecules': 1000,\n",
       "  'get_managers': 1000,\n",
       "  'manager_tasks_claim': 200,\n",
       "  'manager_tasks_return': 10,\n",
       "  'get_server_stats': 25,\n",
       "  'get_access_logs': 1000,\n",
       "  'get_error_logs': 100,\n",
       "  'get_internal_jobs': 1000},\n",
       " 'client_version_lower_limit': '0.50b11',\n",
       " 'client_version_upper_limit': '1',\n",
       " 'manager_version_lower_limit': '0.50b11',\n",
       " 'manager_version_upper_limit': '1',\n",
       " 'motd': ''}"
      ]
     },
     "execution_count": 5,
     "metadata": {},
     "output_type": "execute_result"
    }
   ],
   "source": [
    "client = PortalClient(\n",
    "    address=\"https://openfractal-test-pgzbs3yryq-uc.a.run.app\",\n",
    "    username=os.environ[\"OPENFRACTAL_USER_3_USERNAME\"],\n",
    "    password=os.environ[\"OPENFRACTAL_USER_3_PASSWORD\"],\n",
    ")\n",
    "\n",
    "client.server_info"
   ]
  },
  {
   "cell_type": "markdown",
   "id": "5347e5da-7d4c-463d-ab83-173fd554c2f3",
   "metadata": {},
   "source": [
    "Let's list the available dataset."
   ]
  },
  {
   "cell_type": "code",
   "execution_count": 4,
   "id": "f49e9996-be6b-4174-b464-b580a18bc989",
   "metadata": {},
   "outputs": [
    {
     "data": {
      "text/plain": [
       "[]"
      ]
     },
     "execution_count": 4,
     "metadata": {},
     "output_type": "execute_result"
    }
   ],
   "source": [
    "client.list_datasets()"
   ]
  },
  {
   "cell_type": "markdown",
   "id": "48a834ca-e96e-429a-9b74-d5d5a5cda5f1",
   "metadata": {},
   "source": [
    "## End-to-end export to Zarr\n",
    "\n",
    "The below function is opiniated en-to-end export pipeline. It's very opiniated and probably not optimal since many of the outputs are not stored as array.\n",
    "\n",
    "Use it as a guide to export and store only the relevant informations for your usecase."
   ]
  },
  {
   "cell_type": "code",
   "execution_count": null,
   "id": "de0534e5-f5a9-460e-a63a-c632d9aab7f7",
   "metadata": {},
   "outputs": [],
   "source": [
    "def export_dataset_to_zarr(\n",
    "    client: PortalClient,\n",
    "    dataset_name: str,\n",
    "    dataset_type: str,\n",
    "    output_file: str,\n",
    "    chunksize: int = 1_000,\n",
    "    progress: bool = True,\n",
    "    progress_leave: bool = False,\n",
    "):\n",
    "    # This could be easily parallelized if we want to.\n",
    "    # Parallelization will not work if using ZIP.\n",
    "\n",
    "    # Get the dataset\n",
    "    ds = client.get_dataset(dataset_type=dataset_type, dataset_name=dataset_name)\n",
    "\n",
    "    root = zarr.open(output_file, mode=\"w\")\n",
    "    root = cast(zarr.Group, root)\n",
    "    molecules_group = root.create_group(\"/molecules\")\n",
    "\n",
    "    for i in tqdm(\n",
    "        range(0, len(ds.entry_names), chunksize),\n",
    "        disable=not progress,\n",
    "        leave=progress_leave,\n",
    "    ):\n",
    "        # Pull completed records for those entry names\n",
    "        chunk_entry_names = ds.entry_names[i : i + chunksize]\n",
    "        records = ds.iterate_records(\n",
    "            entry_names=chunk_entry_names, status=\"complete\", force_refetch=True\n",
    "        )\n",
    "\n",
    "        for entry_name, specification_name, record in records:\n",
    "            # Fetch molecule\n",
    "            record.molecule\n",
    "            # Fetch wavefunction\n",
    "            record.wavefunction\n",
    "            # Fetch compute_history\n",
    "            record.compute_history_  # consider not fetching it\n",
    "\n",
    "            # Get dict\n",
    "            record_dict = record.dict()\n",
    "\n",
    "            # Get infos about the molecule (3D system)\n",
    "            mol = record_dict[\"molecule_\"]\n",
    "\n",
    "            smiles = mol[\"extras\"][\"canonical_isomeric_explicit_hydrogen_mapped_smiles\"]\n",
    "            molecule_hash = mol[\"identifiers\"][\"molecule_hash\"]\n",
    "            conformations = mol[\"geometry\"]\n",
    "\n",
    "            # Get a group for that molecule\n",
    "            if molecule_hash in molecules_group:\n",
    "                molecule_group = molecules_group[molecule_hash]\n",
    "            else:\n",
    "                molecule_group = molecules_group.create_group(molecule_hash)\n",
    "\n",
    "            # Save infos about the molecule\n",
    "            molecule_group.attrs[\"smiles\"] = smiles\n",
    "            molecule_group.attrs[\"molecule_hash\"] = molecule_hash\n",
    "            molecule_group[\"conformations\"] = conformations\n",
    "\n",
    "            # Get group for all the specifications for that molecule\n",
    "            if \"specifications\" in molecule_group:\n",
    "                specifications_group = molecule_group[\"specifications\"]\n",
    "            else:\n",
    "                specifications_group = molecule_group.create_group(\"specifications\")\n",
    "\n",
    "            # Get a group for that specification\n",
    "            if specification_name in specifications_group:\n",
    "                raise ValueError(\n",
    "                    f\"The specification '{specification_name}' already exists.\"\n",
    "                )\n",
    "            else:\n",
    "                specification_group = specifications_group.create_group(\n",
    "                    specification_name\n",
    "                )\n",
    "\n",
    "            specification_group.attrs[\"entry_name\"] = entry_name\n",
    "            specification_group.attrs[\"specification_name\"] = specification_name\n",
    "\n",
    "            # Save the infos of the specification as attributes\n",
    "            specification_group.attrs[\"id\"] = record_dict[\"id\"]\n",
    "            specification_group.attrs[\"record_type\"] = record_dict[\"record_type\"]\n",
    "            specification_group.attrs[\"is_service\"] = record_dict[\"is_service\"]\n",
    "            specification_group.attrs[\"extras\"] = record_dict[\"extras\"]\n",
    "            specification_group.attrs[\"status\"] = record_dict[\"status\"]\n",
    "            specification_group.attrs[\"manager_name\"] = record_dict[\"manager_name\"]\n",
    "            specification_group.attrs[\"created_on\"] = record_dict[\n",
    "                \"created_on\"\n",
    "            ].isoformat()\n",
    "            specification_group.attrs[\"modified_on\"] = record_dict[\n",
    "                \"modified_on\"\n",
    "            ].isoformat()\n",
    "            specification_group.attrs[\"owner_user\"] = record_dict[\"owner_user\"]\n",
    "            specification_group.attrs[\"owner_group\"] = record_dict[\"owner_group\"]\n",
    "            specification_group.attrs[\"compute_history_\"] = record_dict[\n",
    "                \"compute_history_\"\n",
    "            ]\n",
    "            specification_group.attrs[\"task_\"] = record_dict[\"task_\"]\n",
    "            specification_group.attrs[\"service_\"] = record_dict[\"service_\"]\n",
    "            specification_group.attrs[\"comments_\"] = record_dict[\"comments_\"]\n",
    "            specification_group.attrs[\"native_files_\"] = record_dict[\"native_files_\"]\n",
    "            specification_group.attrs[\"molecule_id\"] = record_dict[\"molecule_id\"]\n",
    "\n",
    "            # For now we save the QM properties and the wavefunction as attributes as well.\n",
    "            # This is obviously NOT IDEAL.\n",
    "            specification_group.attrs[\"wavefunction_\"] = record_dict[\"specification\"]\n",
    "            specification_group.attrs[\"properties\"] = record_dict[\"properties\"]\n",
    "\n",
    "    # Cleanup (only needed when zip file)\n",
    "    root.store.close()\n",
    "\n",
    "    return root"
   ]
  },
  {
   "cell_type": "code",
   "execution_count": 92,
   "id": "d8cb21db-4639-4406-8696-912ea465e55a",
   "metadata": {},
   "outputs": [
    {
     "data": {
      "application/vnd.jupyter.widget-view+json": {
       "model_id": "9dadcc0498654bdfa63f2def2806d6ef",
       "version_major": 2,
       "version_minor": 0
      },
      "text/plain": [
       "  0%|          | 0/1 [00:00<?, ?it/s]"
      ]
     },
     "metadata": {},
     "output_type": "display_data"
    }
   ],
   "source": [
    "root = export_dataset_to_zarr(\n",
    "    client=client,\n",
    "    dataset_name=\"dataset_1\",\n",
    "    dataset_type=\"singlepoint\",\n",
    "    output_file=\"/home/hadim/Data/openfractal/export_test.zarr\",\n",
    "    chunksize=1_000,\n",
    ")"
   ]
  },
  {
   "cell_type": "code",
   "execution_count": 86,
   "id": "a51466f2-e38e-4bd4-9fb5-cd4a49af42e9",
   "metadata": {},
   "outputs": [],
   "source": []
  }
 ],
 "metadata": {
  "kernelspec": {
   "display_name": "Python [conda env:openfractal_backend]",
   "language": "python",
   "name": "conda-env-openfractal_backend-py"
  },
  "language_info": {
   "codemirror_mode": {
    "name": "ipython",
    "version": 3
   },
   "file_extension": ".py",
   "mimetype": "text/x-python",
   "name": "python",
   "nbconvert_exporter": "python",
   "pygments_lexer": "ipython3",
   "version": "3.10.11"
  },
  "widgets": {
   "application/vnd.jupyter.widget-state+json": {
    "state": {},
    "version_major": 2,
    "version_minor": 0
   }
  }
 },
 "nbformat": 4,
 "nbformat_minor": 5
}
